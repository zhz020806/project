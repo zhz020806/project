{
  "cells": [
    {
      "cell_type": "markdown",
      "metadata": {
        "id": "Yt3UGeQfHxSd"
      },
      "source": [
        "#<center> **BA476: FINAL PROJECT**\n",
        "##<center> **Project Title: Predicting College Prospect Performance in the NBA**\n",
        "\n",
        "###<center> Team members: Cameron Anderegg, Vy Nguyen, Beverly Liu, Anqi Chen, Zhi Zhang\n",
        "\n",
        "\n",
        "\n"
      ]
    },
    {
      "cell_type": "code",
      "execution_count": 1,
      "metadata": {
        "id": "inhe3O62Pdky"
      },
      "outputs": [],
      "source": [
        "import pandas as pd\n",
        "import numpy as np\n",
        "import matplotlib.pyplot as plt\n",
        "import random"
      ]
    },
    {
      "cell_type": "markdown",
      "metadata": {
        "id": "0E0vebmBKcSi"
      },
      "source": [
        "# 1. Data Preparation\n",
        "\n",
        "Our data preparation started by pulling data from SportsDataIO. We called an API to get access to the detailed statistics of NBA and College basketball players. The code below shows how we called API and got our raw data."
      ]
    },
    {
      "cell_type": "code",
      "execution_count": 2,
      "metadata": {
        "id": "Q8swOTtyK_-a"
      },
      "outputs": [],
      "source": [
        "# import requests\n",
        "# import json\n",
        "# from collections import defaultdict\n",
        "# import pandas as pd\n",
        "# from google.colab import files\n",
        "\n",
        "# cbb_api_key = '4ec18210831544d8b77bdaad163d1c23'\n",
        "# nba_api_key = '0bff836595f54a06b292079f8a62b23c'\n",
        "\n",
        "# finalCBB = defaultdict(lambda: defaultdict(lambda: defaultdict(dict)))\n",
        "# rookieNBA = defaultdict(dict)\n",
        "\n",
        "# previous_nba_json_data = []\n",
        "\n",
        "# cbb_year = 2015\n",
        "# nba_year = 2016\n",
        "\n",
        "# for i in range(10):\n",
        "#     cbb_year = cbb_year + 1\n",
        "#     nba_year = nba_year + 1\n",
        "\n",
        "#     cbb_url = f'https://api.sportsdata.io/v3/cbb/stats/json/PlayerSeasonStats/{str(cbb_year)}?key={cbb_api_key}'\n",
        "#     nba_url = f'https://api.sportsdata.io/v3/nba/stats/json/PlayerSeasonStats/{str(nba_year)}?key={nba_api_key}'\n",
        "\n",
        "#     cbb_response = requests.get(cbb_url)\n",
        "#     cbb_json_data = json.loads(cbb_response.text)\n",
        "\n",
        "#     nba_response = requests.get(nba_url)\n",
        "#     nba_json_data = json.loads(nba_response.text)\n",
        "\n",
        "#     cbb_data_slices = [cbb_json_data[i:i + 500] for i in range(0, len(cbb_json_data), 500)]\n",
        "\n",
        "#     for idx, data_slice in enumerate(cbb_data_slices):\n",
        "#         key = f\"{cbb_year}-{idx * 500}-{(idx + 1) * 500}\"\n",
        "#         for player in data_slice:\n",
        "#             finalCBB[cbb_year][key][player['Name']] = player\n",
        "\n",
        "#     previous_nba_names = set([player['Name'] for player in previous_nba_json_data])\n",
        "#     nba_rookies = [player for player in nba_json_data if player['Name'] not in previous_nba_names]\n",
        "\n",
        "#     cbb_data_by_name = defaultdict(list)\n",
        "#     for player in cbb_json_data:\n",
        "#         cbb_data_by_name[player['Name']].append(player)\n",
        "\n",
        "#     for rookie in nba_rookies:\n",
        "#         name = rookie['Name']\n",
        "#         cbb_players = cbb_data_by_name[name]\n",
        "\n",
        "#         if len(cbb_players) == 0:\n",
        "#             continue\n",
        "#         elif len(cbb_players) > 1:\n",
        "#             print(name, \"doubled up!!!\")\n",
        "#             continue\n",
        "\n",
        "#         cbb_player = cbb_players[0]\n",
        "#         rookieNBA[nba_year][name] = rookie\n",
        "\n",
        "#     previous_nba_json_data = nba_json_data\n",
        "\n",
        "\n",
        "# # Flatten the dictionaries\n",
        "# flat_finalCBB = []\n",
        "# flat_rookieNBA = []\n",
        "\n",
        "# # Create DataFrames for CBB and NBA data\n",
        "# cbb_df = pd.DataFrame([player_data for inner_inner_dict in finalCBB.values() for inner_inner_dict in inner_inner_dict.values() for player_data in inner_inner_dict.values()])\n",
        "# nba_df = pd.DataFrame([player_data for inner_dict in rookieNBA.values() for player_data in inner_dict.values()])\n",
        "\n",
        "# for year, inner_dict in finalCBB.items():\n",
        "#     for key, inner_inner_dict in inner_dict.items():\n",
        "#         for player_name, player_data in inner_inner_dict.items():\n",
        "#             flat_finalCBB.append(player_data)\n",
        "\n",
        "# for year, inner_dict in rookieNBA.items():\n",
        "#     for player_name, player_data in inner_dict.items():\n",
        "#         flat_rookieNBA.append(player_data)\n",
        "\n",
        "# # Find the shared columns between the CBB and NBA DataFrames\n",
        "# shared_columns = list(set(cbb_df.columns) & set(nba_df.columns))\n",
        "\n",
        "# # Combine college and NBA stats for each player\n",
        "# combined_data = []\n",
        "# processed_players = set()\n",
        "\n",
        "# for cbb_player in flat_finalCBB:\n",
        "#     player_name = cbb_player['Name']\n",
        "\n",
        "#     if player_name in processed_players:\n",
        "#         continue\n",
        "\n",
        "#     # Search for the corresponding NBA player in the flat_rookieNBA list\n",
        "#     nba_player = next((player for player in flat_rookieNBA if player['Name'] == player_name), None)\n",
        "\n",
        "#     if nba_player:\n",
        "#         player_data_cbb = {k: cbb_player[k] for k in shared_columns}\n",
        "#         player_data_nba = {k: nba_player[k] for k in shared_columns}\n",
        "#         player_data_cbb['Name'] = cbb_player['Name'] + \"-C\"\n",
        "#         player_data_nba['Name'] = nba_player['Name'] + \"-N\"\n",
        "#         combined_data.append(player_data_cbb)\n",
        "#         combined_data.append(player_data_nba)\n",
        "#         processed_players.add(player_name)\n",
        "\n",
        "# # Create a new DataFrame with the combined data\n",
        "# combined_df = pd.DataFrame(combined_data)\n",
        "\n",
        "# # Reorder the columns to have 'Name' as the leftmost column\n",
        "# ordered_columns = ['Name'] + [col for col in shared_columns if col != 'Name']\n",
        "# combined_df = combined_df[ordered_columns]\n",
        "\n",
        "# # Save the combined DataFrame to a CSV file\n",
        "# combined_df.to_csv('combined_data.csv', index=False)\n",
        "\n",
        "# # Download the CSV file to your local machine (if using Google Colab)\n",
        "# files.download('combined_data.csv')"
      ]
    },
    {
      "cell_type": "markdown",
      "metadata": {
        "id": "6-ouXFfPNFTk"
      },
      "source": [
        "##### Data Wrangling:\n",
        "- We used dictionaries to manage all the json data. We merged data from two data sources (NBA and CBB) into one file based on player_name. Then, we converted it into tabular form for easier use, which is in .csv format.\n",
        "- The 'combined_data.csv' file contains all statistics of NBA and College basketball players from year 2016 to 2023.  \n",
        "\n",
        "##### Data Cleaning:\n",
        "- For each player in a NBA season, we filtered his basketball statistics of the most recent college year prior to that NBA season.\n",
        "- We dropped all features that are not useful for our prediction, such as TeamID, PlayerID, etc. We only kept few NBA statistics that could best present the performance of players in NBA career, such as \"Minutes\" and \"PlayerEfficiencyRating-NBA\".\n",
        "- We also removed statistics relating to NBA Season 2020 to get rid of the COVID-19 effect.\n",
        "- Our final dataset contains 36 variables and 472 observations."
      ]
    },
    {
      "cell_type": "markdown",
      "metadata": {
        "id": "RYyY-HrrSgRM"
      },
      "source": [
        "#### Loading and exploring the final dataset"
      ]
    },
    {
      "cell_type": "code",
      "execution_count": 3,
      "metadata": {
        "colab": {
          "base_uri": "https://localhost:8080/",
          "height": 378
        },
        "id": "uLtcDMiYPdk0",
        "outputId": "5679ffe9-0803-4e2f-94f6-8a8378162bfb"
      },
      "outputs": [
        {
          "output_type": "stream",
          "name": "stdout",
          "text": [
            "Mounted at /content/drive\n"
          ]
        },
        {
          "output_type": "execute_result",
          "data": {
            "text/plain": [
              "              Name  EffectiveFieldGoalsPercentage-CBB  \\\n",
              "0   Gary Trent Jr.                               75.4   \n",
              "1       Trae Young                               73.8   \n",
              "2    Jacob Gilyard                               79.1   \n",
              "3  De'Andre Hunter                               51.0   \n",
              "4     Jordan Poole                               77.3   \n",
              "\n",
              "   FreeThrowsPercentage-CBB  OffensiveRebounds-CBB  \\\n",
              "0                  0.860465                     37   \n",
              "1                  0.860526                     19   \n",
              "2                  0.833333                     21   \n",
              "3                  0.833333                     12   \n",
              "4                  0.828125                      6   \n",
              "\n",
              "   ThreePointersPercentage-CBB  FantasyPointsFanDuel-CBB Position-CBB  \\\n",
              "0                     0.412969                    1078.3            G   \n",
              "1                     0.359649                    1941.4            G   \n",
              "2                     0.384259                    1099.3            G   \n",
              "3                     0.500000                      81.0            F   \n",
              "4                     0.366906                     447.2            G   \n",
              "\n",
              "   Assists-CBB  Games-CBB  TrueShootingPercentage-CBB  ...  BlockedShots-CBB  \\\n",
              "0           67         33                        82.0  ...                 8   \n",
              "1          387         31                        84.4  ...                11   \n",
              "2          186         32                        84.4  ...                 2   \n",
              "3            6         15                        58.5  ...                 6   \n",
              "4           29         32                        83.5  ...                12   \n",
              "\n",
              "   TwoPointersPercentage-CBB FieldGoalsPercentage-CBB  FreeThrowsMade-CBB  \\\n",
              "0                   0.417722                 0.415094                 111   \n",
              "1                   0.488778                 0.420070                 327   \n",
              "2                   0.527174                 0.450000                  80   \n",
              "3                   0.125000                 0.350000                  10   \n",
              "4                   0.511628                 0.428571                  53   \n",
              "\n",
              "   TwoPointersMade-CBB  FantasyPoints-CBB  Minutes-CBB  \\\n",
              "0                   99             1078.3         1575   \n",
              "1                  196             1941.4         1562   \n",
              "2                   97             1099.3         1665   \n",
              "3                    2               81.0          133   \n",
              "4                   44              447.2          605   \n",
              "\n",
              "   PlayerEfficiencyRating-NBA  Season-NBA  Train  \n",
              "0                         0.7        2019  train  \n",
              "1                         2.9        2019  train  \n",
              "2                        10.6        2023   test  \n",
              "3                         2.5        2020  train  \n",
              "4                         2.2        2020  train  \n",
              "\n",
              "[5 rows x 36 columns]"
            ],
            "text/html": [
              "\n",
              "  <div id=\"df-13f0323a-7e50-42c9-a7e9-ce6bac9ce514\" class=\"colab-df-container\">\n",
              "    <div>\n",
              "<style scoped>\n",
              "    .dataframe tbody tr th:only-of-type {\n",
              "        vertical-align: middle;\n",
              "    }\n",
              "\n",
              "    .dataframe tbody tr th {\n",
              "        vertical-align: top;\n",
              "    }\n",
              "\n",
              "    .dataframe thead th {\n",
              "        text-align: right;\n",
              "    }\n",
              "</style>\n",
              "<table border=\"1\" class=\"dataframe\">\n",
              "  <thead>\n",
              "    <tr style=\"text-align: right;\">\n",
              "      <th></th>\n",
              "      <th>Name</th>\n",
              "      <th>EffectiveFieldGoalsPercentage-CBB</th>\n",
              "      <th>FreeThrowsPercentage-CBB</th>\n",
              "      <th>OffensiveRebounds-CBB</th>\n",
              "      <th>ThreePointersPercentage-CBB</th>\n",
              "      <th>FantasyPointsFanDuel-CBB</th>\n",
              "      <th>Position-CBB</th>\n",
              "      <th>Assists-CBB</th>\n",
              "      <th>Games-CBB</th>\n",
              "      <th>TrueShootingPercentage-CBB</th>\n",
              "      <th>...</th>\n",
              "      <th>BlockedShots-CBB</th>\n",
              "      <th>TwoPointersPercentage-CBB</th>\n",
              "      <th>FieldGoalsPercentage-CBB</th>\n",
              "      <th>FreeThrowsMade-CBB</th>\n",
              "      <th>TwoPointersMade-CBB</th>\n",
              "      <th>FantasyPoints-CBB</th>\n",
              "      <th>Minutes-CBB</th>\n",
              "      <th>PlayerEfficiencyRating-NBA</th>\n",
              "      <th>Season-NBA</th>\n",
              "      <th>Train</th>\n",
              "    </tr>\n",
              "  </thead>\n",
              "  <tbody>\n",
              "    <tr>\n",
              "      <th>0</th>\n",
              "      <td>Gary Trent Jr.</td>\n",
              "      <td>75.4</td>\n",
              "      <td>0.860465</td>\n",
              "      <td>37</td>\n",
              "      <td>0.412969</td>\n",
              "      <td>1078.3</td>\n",
              "      <td>G</td>\n",
              "      <td>67</td>\n",
              "      <td>33</td>\n",
              "      <td>82.0</td>\n",
              "      <td>...</td>\n",
              "      <td>8</td>\n",
              "      <td>0.417722</td>\n",
              "      <td>0.415094</td>\n",
              "      <td>111</td>\n",
              "      <td>99</td>\n",
              "      <td>1078.3</td>\n",
              "      <td>1575</td>\n",
              "      <td>0.7</td>\n",
              "      <td>2019</td>\n",
              "      <td>train</td>\n",
              "    </tr>\n",
              "    <tr>\n",
              "      <th>1</th>\n",
              "      <td>Trae Young</td>\n",
              "      <td>73.8</td>\n",
              "      <td>0.860526</td>\n",
              "      <td>19</td>\n",
              "      <td>0.359649</td>\n",
              "      <td>1941.4</td>\n",
              "      <td>G</td>\n",
              "      <td>387</td>\n",
              "      <td>31</td>\n",
              "      <td>84.4</td>\n",
              "      <td>...</td>\n",
              "      <td>11</td>\n",
              "      <td>0.488778</td>\n",
              "      <td>0.420070</td>\n",
              "      <td>327</td>\n",
              "      <td>196</td>\n",
              "      <td>1941.4</td>\n",
              "      <td>1562</td>\n",
              "      <td>2.9</td>\n",
              "      <td>2019</td>\n",
              "      <td>train</td>\n",
              "    </tr>\n",
              "    <tr>\n",
              "      <th>2</th>\n",
              "      <td>Jacob Gilyard</td>\n",
              "      <td>79.1</td>\n",
              "      <td>0.833333</td>\n",
              "      <td>21</td>\n",
              "      <td>0.384259</td>\n",
              "      <td>1099.3</td>\n",
              "      <td>G</td>\n",
              "      <td>186</td>\n",
              "      <td>32</td>\n",
              "      <td>84.4</td>\n",
              "      <td>...</td>\n",
              "      <td>2</td>\n",
              "      <td>0.527174</td>\n",
              "      <td>0.450000</td>\n",
              "      <td>80</td>\n",
              "      <td>97</td>\n",
              "      <td>1099.3</td>\n",
              "      <td>1665</td>\n",
              "      <td>10.6</td>\n",
              "      <td>2023</td>\n",
              "      <td>test</td>\n",
              "    </tr>\n",
              "    <tr>\n",
              "      <th>3</th>\n",
              "      <td>De'Andre Hunter</td>\n",
              "      <td>51.0</td>\n",
              "      <td>0.833333</td>\n",
              "      <td>12</td>\n",
              "      <td>0.500000</td>\n",
              "      <td>81.0</td>\n",
              "      <td>F</td>\n",
              "      <td>6</td>\n",
              "      <td>15</td>\n",
              "      <td>58.5</td>\n",
              "      <td>...</td>\n",
              "      <td>6</td>\n",
              "      <td>0.125000</td>\n",
              "      <td>0.350000</td>\n",
              "      <td>10</td>\n",
              "      <td>2</td>\n",
              "      <td>81.0</td>\n",
              "      <td>133</td>\n",
              "      <td>2.5</td>\n",
              "      <td>2020</td>\n",
              "      <td>train</td>\n",
              "    </tr>\n",
              "    <tr>\n",
              "      <th>4</th>\n",
              "      <td>Jordan Poole</td>\n",
              "      <td>77.3</td>\n",
              "      <td>0.828125</td>\n",
              "      <td>6</td>\n",
              "      <td>0.366906</td>\n",
              "      <td>447.2</td>\n",
              "      <td>G</td>\n",
              "      <td>29</td>\n",
              "      <td>32</td>\n",
              "      <td>83.5</td>\n",
              "      <td>...</td>\n",
              "      <td>12</td>\n",
              "      <td>0.511628</td>\n",
              "      <td>0.428571</td>\n",
              "      <td>53</td>\n",
              "      <td>44</td>\n",
              "      <td>447.2</td>\n",
              "      <td>605</td>\n",
              "      <td>2.2</td>\n",
              "      <td>2020</td>\n",
              "      <td>train</td>\n",
              "    </tr>\n",
              "  </tbody>\n",
              "</table>\n",
              "<p>5 rows × 36 columns</p>\n",
              "</div>\n",
              "    <div class=\"colab-df-buttons\">\n",
              "\n",
              "  <div class=\"colab-df-container\">\n",
              "    <button class=\"colab-df-convert\" onclick=\"convertToInteractive('df-13f0323a-7e50-42c9-a7e9-ce6bac9ce514')\"\n",
              "            title=\"Convert this dataframe to an interactive table.\"\n",
              "            style=\"display:none;\">\n",
              "\n",
              "  <svg xmlns=\"http://www.w3.org/2000/svg\" height=\"24px\" viewBox=\"0 -960 960 960\">\n",
              "    <path d=\"M120-120v-720h720v720H120Zm60-500h600v-160H180v160Zm220 220h160v-160H400v160Zm0 220h160v-160H400v160ZM180-400h160v-160H180v160Zm440 0h160v-160H620v160ZM180-180h160v-160H180v160Zm440 0h160v-160H620v160Z\"/>\n",
              "  </svg>\n",
              "    </button>\n",
              "\n",
              "  <style>\n",
              "    .colab-df-container {\n",
              "      display:flex;\n",
              "      gap: 12px;\n",
              "    }\n",
              "\n",
              "    .colab-df-convert {\n",
              "      background-color: #E8F0FE;\n",
              "      border: none;\n",
              "      border-radius: 50%;\n",
              "      cursor: pointer;\n",
              "      display: none;\n",
              "      fill: #1967D2;\n",
              "      height: 32px;\n",
              "      padding: 0 0 0 0;\n",
              "      width: 32px;\n",
              "    }\n",
              "\n",
              "    .colab-df-convert:hover {\n",
              "      background-color: #E2EBFA;\n",
              "      box-shadow: 0px 1px 2px rgba(60, 64, 67, 0.3), 0px 1px 3px 1px rgba(60, 64, 67, 0.15);\n",
              "      fill: #174EA6;\n",
              "    }\n",
              "\n",
              "    .colab-df-buttons div {\n",
              "      margin-bottom: 4px;\n",
              "    }\n",
              "\n",
              "    [theme=dark] .colab-df-convert {\n",
              "      background-color: #3B4455;\n",
              "      fill: #D2E3FC;\n",
              "    }\n",
              "\n",
              "    [theme=dark] .colab-df-convert:hover {\n",
              "      background-color: #434B5C;\n",
              "      box-shadow: 0px 1px 3px 1px rgba(0, 0, 0, 0.15);\n",
              "      filter: drop-shadow(0px 1px 2px rgba(0, 0, 0, 0.3));\n",
              "      fill: #FFFFFF;\n",
              "    }\n",
              "  </style>\n",
              "\n",
              "    <script>\n",
              "      const buttonEl =\n",
              "        document.querySelector('#df-13f0323a-7e50-42c9-a7e9-ce6bac9ce514 button.colab-df-convert');\n",
              "      buttonEl.style.display =\n",
              "        google.colab.kernel.accessAllowed ? 'block' : 'none';\n",
              "\n",
              "      async function convertToInteractive(key) {\n",
              "        const element = document.querySelector('#df-13f0323a-7e50-42c9-a7e9-ce6bac9ce514');\n",
              "        const dataTable =\n",
              "          await google.colab.kernel.invokeFunction('convertToInteractive',\n",
              "                                                    [key], {});\n",
              "        if (!dataTable) return;\n",
              "\n",
              "        const docLinkHtml = 'Like what you see? Visit the ' +\n",
              "          '<a target=\"_blank\" href=https://colab.research.google.com/notebooks/data_table.ipynb>data table notebook</a>'\n",
              "          + ' to learn more about interactive tables.';\n",
              "        element.innerHTML = '';\n",
              "        dataTable['output_type'] = 'display_data';\n",
              "        await google.colab.output.renderOutput(dataTable, element);\n",
              "        const docLink = document.createElement('div');\n",
              "        docLink.innerHTML = docLinkHtml;\n",
              "        element.appendChild(docLink);\n",
              "      }\n",
              "    </script>\n",
              "  </div>\n",
              "\n",
              "\n",
              "<div id=\"df-44442b30-f5a0-4e2d-b244-e3e1fa7e26dd\">\n",
              "  <button class=\"colab-df-quickchart\" onclick=\"quickchart('df-44442b30-f5a0-4e2d-b244-e3e1fa7e26dd')\"\n",
              "            title=\"Suggest charts\"\n",
              "            style=\"display:none;\">\n",
              "\n",
              "<svg xmlns=\"http://www.w3.org/2000/svg\" height=\"24px\"viewBox=\"0 0 24 24\"\n",
              "     width=\"24px\">\n",
              "    <g>\n",
              "        <path d=\"M19 3H5c-1.1 0-2 .9-2 2v14c0 1.1.9 2 2 2h14c1.1 0 2-.9 2-2V5c0-1.1-.9-2-2-2zM9 17H7v-7h2v7zm4 0h-2V7h2v10zm4 0h-2v-4h2v4z\"/>\n",
              "    </g>\n",
              "</svg>\n",
              "  </button>\n",
              "\n",
              "<style>\n",
              "  .colab-df-quickchart {\n",
              "      --bg-color: #E8F0FE;\n",
              "      --fill-color: #1967D2;\n",
              "      --hover-bg-color: #E2EBFA;\n",
              "      --hover-fill-color: #174EA6;\n",
              "      --disabled-fill-color: #AAA;\n",
              "      --disabled-bg-color: #DDD;\n",
              "  }\n",
              "\n",
              "  [theme=dark] .colab-df-quickchart {\n",
              "      --bg-color: #3B4455;\n",
              "      --fill-color: #D2E3FC;\n",
              "      --hover-bg-color: #434B5C;\n",
              "      --hover-fill-color: #FFFFFF;\n",
              "      --disabled-bg-color: #3B4455;\n",
              "      --disabled-fill-color: #666;\n",
              "  }\n",
              "\n",
              "  .colab-df-quickchart {\n",
              "    background-color: var(--bg-color);\n",
              "    border: none;\n",
              "    border-radius: 50%;\n",
              "    cursor: pointer;\n",
              "    display: none;\n",
              "    fill: var(--fill-color);\n",
              "    height: 32px;\n",
              "    padding: 0;\n",
              "    width: 32px;\n",
              "  }\n",
              "\n",
              "  .colab-df-quickchart:hover {\n",
              "    background-color: var(--hover-bg-color);\n",
              "    box-shadow: 0 1px 2px rgba(60, 64, 67, 0.3), 0 1px 3px 1px rgba(60, 64, 67, 0.15);\n",
              "    fill: var(--button-hover-fill-color);\n",
              "  }\n",
              "\n",
              "  .colab-df-quickchart-complete:disabled,\n",
              "  .colab-df-quickchart-complete:disabled:hover {\n",
              "    background-color: var(--disabled-bg-color);\n",
              "    fill: var(--disabled-fill-color);\n",
              "    box-shadow: none;\n",
              "  }\n",
              "\n",
              "  .colab-df-spinner {\n",
              "    border: 2px solid var(--fill-color);\n",
              "    border-color: transparent;\n",
              "    border-bottom-color: var(--fill-color);\n",
              "    animation:\n",
              "      spin 1s steps(1) infinite;\n",
              "  }\n",
              "\n",
              "  @keyframes spin {\n",
              "    0% {\n",
              "      border-color: transparent;\n",
              "      border-bottom-color: var(--fill-color);\n",
              "      border-left-color: var(--fill-color);\n",
              "    }\n",
              "    20% {\n",
              "      border-color: transparent;\n",
              "      border-left-color: var(--fill-color);\n",
              "      border-top-color: var(--fill-color);\n",
              "    }\n",
              "    30% {\n",
              "      border-color: transparent;\n",
              "      border-left-color: var(--fill-color);\n",
              "      border-top-color: var(--fill-color);\n",
              "      border-right-color: var(--fill-color);\n",
              "    }\n",
              "    40% {\n",
              "      border-color: transparent;\n",
              "      border-right-color: var(--fill-color);\n",
              "      border-top-color: var(--fill-color);\n",
              "    }\n",
              "    60% {\n",
              "      border-color: transparent;\n",
              "      border-right-color: var(--fill-color);\n",
              "    }\n",
              "    80% {\n",
              "      border-color: transparent;\n",
              "      border-right-color: var(--fill-color);\n",
              "      border-bottom-color: var(--fill-color);\n",
              "    }\n",
              "    90% {\n",
              "      border-color: transparent;\n",
              "      border-bottom-color: var(--fill-color);\n",
              "    }\n",
              "  }\n",
              "</style>\n",
              "\n",
              "  <script>\n",
              "    async function quickchart(key) {\n",
              "      const quickchartButtonEl =\n",
              "        document.querySelector('#' + key + ' button');\n",
              "      quickchartButtonEl.disabled = true;  // To prevent multiple clicks.\n",
              "      quickchartButtonEl.classList.add('colab-df-spinner');\n",
              "      try {\n",
              "        const charts = await google.colab.kernel.invokeFunction(\n",
              "            'suggestCharts', [key], {});\n",
              "      } catch (error) {\n",
              "        console.error('Error during call to suggestCharts:', error);\n",
              "      }\n",
              "      quickchartButtonEl.classList.remove('colab-df-spinner');\n",
              "      quickchartButtonEl.classList.add('colab-df-quickchart-complete');\n",
              "    }\n",
              "    (() => {\n",
              "      let quickchartButtonEl =\n",
              "        document.querySelector('#df-44442b30-f5a0-4e2d-b244-e3e1fa7e26dd button');\n",
              "      quickchartButtonEl.style.display =\n",
              "        google.colab.kernel.accessAllowed ? 'block' : 'none';\n",
              "    })();\n",
              "  </script>\n",
              "</div>\n",
              "    </div>\n",
              "  </div>\n"
            ]
          },
          "metadata": {},
          "execution_count": 3
        }
      ],
      "source": [
        "from google.colab import drive\n",
        "drive.mount('/content/drive')\n",
        "\n",
        "#df = pd.read_csv('/content/drive/Shareddrives/BA476 Team 4/final_dataset.csv')\n",
        "df = pd.read_csv('/content/drive/Shareddrives/BA476 Team 4/Team4_dataset.csv')\n",
        "df.head()"
      ]
    },
    {
      "cell_type": "code",
      "execution_count": 4,
      "metadata": {
        "colab": {
          "base_uri": "https://localhost:8080/"
        },
        "id": "4Rdhclz9Pdk1",
        "outputId": "8c7c581c-fc40-4d5e-8b76-e1abbcfb27b7"
      },
      "outputs": [
        {
          "output_type": "execute_result",
          "data": {
            "text/plain": [
              "Index(['Name', 'EffectiveFieldGoalsPercentage-CBB', 'FreeThrowsPercentage-CBB',\n",
              "       'OffensiveRebounds-CBB', 'ThreePointersPercentage-CBB',\n",
              "       'FantasyPointsFanDuel-CBB', 'Position-CBB', 'Assists-CBB', 'Games-CBB',\n",
              "       'TrueShootingPercentage-CBB', 'PersonalFouls-CBB', 'Steals-CBB',\n",
              "       'Team-CBB', 'ThreePointersAttempted-CBB', 'FieldGoalsMade-CBB',\n",
              "       'TwoPointersAttempted-CBB', 'FantasyPointsDraftKings-CBB', 'Points-CBB',\n",
              "       'Season-CBB', 'FieldGoalsAttempted-CBB', 'FreeThrowsAttempted-CBB',\n",
              "       'DefensiveRebounds-CBB', 'Rebounds-CBB', 'TrueShootingAttempts-CBB',\n",
              "       'Turnovers-CBB', 'ThreePointersMade-CBB', 'BlockedShots-CBB',\n",
              "       'TwoPointersPercentage-CBB', 'FieldGoalsPercentage-CBB',\n",
              "       'FreeThrowsMade-CBB', 'TwoPointersMade-CBB', 'FantasyPoints-CBB',\n",
              "       'Minutes-CBB', 'PlayerEfficiencyRating-NBA', 'Season-NBA', 'Train'],\n",
              "      dtype='object')"
            ]
          },
          "metadata": {},
          "execution_count": 4
        }
      ],
      "source": [
        "df.columns"
      ]
    },
    {
      "cell_type": "code",
      "execution_count": 5,
      "metadata": {
        "colab": {
          "base_uri": "https://localhost:8080/"
        },
        "id": "ELtXanvFPdk1",
        "outputId": "c941a673-5995-4a73-a58b-dd8ca2852f29"
      },
      "outputs": [
        {
          "output_type": "stream",
          "name": "stdout",
          "text": [
            "<class 'pandas.core.frame.DataFrame'>\n",
            "RangeIndex: 472 entries, 0 to 471\n",
            "Data columns (total 36 columns):\n",
            " #   Column                             Non-Null Count  Dtype  \n",
            "---  ------                             --------------  -----  \n",
            " 0   Name                               472 non-null    object \n",
            " 1   EffectiveFieldGoalsPercentage-CBB  472 non-null    float64\n",
            " 2   FreeThrowsPercentage-CBB           472 non-null    float64\n",
            " 3   OffensiveRebounds-CBB              472 non-null    int64  \n",
            " 4   ThreePointersPercentage-CBB        472 non-null    float64\n",
            " 5   FantasyPointsFanDuel-CBB           472 non-null    float64\n",
            " 6   Position-CBB                       470 non-null    object \n",
            " 7   Assists-CBB                        472 non-null    int64  \n",
            " 8   Games-CBB                          472 non-null    int64  \n",
            " 9   TrueShootingPercentage-CBB         472 non-null    float64\n",
            " 10  PersonalFouls-CBB                  472 non-null    int64  \n",
            " 11  Steals-CBB                         472 non-null    int64  \n",
            " 12  Team-CBB                           472 non-null    object \n",
            " 13  ThreePointersAttempted-CBB         472 non-null    int64  \n",
            " 14  FieldGoalsMade-CBB                 472 non-null    int64  \n",
            " 15  TwoPointersAttempted-CBB           472 non-null    int64  \n",
            " 16  FantasyPointsDraftKings-CBB        472 non-null    float64\n",
            " 17  Points-CBB                         472 non-null    int64  \n",
            " 18  Season-CBB                         472 non-null    int64  \n",
            " 19  FieldGoalsAttempted-CBB            472 non-null    int64  \n",
            " 20  FreeThrowsAttempted-CBB            472 non-null    int64  \n",
            " 21  DefensiveRebounds-CBB              472 non-null    int64  \n",
            " 22  Rebounds-CBB                       472 non-null    int64  \n",
            " 23  TrueShootingAttempts-CBB           472 non-null    float64\n",
            " 24  Turnovers-CBB                      472 non-null    int64  \n",
            " 25  ThreePointersMade-CBB              472 non-null    int64  \n",
            " 26  BlockedShots-CBB                   472 non-null    int64  \n",
            " 27  TwoPointersPercentage-CBB          472 non-null    float64\n",
            " 28  FieldGoalsPercentage-CBB           472 non-null    float64\n",
            " 29  FreeThrowsMade-CBB                 472 non-null    int64  \n",
            " 30  TwoPointersMade-CBB                472 non-null    int64  \n",
            " 31  FantasyPoints-CBB                  472 non-null    float64\n",
            " 32  Minutes-CBB                        472 non-null    int64  \n",
            " 33  PlayerEfficiencyRating-NBA         472 non-null    float64\n",
            " 34  Season-NBA                         472 non-null    int64  \n",
            " 35  Train                              472 non-null    object \n",
            "dtypes: float64(11), int64(21), object(4)\n",
            "memory usage: 132.9+ KB\n"
          ]
        }
      ],
      "source": [
        "df.info()"
      ]
    },
    {
      "cell_type": "markdown",
      "metadata": {
        "id": "SkL3UArfJWYe"
      },
      "source": [
        "In this project, we chose \"PlayerEfficiencyRating-NBA\" as our target variable to predict the performances of 472 players from NBA season 2017 to 2023."
      ]
    },
    {
      "cell_type": "markdown",
      "metadata": {
        "id": "_oUErk2lI7k9"
      },
      "source": [
        "# 2. Descriptive Analysis"
      ]
    },
    {
      "cell_type": "code",
      "execution_count": 6,
      "metadata": {
        "colab": {
          "base_uri": "https://localhost:8080/",
          "height": 542
        },
        "id": "QnE1mEg0JNvq",
        "outputId": "6502fa85-7acb-40ae-a480-800cbce39b52"
      },
      "outputs": [
        {
          "output_type": "display_data",
          "data": {
            "text/html": [
              "<html>\n",
              "<head><meta charset=\"utf-8\" /></head>\n",
              "<body>\n",
              "    <div>            <script src=\"https://cdnjs.cloudflare.com/ajax/libs/mathjax/2.7.5/MathJax.js?config=TeX-AMS-MML_SVG\"></script><script type=\"text/javascript\">if (window.MathJax && window.MathJax.Hub && window.MathJax.Hub.Config) {window.MathJax.Hub.Config({SVG: {font: \"STIX-Web\"}});}</script>                <script type=\"text/javascript\">window.PlotlyConfig = {MathJaxConfig: 'local'};</script>\n",
              "        <script charset=\"utf-8\" src=\"https://cdn.plot.ly/plotly-2.24.1.min.js\"></script>                <div id=\"1ee14725-f588-435f-8c19-654a5844e35e\" class=\"plotly-graph-div\" style=\"height:525px; width:100%;\"></div>            <script type=\"text/javascript\">                                    window.PLOTLYENV=window.PLOTLYENV || {};                                    if (document.getElementById(\"1ee14725-f588-435f-8c19-654a5844e35e\")) {                    Plotly.newPlot(                        \"1ee14725-f588-435f-8c19-654a5844e35e\",                        [{\"alignmentgroup\":\"True\",\"bingroup\":\"x\",\"hovertemplate\":\"PlayerEfficiencyRating-NBA=%{x}\\u003cbr\\u003ecount=%{y}\\u003cextra\\u003e\\u003c\\u002fextra\\u003e\",\"legendgroup\":\"\",\"marker\":{\"color\":\"#636efa\",\"pattern\":{\"shape\":\"\"}},\"name\":\"\",\"offsetgroup\":\"\",\"orientation\":\"v\",\"showlegend\":false,\"x\":[0.7,2.9,10.6,2.5,2.2,0.3,2.8,2.1,1.4,3.2,1.4,1.9,2.5,3.0,1.8,-0.8,0.0,0.0,2.1,1.4,25.4,1.8,18.0,2.7,1.6,3.1,3.2,3.7,2.3,0.0,0.0,20.7,12.1,11.3,2.3,1.6,11.4,15.4,2.2,11.2,9.5,11.3,7.7,-8.3,11.7,16.1,3.1,14.1,3.0,22.3,11.0,2.3,11.2,2.2,3.0,2.3,15.0,18.7,26.1,15.6,0.0,2.5,18.8,10.3,2.7,12.8,2.5,1.9,23.5,22.8,22.6,15.2,3.3,13.9,0.0,16.8,18.1,1.6,20.7,19.0,0.0,11.8,1.3,13.3,13.6,1.0,2.2,2.9,0.0,2.7,10.1,19.1,18.9,23.5,8.8,18.5,30.3,17.6,2.1,18.2,21.5,0.4,20.6,18.8,13.8,8.3,13.6,0.0,2.9,24.6,34.9,3.1,19.4,12.1,12.7,3.3,1.4,-3.8,0.0,17.7,24.0,6.9,2.4,2.2,11.3,19.2,2.6,0.5,16.0,15.8,3.9,-3.4,4.0,17.3,1.9,-25.0,10.9,2.4,0.0,0.1,2.3,-1.0,4.0,1.5,2.3,19.0,1.2,13.7,14.2,1.2,1.3,17.4,17.8,16.8,2.1,18.6,2.2,2.6,13.3,21.0,1.0,1.6,4.0,14.4,2.0,2.0,16.6,16.6,2.1,17.6,1.7,22.9,11.3,0.0,12.4,2.1,1.9,19.7,3.5,10.1,2.1,19.9,2.7,2.7,0.0,3.3,17.6,15.3,20.8,22.0,2.1,15.9,1.6,10.3,23.3,3.8,14.2,7.6,25.6,3.3,2.4,18.7,1.1,19.6,25.7,28.5,17.5,14.9,2.4,4.0,2.5,15.6,1.8,0.0,1.1,0.0,12.7,0.0,2.6,3.8,2.4,1.5,-16.7,26.6,4.3,2.5,1.5,17.1,18.3,3.8,10.4,1.7,2.2,24.4,-1.1,2.0,22.1,14.6,13.3,14.0,13.9,16.1,-2.1,11.9,19.5,2.2,15.2,3.3,17.9,11.5,21.9,2.1,11.4,20.8,14.7,-1.7,2.2,2.5,2.0,19.0,2.6,2.0,15.0,2.3,1.0,14.3,19.2,18.5,1.5,2.9,20.1,2.0,1.9,18.7,2.2,3.2,20.2,3.1,0.0,9.4,21.7,30.0,1.8,20.4,24.7,12.8,15.5,14.2,11.7,14.2,1.9,4.0,1.3,11.2,3.1,22.3,1.7,1.2,0.9,3.6,11.0,1.0,1.1,1.9,0.0,1.3,13.4,8.2,22.3,21.4,12.6,3.7,13.8,1.8,50.5,1.8,3.1,15.0,-11.9,0.0,-24.7,16.7,0.0,21.3,1.9,1.1,10.8,28.6,1.7,12.2,1.7,24.1,1.4,12.8,2.0,12.9,17.1,10.5,0.0,13.8,13.3,2.1,0.0,2.6,2.6,1.1,32.8,13.9,3.6,2.6,1.8,1.6,16.0,0.3,2.6,24.0,44.2,0.0,11.3,10.4,2.5,13.0,0.5,1.9,2.2,9.8,1.3,-2.4,0.6,4.7,1.5,31.1,1.0,1.9,16.3,9.3,1.3,10.1,9.8,-9.3,-21.4,0.0,17.3,15.1,0.0,27.0,13.7,15.3,16.6,4.3,0.8,18.9,22.5,11.0,13.9,1.4,12.4,-4.7,-13.4,18.0,1.4,41.2,13.3,18.3,14.8,20.0,14.8,28.3,-2.2,3.5,23.1,1.4,27.5,0.7,4.1,3.1,0.0,14.4,17.2,6.8,20.2,16.9,21.0,7.9,0.0,4.4,1.2,18.9,16.8,21.6,1.7,306.2,12.4,0.0,18.0,21.4,12.9,9.0,45.5,2.3,20.2,10.1,0.0,0.3,28.6,0.8,2.7,1.1,11.8,22.9,1.2,0.8,3.0,15.4,2.5,11.7,1.0,3.5,21.8,2.8,16.1,3.8,0.0,83.4,16.8,11.2,1.2,-1.9,2.0,0.2,15.5,2.8],\"xaxis\":\"x\",\"yaxis\":\"y\",\"type\":\"histogram\"}],                        {\"template\":{\"data\":{\"histogram2dcontour\":[{\"type\":\"histogram2dcontour\",\"colorbar\":{\"outlinewidth\":0,\"ticks\":\"\"},\"colorscale\":[[0.0,\"#0d0887\"],[0.1111111111111111,\"#46039f\"],[0.2222222222222222,\"#7201a8\"],[0.3333333333333333,\"#9c179e\"],[0.4444444444444444,\"#bd3786\"],[0.5555555555555556,\"#d8576b\"],[0.6666666666666666,\"#ed7953\"],[0.7777777777777778,\"#fb9f3a\"],[0.8888888888888888,\"#fdca26\"],[1.0,\"#f0f921\"]]}],\"choropleth\":[{\"type\":\"choropleth\",\"colorbar\":{\"outlinewidth\":0,\"ticks\":\"\"}}],\"histogram2d\":[{\"type\":\"histogram2d\",\"colorbar\":{\"outlinewidth\":0,\"ticks\":\"\"},\"colorscale\":[[0.0,\"#0d0887\"],[0.1111111111111111,\"#46039f\"],[0.2222222222222222,\"#7201a8\"],[0.3333333333333333,\"#9c179e\"],[0.4444444444444444,\"#bd3786\"],[0.5555555555555556,\"#d8576b\"],[0.6666666666666666,\"#ed7953\"],[0.7777777777777778,\"#fb9f3a\"],[0.8888888888888888,\"#fdca26\"],[1.0,\"#f0f921\"]]}],\"heatmap\":[{\"type\":\"heatmap\",\"colorbar\":{\"outlinewidth\":0,\"ticks\":\"\"},\"colorscale\":[[0.0,\"#0d0887\"],[0.1111111111111111,\"#46039f\"],[0.2222222222222222,\"#7201a8\"],[0.3333333333333333,\"#9c179e\"],[0.4444444444444444,\"#bd3786\"],[0.5555555555555556,\"#d8576b\"],[0.6666666666666666,\"#ed7953\"],[0.7777777777777778,\"#fb9f3a\"],[0.8888888888888888,\"#fdca26\"],[1.0,\"#f0f921\"]]}],\"heatmapgl\":[{\"type\":\"heatmapgl\",\"colorbar\":{\"outlinewidth\":0,\"ticks\":\"\"},\"colorscale\":[[0.0,\"#0d0887\"],[0.1111111111111111,\"#46039f\"],[0.2222222222222222,\"#7201a8\"],[0.3333333333333333,\"#9c179e\"],[0.4444444444444444,\"#bd3786\"],[0.5555555555555556,\"#d8576b\"],[0.6666666666666666,\"#ed7953\"],[0.7777777777777778,\"#fb9f3a\"],[0.8888888888888888,\"#fdca26\"],[1.0,\"#f0f921\"]]}],\"contourcarpet\":[{\"type\":\"contourcarpet\",\"colorbar\":{\"outlinewidth\":0,\"ticks\":\"\"}}],\"contour\":[{\"type\":\"contour\",\"colorbar\":{\"outlinewidth\":0,\"ticks\":\"\"},\"colorscale\":[[0.0,\"#0d0887\"],[0.1111111111111111,\"#46039f\"],[0.2222222222222222,\"#7201a8\"],[0.3333333333333333,\"#9c179e\"],[0.4444444444444444,\"#bd3786\"],[0.5555555555555556,\"#d8576b\"],[0.6666666666666666,\"#ed7953\"],[0.7777777777777778,\"#fb9f3a\"],[0.8888888888888888,\"#fdca26\"],[1.0,\"#f0f921\"]]}],\"surface\":[{\"type\":\"surface\",\"colorbar\":{\"outlinewidth\":0,\"ticks\":\"\"},\"colorscale\":[[0.0,\"#0d0887\"],[0.1111111111111111,\"#46039f\"],[0.2222222222222222,\"#7201a8\"],[0.3333333333333333,\"#9c179e\"],[0.4444444444444444,\"#bd3786\"],[0.5555555555555556,\"#d8576b\"],[0.6666666666666666,\"#ed7953\"],[0.7777777777777778,\"#fb9f3a\"],[0.8888888888888888,\"#fdca26\"],[1.0,\"#f0f921\"]]}],\"mesh3d\":[{\"type\":\"mesh3d\",\"colorbar\":{\"outlinewidth\":0,\"ticks\":\"\"}}],\"scatter\":[{\"fillpattern\":{\"fillmode\":\"overlay\",\"size\":10,\"solidity\":0.2},\"type\":\"scatter\"}],\"parcoords\":[{\"type\":\"parcoords\",\"line\":{\"colorbar\":{\"outlinewidth\":0,\"ticks\":\"\"}}}],\"scatterpolargl\":[{\"type\":\"scatterpolargl\",\"marker\":{\"colorbar\":{\"outlinewidth\":0,\"ticks\":\"\"}}}],\"bar\":[{\"error_x\":{\"color\":\"#2a3f5f\"},\"error_y\":{\"color\":\"#2a3f5f\"},\"marker\":{\"line\":{\"color\":\"#E5ECF6\",\"width\":0.5},\"pattern\":{\"fillmode\":\"overlay\",\"size\":10,\"solidity\":0.2}},\"type\":\"bar\"}],\"scattergeo\":[{\"type\":\"scattergeo\",\"marker\":{\"colorbar\":{\"outlinewidth\":0,\"ticks\":\"\"}}}],\"scatterpolar\":[{\"type\":\"scatterpolar\",\"marker\":{\"colorbar\":{\"outlinewidth\":0,\"ticks\":\"\"}}}],\"histogram\":[{\"marker\":{\"pattern\":{\"fillmode\":\"overlay\",\"size\":10,\"solidity\":0.2}},\"type\":\"histogram\"}],\"scattergl\":[{\"type\":\"scattergl\",\"marker\":{\"colorbar\":{\"outlinewidth\":0,\"ticks\":\"\"}}}],\"scatter3d\":[{\"type\":\"scatter3d\",\"line\":{\"colorbar\":{\"outlinewidth\":0,\"ticks\":\"\"}},\"marker\":{\"colorbar\":{\"outlinewidth\":0,\"ticks\":\"\"}}}],\"scattermapbox\":[{\"type\":\"scattermapbox\",\"marker\":{\"colorbar\":{\"outlinewidth\":0,\"ticks\":\"\"}}}],\"scatterternary\":[{\"type\":\"scatterternary\",\"marker\":{\"colorbar\":{\"outlinewidth\":0,\"ticks\":\"\"}}}],\"scattercarpet\":[{\"type\":\"scattercarpet\",\"marker\":{\"colorbar\":{\"outlinewidth\":0,\"ticks\":\"\"}}}],\"carpet\":[{\"aaxis\":{\"endlinecolor\":\"#2a3f5f\",\"gridcolor\":\"white\",\"linecolor\":\"white\",\"minorgridcolor\":\"white\",\"startlinecolor\":\"#2a3f5f\"},\"baxis\":{\"endlinecolor\":\"#2a3f5f\",\"gridcolor\":\"white\",\"linecolor\":\"white\",\"minorgridcolor\":\"white\",\"startlinecolor\":\"#2a3f5f\"},\"type\":\"carpet\"}],\"table\":[{\"cells\":{\"fill\":{\"color\":\"#EBF0F8\"},\"line\":{\"color\":\"white\"}},\"header\":{\"fill\":{\"color\":\"#C8D4E3\"},\"line\":{\"color\":\"white\"}},\"type\":\"table\"}],\"barpolar\":[{\"marker\":{\"line\":{\"color\":\"#E5ECF6\",\"width\":0.5},\"pattern\":{\"fillmode\":\"overlay\",\"size\":10,\"solidity\":0.2}},\"type\":\"barpolar\"}],\"pie\":[{\"automargin\":true,\"type\":\"pie\"}]},\"layout\":{\"autotypenumbers\":\"strict\",\"colorway\":[\"#636efa\",\"#EF553B\",\"#00cc96\",\"#ab63fa\",\"#FFA15A\",\"#19d3f3\",\"#FF6692\",\"#B6E880\",\"#FF97FF\",\"#FECB52\"],\"font\":{\"color\":\"#2a3f5f\"},\"hovermode\":\"closest\",\"hoverlabel\":{\"align\":\"left\"},\"paper_bgcolor\":\"white\",\"plot_bgcolor\":\"#E5ECF6\",\"polar\":{\"bgcolor\":\"#E5ECF6\",\"angularaxis\":{\"gridcolor\":\"white\",\"linecolor\":\"white\",\"ticks\":\"\"},\"radialaxis\":{\"gridcolor\":\"white\",\"linecolor\":\"white\",\"ticks\":\"\"}},\"ternary\":{\"bgcolor\":\"#E5ECF6\",\"aaxis\":{\"gridcolor\":\"white\",\"linecolor\":\"white\",\"ticks\":\"\"},\"baxis\":{\"gridcolor\":\"white\",\"linecolor\":\"white\",\"ticks\":\"\"},\"caxis\":{\"gridcolor\":\"white\",\"linecolor\":\"white\",\"ticks\":\"\"}},\"coloraxis\":{\"colorbar\":{\"outlinewidth\":0,\"ticks\":\"\"}},\"colorscale\":{\"sequential\":[[0.0,\"#0d0887\"],[0.1111111111111111,\"#46039f\"],[0.2222222222222222,\"#7201a8\"],[0.3333333333333333,\"#9c179e\"],[0.4444444444444444,\"#bd3786\"],[0.5555555555555556,\"#d8576b\"],[0.6666666666666666,\"#ed7953\"],[0.7777777777777778,\"#fb9f3a\"],[0.8888888888888888,\"#fdca26\"],[1.0,\"#f0f921\"]],\"sequentialminus\":[[0.0,\"#0d0887\"],[0.1111111111111111,\"#46039f\"],[0.2222222222222222,\"#7201a8\"],[0.3333333333333333,\"#9c179e\"],[0.4444444444444444,\"#bd3786\"],[0.5555555555555556,\"#d8576b\"],[0.6666666666666666,\"#ed7953\"],[0.7777777777777778,\"#fb9f3a\"],[0.8888888888888888,\"#fdca26\"],[1.0,\"#f0f921\"]],\"diverging\":[[0,\"#8e0152\"],[0.1,\"#c51b7d\"],[0.2,\"#de77ae\"],[0.3,\"#f1b6da\"],[0.4,\"#fde0ef\"],[0.5,\"#f7f7f7\"],[0.6,\"#e6f5d0\"],[0.7,\"#b8e186\"],[0.8,\"#7fbc41\"],[0.9,\"#4d9221\"],[1,\"#276419\"]]},\"xaxis\":{\"gridcolor\":\"white\",\"linecolor\":\"white\",\"ticks\":\"\",\"title\":{\"standoff\":15},\"zerolinecolor\":\"white\",\"automargin\":true,\"zerolinewidth\":2},\"yaxis\":{\"gridcolor\":\"white\",\"linecolor\":\"white\",\"ticks\":\"\",\"title\":{\"standoff\":15},\"zerolinecolor\":\"white\",\"automargin\":true,\"zerolinewidth\":2},\"scene\":{\"xaxis\":{\"backgroundcolor\":\"#E5ECF6\",\"gridcolor\":\"white\",\"linecolor\":\"white\",\"showbackground\":true,\"ticks\":\"\",\"zerolinecolor\":\"white\",\"gridwidth\":2},\"yaxis\":{\"backgroundcolor\":\"#E5ECF6\",\"gridcolor\":\"white\",\"linecolor\":\"white\",\"showbackground\":true,\"ticks\":\"\",\"zerolinecolor\":\"white\",\"gridwidth\":2},\"zaxis\":{\"backgroundcolor\":\"#E5ECF6\",\"gridcolor\":\"white\",\"linecolor\":\"white\",\"showbackground\":true,\"ticks\":\"\",\"zerolinecolor\":\"white\",\"gridwidth\":2}},\"shapedefaults\":{\"line\":{\"color\":\"#2a3f5f\"}},\"annotationdefaults\":{\"arrowcolor\":\"#2a3f5f\",\"arrowhead\":0,\"arrowwidth\":1},\"geo\":{\"bgcolor\":\"white\",\"landcolor\":\"#E5ECF6\",\"subunitcolor\":\"white\",\"showland\":true,\"showlakes\":true,\"lakecolor\":\"white\"},\"title\":{\"x\":0.05},\"mapbox\":{\"style\":\"light\"}}},\"xaxis\":{\"anchor\":\"y\",\"domain\":[0.0,1.0],\"title\":{\"text\":\"PlayerEfficiencyRating-NBA\"}},\"yaxis\":{\"anchor\":\"x\",\"domain\":[0.0,1.0],\"title\":{\"text\":\"count\"}},\"legend\":{\"tracegroupgap\":0},\"margin\":{\"t\":60},\"barmode\":\"relative\"},                        {\"responsive\": true}                    ).then(function(){\n",
              "                            \n",
              "var gd = document.getElementById('1ee14725-f588-435f-8c19-654a5844e35e');\n",
              "var x = new MutationObserver(function (mutations, observer) {{\n",
              "        var display = window.getComputedStyle(gd).display;\n",
              "        if (!display || display === 'none') {{\n",
              "            console.log([gd, 'removed!']);\n",
              "            Plotly.purge(gd);\n",
              "            observer.disconnect();\n",
              "        }}\n",
              "}});\n",
              "\n",
              "// Listen for the removal of the full notebook cells\n",
              "var notebookContainer = gd.closest('#notebook-container');\n",
              "if (notebookContainer) {{\n",
              "    x.observe(notebookContainer, {childList: true});\n",
              "}}\n",
              "\n",
              "// Listen for the clearing of the current output cell\n",
              "var outputEl = gd.closest('.output');\n",
              "if (outputEl) {{\n",
              "    x.observe(outputEl, {childList: true});\n",
              "}}\n",
              "\n",
              "                        })                };                            </script>        </div>\n",
              "</body>\n",
              "</html>"
            ]
          },
          "metadata": {}
        }
      ],
      "source": [
        "# Distribution of \"PlayerEfficiencyRating-NBA\"\n",
        "import plotly.express as px\n",
        "fig = px.histogram(df, x=\"PlayerEfficiencyRating-NBA\",labels={'G':'NBA_Games_Played','y':'count'})\n",
        "fig.show()"
      ]
    },
    {
      "cell_type": "code",
      "execution_count": 7,
      "metadata": {
        "colab": {
          "base_uri": "https://localhost:8080/"
        },
        "id": "3sDcjIMDTRbA",
        "outputId": "be217ec4-5c56-4261-98e3-f98521830104"
      },
      "outputs": [
        {
          "output_type": "execute_result",
          "data": {
            "text/plain": [
              "306.2"
            ]
          },
          "metadata": {},
          "execution_count": 7
        }
      ],
      "source": [
        "# Do we have any outliers?\n",
        "df[\"PlayerEfficiencyRating-NBA\"].max()"
      ]
    },
    {
      "cell_type": "code",
      "execution_count": 8,
      "metadata": {
        "id": "J3yZQfkIngcS",
        "colab": {
          "base_uri": "https://localhost:8080/",
          "height": 182
        },
        "outputId": "cdfe46f5-8320-478c-ad69-dbea1aff3d55"
      },
      "outputs": [
        {
          "output_type": "execute_result",
          "data": {
            "text/plain": [
              "                     Name  EffectiveFieldGoalsPercentage-CBB  \\\n",
              "431  Nazareth Mitrou-Long                               13.6   \n",
              "\n",
              "     FreeThrowsPercentage-CBB  OffensiveRebounds-CBB  \\\n",
              "431                       0.0                      0   \n",
              "\n",
              "     ThreePointersPercentage-CBB  FantasyPointsFanDuel-CBB Position-CBB  \\\n",
              "431                     0.066667                      37.8            G   \n",
              "\n",
              "     Assists-CBB  Games-CBB  TrueShootingPercentage-CBB  ...  \\\n",
              "431            1          8                        13.9  ...   \n",
              "\n",
              "     BlockedShots-CBB  TwoPointersPercentage-CBB FieldGoalsPercentage-CBB  \\\n",
              "431                 0                        0.5                 0.130435   \n",
              "\n",
              "     FreeThrowsMade-CBB  TwoPointersMade-CBB  FantasyPoints-CBB  Minutes-CBB  \\\n",
              "431                   0                    1               37.8           67   \n",
              "\n",
              "     PlayerEfficiencyRating-NBA  Season-NBA  Train  \n",
              "431                       306.2        2018  train  \n",
              "\n",
              "[1 rows x 36 columns]"
            ],
            "text/html": [
              "\n",
              "  <div id=\"df-710b6a74-c3bc-43a4-89b1-2d987decfd3a\" class=\"colab-df-container\">\n",
              "    <div>\n",
              "<style scoped>\n",
              "    .dataframe tbody tr th:only-of-type {\n",
              "        vertical-align: middle;\n",
              "    }\n",
              "\n",
              "    .dataframe tbody tr th {\n",
              "        vertical-align: top;\n",
              "    }\n",
              "\n",
              "    .dataframe thead th {\n",
              "        text-align: right;\n",
              "    }\n",
              "</style>\n",
              "<table border=\"1\" class=\"dataframe\">\n",
              "  <thead>\n",
              "    <tr style=\"text-align: right;\">\n",
              "      <th></th>\n",
              "      <th>Name</th>\n",
              "      <th>EffectiveFieldGoalsPercentage-CBB</th>\n",
              "      <th>FreeThrowsPercentage-CBB</th>\n",
              "      <th>OffensiveRebounds-CBB</th>\n",
              "      <th>ThreePointersPercentage-CBB</th>\n",
              "      <th>FantasyPointsFanDuel-CBB</th>\n",
              "      <th>Position-CBB</th>\n",
              "      <th>Assists-CBB</th>\n",
              "      <th>Games-CBB</th>\n",
              "      <th>TrueShootingPercentage-CBB</th>\n",
              "      <th>...</th>\n",
              "      <th>BlockedShots-CBB</th>\n",
              "      <th>TwoPointersPercentage-CBB</th>\n",
              "      <th>FieldGoalsPercentage-CBB</th>\n",
              "      <th>FreeThrowsMade-CBB</th>\n",
              "      <th>TwoPointersMade-CBB</th>\n",
              "      <th>FantasyPoints-CBB</th>\n",
              "      <th>Minutes-CBB</th>\n",
              "      <th>PlayerEfficiencyRating-NBA</th>\n",
              "      <th>Season-NBA</th>\n",
              "      <th>Train</th>\n",
              "    </tr>\n",
              "  </thead>\n",
              "  <tbody>\n",
              "    <tr>\n",
              "      <th>431</th>\n",
              "      <td>Nazareth Mitrou-Long</td>\n",
              "      <td>13.6</td>\n",
              "      <td>0.0</td>\n",
              "      <td>0</td>\n",
              "      <td>0.066667</td>\n",
              "      <td>37.8</td>\n",
              "      <td>G</td>\n",
              "      <td>1</td>\n",
              "      <td>8</td>\n",
              "      <td>13.9</td>\n",
              "      <td>...</td>\n",
              "      <td>0</td>\n",
              "      <td>0.5</td>\n",
              "      <td>0.130435</td>\n",
              "      <td>0</td>\n",
              "      <td>1</td>\n",
              "      <td>37.8</td>\n",
              "      <td>67</td>\n",
              "      <td>306.2</td>\n",
              "      <td>2018</td>\n",
              "      <td>train</td>\n",
              "    </tr>\n",
              "  </tbody>\n",
              "</table>\n",
              "<p>1 rows × 36 columns</p>\n",
              "</div>\n",
              "    <div class=\"colab-df-buttons\">\n",
              "\n",
              "  <div class=\"colab-df-container\">\n",
              "    <button class=\"colab-df-convert\" onclick=\"convertToInteractive('df-710b6a74-c3bc-43a4-89b1-2d987decfd3a')\"\n",
              "            title=\"Convert this dataframe to an interactive table.\"\n",
              "            style=\"display:none;\">\n",
              "\n",
              "  <svg xmlns=\"http://www.w3.org/2000/svg\" height=\"24px\" viewBox=\"0 -960 960 960\">\n",
              "    <path d=\"M120-120v-720h720v720H120Zm60-500h600v-160H180v160Zm220 220h160v-160H400v160Zm0 220h160v-160H400v160ZM180-400h160v-160H180v160Zm440 0h160v-160H620v160ZM180-180h160v-160H180v160Zm440 0h160v-160H620v160Z\"/>\n",
              "  </svg>\n",
              "    </button>\n",
              "\n",
              "  <style>\n",
              "    .colab-df-container {\n",
              "      display:flex;\n",
              "      gap: 12px;\n",
              "    }\n",
              "\n",
              "    .colab-df-convert {\n",
              "      background-color: #E8F0FE;\n",
              "      border: none;\n",
              "      border-radius: 50%;\n",
              "      cursor: pointer;\n",
              "      display: none;\n",
              "      fill: #1967D2;\n",
              "      height: 32px;\n",
              "      padding: 0 0 0 0;\n",
              "      width: 32px;\n",
              "    }\n",
              "\n",
              "    .colab-df-convert:hover {\n",
              "      background-color: #E2EBFA;\n",
              "      box-shadow: 0px 1px 2px rgba(60, 64, 67, 0.3), 0px 1px 3px 1px rgba(60, 64, 67, 0.15);\n",
              "      fill: #174EA6;\n",
              "    }\n",
              "\n",
              "    .colab-df-buttons div {\n",
              "      margin-bottom: 4px;\n",
              "    }\n",
              "\n",
              "    [theme=dark] .colab-df-convert {\n",
              "      background-color: #3B4455;\n",
              "      fill: #D2E3FC;\n",
              "    }\n",
              "\n",
              "    [theme=dark] .colab-df-convert:hover {\n",
              "      background-color: #434B5C;\n",
              "      box-shadow: 0px 1px 3px 1px rgba(0, 0, 0, 0.15);\n",
              "      filter: drop-shadow(0px 1px 2px rgba(0, 0, 0, 0.3));\n",
              "      fill: #FFFFFF;\n",
              "    }\n",
              "  </style>\n",
              "\n",
              "    <script>\n",
              "      const buttonEl =\n",
              "        document.querySelector('#df-710b6a74-c3bc-43a4-89b1-2d987decfd3a button.colab-df-convert');\n",
              "      buttonEl.style.display =\n",
              "        google.colab.kernel.accessAllowed ? 'block' : 'none';\n",
              "\n",
              "      async function convertToInteractive(key) {\n",
              "        const element = document.querySelector('#df-710b6a74-c3bc-43a4-89b1-2d987decfd3a');\n",
              "        const dataTable =\n",
              "          await google.colab.kernel.invokeFunction('convertToInteractive',\n",
              "                                                    [key], {});\n",
              "        if (!dataTable) return;\n",
              "\n",
              "        const docLinkHtml = 'Like what you see? Visit the ' +\n",
              "          '<a target=\"_blank\" href=https://colab.research.google.com/notebooks/data_table.ipynb>data table notebook</a>'\n",
              "          + ' to learn more about interactive tables.';\n",
              "        element.innerHTML = '';\n",
              "        dataTable['output_type'] = 'display_data';\n",
              "        await google.colab.output.renderOutput(dataTable, element);\n",
              "        const docLink = document.createElement('div');\n",
              "        docLink.innerHTML = docLinkHtml;\n",
              "        element.appendChild(docLink);\n",
              "      }\n",
              "    </script>\n",
              "  </div>\n",
              "\n",
              "    </div>\n",
              "  </div>\n"
            ]
          },
          "metadata": {},
          "execution_count": 8
        }
      ],
      "source": [
        "df.loc[df['PlayerEfficiencyRating-NBA'] == df[\"PlayerEfficiencyRating-NBA\"].max()]\n",
        "#this number is way too high, probably reported wrong in the API repository"
      ]
    },
    {
      "cell_type": "code",
      "execution_count": 9,
      "metadata": {
        "id": "LYS-CUHF103y"
      },
      "outputs": [],
      "source": [
        "# Finding outliers at row 34 and 293\n",
        "df.sort_values(\"PlayerEfficiencyRating-NBA\", ascending = False).head(8)\n",
        "# Change the Player Efficiency Rating of these 2 NBA players to correct values.\n",
        "\n",
        "df.iloc[431, -3] = 5.2 #taken from Google for this player\n",
        "df.iloc[463, -3] = 65.6 #same^"
      ]
    },
    {
      "cell_type": "markdown",
      "metadata": {
        "id": "YZsZmbYzT_iU"
      },
      "source": [
        "# 3. Data Processing"
      ]
    },
    {
      "cell_type": "markdown",
      "metadata": {
        "id": "bxKOkiGqUJRv"
      },
      "source": [
        "The data from NBA season 2017 to 2021 is used for training. And data of season 20222 and 2023 is used for the testing purpose."
      ]
    },
    {
      "cell_type": "code",
      "execution_count": 10,
      "metadata": {
        "id": "3GG15wSuZWPn",
        "colab": {
          "base_uri": "https://localhost:8080/"
        },
        "outputId": "d689a85e-78d8-48e7-ccb3-2fca31358635"
      },
      "outputs": [
        {
          "output_type": "stream",
          "name": "stdout",
          "text": [
            "['Name', 'Position-CBB', 'Team-CBB', 'Train']\n"
          ]
        }
      ],
      "source": [
        "object_cols = [col for col in df.columns if df[col].dtype == 'object']\n",
        "print(object_cols)"
      ]
    },
    {
      "cell_type": "code",
      "execution_count": 11,
      "metadata": {
        "id": "hrsaSi6dPdk2",
        "colab": {
          "base_uri": "https://localhost:8080/",
          "height": 273
        },
        "outputId": "e581ced5-3fb8-4b24-9435-827058480ed0"
      },
      "outputs": [
        {
          "output_type": "execute_result",
          "data": {
            "text/plain": [
              "   EffectiveFieldGoalsPercentage-CBB  FreeThrowsPercentage-CBB  \\\n",
              "0                               75.4                  0.860465   \n",
              "1                               73.8                  0.860526   \n",
              "2                               79.1                  0.833333   \n",
              "3                               51.0                  0.833333   \n",
              "4                               77.3                  0.828125   \n",
              "\n",
              "   OffensiveRebounds-CBB  ThreePointersPercentage-CBB  \\\n",
              "0                     37                     0.412969   \n",
              "1                     19                     0.359649   \n",
              "2                     21                     0.384259   \n",
              "3                     12                     0.500000   \n",
              "4                      6                     0.366906   \n",
              "\n",
              "   FantasyPointsFanDuel-CBB Position-CBB  Assists-CBB  Games-CBB  \\\n",
              "0                    1078.3            G           67         33   \n",
              "1                    1941.4            G          387         31   \n",
              "2                    1099.3            G          186         32   \n",
              "3                      81.0            F            6         15   \n",
              "4                     447.2            G           29         32   \n",
              "\n",
              "   TrueShootingPercentage-CBB  PersonalFouls-CBB  ...  ThreePointersMade-CBB  \\\n",
              "0                        82.0                 79  ...                    121   \n",
              "1                        84.4                 79  ...                    164   \n",
              "2                        84.4                 80  ...                     83   \n",
              "3                        58.5                 17  ...                     12   \n",
              "4                        83.5                 49  ...                     51   \n",
              "\n",
              "   BlockedShots-CBB  TwoPointersPercentage-CBB  FieldGoalsPercentage-CBB  \\\n",
              "0                 8                   0.417722                  0.415094   \n",
              "1                11                   0.488778                  0.420070   \n",
              "2                 2                   0.527174                  0.450000   \n",
              "3                 6                   0.125000                  0.350000   \n",
              "4                12                   0.511628                  0.428571   \n",
              "\n",
              "   FreeThrowsMade-CBB  TwoPointersMade-CBB  FantasyPoints-CBB  Minutes-CBB  \\\n",
              "0                 111                   99             1078.3         1575   \n",
              "1                 327                  196             1941.4         1562   \n",
              "2                  80                   97             1099.3         1665   \n",
              "3                  10                    2               81.0          133   \n",
              "4                  53                   44              447.2          605   \n",
              "\n",
              "   PlayerEfficiencyRating-NBA  Train  \n",
              "0                         0.7  train  \n",
              "1                         2.9  train  \n",
              "2                        10.6   test  \n",
              "3                         2.5  train  \n",
              "4                         2.2  train  \n",
              "\n",
              "[5 rows x 33 columns]"
            ],
            "text/html": [
              "\n",
              "  <div id=\"df-23dd496d-384a-41d1-8624-e7ecd974c9b4\" class=\"colab-df-container\">\n",
              "    <div>\n",
              "<style scoped>\n",
              "    .dataframe tbody tr th:only-of-type {\n",
              "        vertical-align: middle;\n",
              "    }\n",
              "\n",
              "    .dataframe tbody tr th {\n",
              "        vertical-align: top;\n",
              "    }\n",
              "\n",
              "    .dataframe thead th {\n",
              "        text-align: right;\n",
              "    }\n",
              "</style>\n",
              "<table border=\"1\" class=\"dataframe\">\n",
              "  <thead>\n",
              "    <tr style=\"text-align: right;\">\n",
              "      <th></th>\n",
              "      <th>EffectiveFieldGoalsPercentage-CBB</th>\n",
              "      <th>FreeThrowsPercentage-CBB</th>\n",
              "      <th>OffensiveRebounds-CBB</th>\n",
              "      <th>ThreePointersPercentage-CBB</th>\n",
              "      <th>FantasyPointsFanDuel-CBB</th>\n",
              "      <th>Position-CBB</th>\n",
              "      <th>Assists-CBB</th>\n",
              "      <th>Games-CBB</th>\n",
              "      <th>TrueShootingPercentage-CBB</th>\n",
              "      <th>PersonalFouls-CBB</th>\n",
              "      <th>...</th>\n",
              "      <th>ThreePointersMade-CBB</th>\n",
              "      <th>BlockedShots-CBB</th>\n",
              "      <th>TwoPointersPercentage-CBB</th>\n",
              "      <th>FieldGoalsPercentage-CBB</th>\n",
              "      <th>FreeThrowsMade-CBB</th>\n",
              "      <th>TwoPointersMade-CBB</th>\n",
              "      <th>FantasyPoints-CBB</th>\n",
              "      <th>Minutes-CBB</th>\n",
              "      <th>PlayerEfficiencyRating-NBA</th>\n",
              "      <th>Train</th>\n",
              "    </tr>\n",
              "  </thead>\n",
              "  <tbody>\n",
              "    <tr>\n",
              "      <th>0</th>\n",
              "      <td>75.4</td>\n",
              "      <td>0.860465</td>\n",
              "      <td>37</td>\n",
              "      <td>0.412969</td>\n",
              "      <td>1078.3</td>\n",
              "      <td>G</td>\n",
              "      <td>67</td>\n",
              "      <td>33</td>\n",
              "      <td>82.0</td>\n",
              "      <td>79</td>\n",
              "      <td>...</td>\n",
              "      <td>121</td>\n",
              "      <td>8</td>\n",
              "      <td>0.417722</td>\n",
              "      <td>0.415094</td>\n",
              "      <td>111</td>\n",
              "      <td>99</td>\n",
              "      <td>1078.3</td>\n",
              "      <td>1575</td>\n",
              "      <td>0.7</td>\n",
              "      <td>train</td>\n",
              "    </tr>\n",
              "    <tr>\n",
              "      <th>1</th>\n",
              "      <td>73.8</td>\n",
              "      <td>0.860526</td>\n",
              "      <td>19</td>\n",
              "      <td>0.359649</td>\n",
              "      <td>1941.4</td>\n",
              "      <td>G</td>\n",
              "      <td>387</td>\n",
              "      <td>31</td>\n",
              "      <td>84.4</td>\n",
              "      <td>79</td>\n",
              "      <td>...</td>\n",
              "      <td>164</td>\n",
              "      <td>11</td>\n",
              "      <td>0.488778</td>\n",
              "      <td>0.420070</td>\n",
              "      <td>327</td>\n",
              "      <td>196</td>\n",
              "      <td>1941.4</td>\n",
              "      <td>1562</td>\n",
              "      <td>2.9</td>\n",
              "      <td>train</td>\n",
              "    </tr>\n",
              "    <tr>\n",
              "      <th>2</th>\n",
              "      <td>79.1</td>\n",
              "      <td>0.833333</td>\n",
              "      <td>21</td>\n",
              "      <td>0.384259</td>\n",
              "      <td>1099.3</td>\n",
              "      <td>G</td>\n",
              "      <td>186</td>\n",
              "      <td>32</td>\n",
              "      <td>84.4</td>\n",
              "      <td>80</td>\n",
              "      <td>...</td>\n",
              "      <td>83</td>\n",
              "      <td>2</td>\n",
              "      <td>0.527174</td>\n",
              "      <td>0.450000</td>\n",
              "      <td>80</td>\n",
              "      <td>97</td>\n",
              "      <td>1099.3</td>\n",
              "      <td>1665</td>\n",
              "      <td>10.6</td>\n",
              "      <td>test</td>\n",
              "    </tr>\n",
              "    <tr>\n",
              "      <th>3</th>\n",
              "      <td>51.0</td>\n",
              "      <td>0.833333</td>\n",
              "      <td>12</td>\n",
              "      <td>0.500000</td>\n",
              "      <td>81.0</td>\n",
              "      <td>F</td>\n",
              "      <td>6</td>\n",
              "      <td>15</td>\n",
              "      <td>58.5</td>\n",
              "      <td>17</td>\n",
              "      <td>...</td>\n",
              "      <td>12</td>\n",
              "      <td>6</td>\n",
              "      <td>0.125000</td>\n",
              "      <td>0.350000</td>\n",
              "      <td>10</td>\n",
              "      <td>2</td>\n",
              "      <td>81.0</td>\n",
              "      <td>133</td>\n",
              "      <td>2.5</td>\n",
              "      <td>train</td>\n",
              "    </tr>\n",
              "    <tr>\n",
              "      <th>4</th>\n",
              "      <td>77.3</td>\n",
              "      <td>0.828125</td>\n",
              "      <td>6</td>\n",
              "      <td>0.366906</td>\n",
              "      <td>447.2</td>\n",
              "      <td>G</td>\n",
              "      <td>29</td>\n",
              "      <td>32</td>\n",
              "      <td>83.5</td>\n",
              "      <td>49</td>\n",
              "      <td>...</td>\n",
              "      <td>51</td>\n",
              "      <td>12</td>\n",
              "      <td>0.511628</td>\n",
              "      <td>0.428571</td>\n",
              "      <td>53</td>\n",
              "      <td>44</td>\n",
              "      <td>447.2</td>\n",
              "      <td>605</td>\n",
              "      <td>2.2</td>\n",
              "      <td>train</td>\n",
              "    </tr>\n",
              "  </tbody>\n",
              "</table>\n",
              "<p>5 rows × 33 columns</p>\n",
              "</div>\n",
              "    <div class=\"colab-df-buttons\">\n",
              "\n",
              "  <div class=\"colab-df-container\">\n",
              "    <button class=\"colab-df-convert\" onclick=\"convertToInteractive('df-23dd496d-384a-41d1-8624-e7ecd974c9b4')\"\n",
              "            title=\"Convert this dataframe to an interactive table.\"\n",
              "            style=\"display:none;\">\n",
              "\n",
              "  <svg xmlns=\"http://www.w3.org/2000/svg\" height=\"24px\" viewBox=\"0 -960 960 960\">\n",
              "    <path d=\"M120-120v-720h720v720H120Zm60-500h600v-160H180v160Zm220 220h160v-160H400v160Zm0 220h160v-160H400v160ZM180-400h160v-160H180v160Zm440 0h160v-160H620v160ZM180-180h160v-160H180v160Zm440 0h160v-160H620v160Z\"/>\n",
              "  </svg>\n",
              "    </button>\n",
              "\n",
              "  <style>\n",
              "    .colab-df-container {\n",
              "      display:flex;\n",
              "      gap: 12px;\n",
              "    }\n",
              "\n",
              "    .colab-df-convert {\n",
              "      background-color: #E8F0FE;\n",
              "      border: none;\n",
              "      border-radius: 50%;\n",
              "      cursor: pointer;\n",
              "      display: none;\n",
              "      fill: #1967D2;\n",
              "      height: 32px;\n",
              "      padding: 0 0 0 0;\n",
              "      width: 32px;\n",
              "    }\n",
              "\n",
              "    .colab-df-convert:hover {\n",
              "      background-color: #E2EBFA;\n",
              "      box-shadow: 0px 1px 2px rgba(60, 64, 67, 0.3), 0px 1px 3px 1px rgba(60, 64, 67, 0.15);\n",
              "      fill: #174EA6;\n",
              "    }\n",
              "\n",
              "    .colab-df-buttons div {\n",
              "      margin-bottom: 4px;\n",
              "    }\n",
              "\n",
              "    [theme=dark] .colab-df-convert {\n",
              "      background-color: #3B4455;\n",
              "      fill: #D2E3FC;\n",
              "    }\n",
              "\n",
              "    [theme=dark] .colab-df-convert:hover {\n",
              "      background-color: #434B5C;\n",
              "      box-shadow: 0px 1px 3px 1px rgba(0, 0, 0, 0.15);\n",
              "      filter: drop-shadow(0px 1px 2px rgba(0, 0, 0, 0.3));\n",
              "      fill: #FFFFFF;\n",
              "    }\n",
              "  </style>\n",
              "\n",
              "    <script>\n",
              "      const buttonEl =\n",
              "        document.querySelector('#df-23dd496d-384a-41d1-8624-e7ecd974c9b4 button.colab-df-convert');\n",
              "      buttonEl.style.display =\n",
              "        google.colab.kernel.accessAllowed ? 'block' : 'none';\n",
              "\n",
              "      async function convertToInteractive(key) {\n",
              "        const element = document.querySelector('#df-23dd496d-384a-41d1-8624-e7ecd974c9b4');\n",
              "        const dataTable =\n",
              "          await google.colab.kernel.invokeFunction('convertToInteractive',\n",
              "                                                    [key], {});\n",
              "        if (!dataTable) return;\n",
              "\n",
              "        const docLinkHtml = 'Like what you see? Visit the ' +\n",
              "          '<a target=\"_blank\" href=https://colab.research.google.com/notebooks/data_table.ipynb>data table notebook</a>'\n",
              "          + ' to learn more about interactive tables.';\n",
              "        element.innerHTML = '';\n",
              "        dataTable['output_type'] = 'display_data';\n",
              "        await google.colab.output.renderOutput(dataTable, element);\n",
              "        const docLink = document.createElement('div');\n",
              "        docLink.innerHTML = docLinkHtml;\n",
              "        element.appendChild(docLink);\n",
              "      }\n",
              "    </script>\n",
              "  </div>\n",
              "\n",
              "\n",
              "<div id=\"df-dd19a717-0761-4081-856d-71a9c5751f2b\">\n",
              "  <button class=\"colab-df-quickchart\" onclick=\"quickchart('df-dd19a717-0761-4081-856d-71a9c5751f2b')\"\n",
              "            title=\"Suggest charts\"\n",
              "            style=\"display:none;\">\n",
              "\n",
              "<svg xmlns=\"http://www.w3.org/2000/svg\" height=\"24px\"viewBox=\"0 0 24 24\"\n",
              "     width=\"24px\">\n",
              "    <g>\n",
              "        <path d=\"M19 3H5c-1.1 0-2 .9-2 2v14c0 1.1.9 2 2 2h14c1.1 0 2-.9 2-2V5c0-1.1-.9-2-2-2zM9 17H7v-7h2v7zm4 0h-2V7h2v10zm4 0h-2v-4h2v4z\"/>\n",
              "    </g>\n",
              "</svg>\n",
              "  </button>\n",
              "\n",
              "<style>\n",
              "  .colab-df-quickchart {\n",
              "      --bg-color: #E8F0FE;\n",
              "      --fill-color: #1967D2;\n",
              "      --hover-bg-color: #E2EBFA;\n",
              "      --hover-fill-color: #174EA6;\n",
              "      --disabled-fill-color: #AAA;\n",
              "      --disabled-bg-color: #DDD;\n",
              "  }\n",
              "\n",
              "  [theme=dark] .colab-df-quickchart {\n",
              "      --bg-color: #3B4455;\n",
              "      --fill-color: #D2E3FC;\n",
              "      --hover-bg-color: #434B5C;\n",
              "      --hover-fill-color: #FFFFFF;\n",
              "      --disabled-bg-color: #3B4455;\n",
              "      --disabled-fill-color: #666;\n",
              "  }\n",
              "\n",
              "  .colab-df-quickchart {\n",
              "    background-color: var(--bg-color);\n",
              "    border: none;\n",
              "    border-radius: 50%;\n",
              "    cursor: pointer;\n",
              "    display: none;\n",
              "    fill: var(--fill-color);\n",
              "    height: 32px;\n",
              "    padding: 0;\n",
              "    width: 32px;\n",
              "  }\n",
              "\n",
              "  .colab-df-quickchart:hover {\n",
              "    background-color: var(--hover-bg-color);\n",
              "    box-shadow: 0 1px 2px rgba(60, 64, 67, 0.3), 0 1px 3px 1px rgba(60, 64, 67, 0.15);\n",
              "    fill: var(--button-hover-fill-color);\n",
              "  }\n",
              "\n",
              "  .colab-df-quickchart-complete:disabled,\n",
              "  .colab-df-quickchart-complete:disabled:hover {\n",
              "    background-color: var(--disabled-bg-color);\n",
              "    fill: var(--disabled-fill-color);\n",
              "    box-shadow: none;\n",
              "  }\n",
              "\n",
              "  .colab-df-spinner {\n",
              "    border: 2px solid var(--fill-color);\n",
              "    border-color: transparent;\n",
              "    border-bottom-color: var(--fill-color);\n",
              "    animation:\n",
              "      spin 1s steps(1) infinite;\n",
              "  }\n",
              "\n",
              "  @keyframes spin {\n",
              "    0% {\n",
              "      border-color: transparent;\n",
              "      border-bottom-color: var(--fill-color);\n",
              "      border-left-color: var(--fill-color);\n",
              "    }\n",
              "    20% {\n",
              "      border-color: transparent;\n",
              "      border-left-color: var(--fill-color);\n",
              "      border-top-color: var(--fill-color);\n",
              "    }\n",
              "    30% {\n",
              "      border-color: transparent;\n",
              "      border-left-color: var(--fill-color);\n",
              "      border-top-color: var(--fill-color);\n",
              "      border-right-color: var(--fill-color);\n",
              "    }\n",
              "    40% {\n",
              "      border-color: transparent;\n",
              "      border-right-color: var(--fill-color);\n",
              "      border-top-color: var(--fill-color);\n",
              "    }\n",
              "    60% {\n",
              "      border-color: transparent;\n",
              "      border-right-color: var(--fill-color);\n",
              "    }\n",
              "    80% {\n",
              "      border-color: transparent;\n",
              "      border-right-color: var(--fill-color);\n",
              "      border-bottom-color: var(--fill-color);\n",
              "    }\n",
              "    90% {\n",
              "      border-color: transparent;\n",
              "      border-bottom-color: var(--fill-color);\n",
              "    }\n",
              "  }\n",
              "</style>\n",
              "\n",
              "  <script>\n",
              "    async function quickchart(key) {\n",
              "      const quickchartButtonEl =\n",
              "        document.querySelector('#' + key + ' button');\n",
              "      quickchartButtonEl.disabled = true;  // To prevent multiple clicks.\n",
              "      quickchartButtonEl.classList.add('colab-df-spinner');\n",
              "      try {\n",
              "        const charts = await google.colab.kernel.invokeFunction(\n",
              "            'suggestCharts', [key], {});\n",
              "      } catch (error) {\n",
              "        console.error('Error during call to suggestCharts:', error);\n",
              "      }\n",
              "      quickchartButtonEl.classList.remove('colab-df-spinner');\n",
              "      quickchartButtonEl.classList.add('colab-df-quickchart-complete');\n",
              "    }\n",
              "    (() => {\n",
              "      let quickchartButtonEl =\n",
              "        document.querySelector('#df-dd19a717-0761-4081-856d-71a9c5751f2b button');\n",
              "      quickchartButtonEl.style.display =\n",
              "        google.colab.kernel.accessAllowed ? 'block' : 'none';\n",
              "    })();\n",
              "  </script>\n",
              "</div>\n",
              "    </div>\n",
              "  </div>\n"
            ]
          },
          "metadata": {},
          "execution_count": 11
        }
      ],
      "source": [
        "# Remove the unused information\n",
        "\n",
        "df = df.drop(['Name', 'Season-NBA', 'Team-CBB'], axis=1)\n",
        "df.head()"
      ]
    },
    {
      "cell_type": "code",
      "execution_count": 12,
      "metadata": {
        "id": "DJZOdR6j9XOh",
        "colab": {
          "base_uri": "https://localhost:8080/"
        },
        "outputId": "6a9fc87e-a0e2-434c-e744-2d95ba8e73a0"
      },
      "outputs": [
        {
          "output_type": "execute_result",
          "data": {
            "text/plain": [
              "array(['G', 'F', 'G-F', 'C', 'F-C', nan], dtype=object)"
            ]
          },
          "metadata": {},
          "execution_count": 12
        }
      ],
      "source": [
        "df['Position-CBB'].unique()"
      ]
    },
    {
      "cell_type": "code",
      "execution_count": 13,
      "metadata": {
        "id": "0iB8S5y689Yo",
        "colab": {
          "base_uri": "https://localhost:8080/",
          "height": 179
        },
        "outputId": "c9425dfe-4e28-4b0c-e8f6-ebe5cf923c34"
      },
      "outputs": [
        {
          "output_type": "execute_result",
          "data": {
            "text/plain": [
              "     EffectiveFieldGoalsPercentage-CBB  FreeThrowsPercentage-CBB  \\\n",
              "455                               11.3                       0.0   \n",
              "471                                0.0                       0.0   \n",
              "\n",
              "     OffensiveRebounds-CBB  ThreePointersPercentage-CBB  \\\n",
              "455                      0                          0.0   \n",
              "471                      1                          0.0   \n",
              "\n",
              "     FantasyPointsFanDuel-CBB Position-CBB  Assists-CBB  Games-CBB  \\\n",
              "455                       1.1          NaN            0          2   \n",
              "471                       0.3          NaN            0          2   \n",
              "\n",
              "     TrueShootingPercentage-CBB  PersonalFouls-CBB  ...  \\\n",
              "455                        11.6                  0  ...   \n",
              "471                         0.0                  0  ...   \n",
              "\n",
              "     ThreePointersMade-CBB  BlockedShots-CBB  TwoPointersPercentage-CBB  \\\n",
              "455                      0                 0                        0.0   \n",
              "471                      0                 0                        0.0   \n",
              "\n",
              "     FieldGoalsPercentage-CBB  FreeThrowsMade-CBB  TwoPointersMade-CBB  \\\n",
              "455                       0.0                   0                    0   \n",
              "471                       0.0                   0                    0   \n",
              "\n",
              "     FantasyPoints-CBB  Minutes-CBB  PlayerEfficiencyRating-NBA  Train  \n",
              "455                1.1            2                        11.7   test  \n",
              "471                0.3            7                         2.8   test  \n",
              "\n",
              "[2 rows x 33 columns]"
            ],
            "text/html": [
              "\n",
              "  <div id=\"df-c1911c63-3501-4fd1-9661-43a03fe6f633\" class=\"colab-df-container\">\n",
              "    <div>\n",
              "<style scoped>\n",
              "    .dataframe tbody tr th:only-of-type {\n",
              "        vertical-align: middle;\n",
              "    }\n",
              "\n",
              "    .dataframe tbody tr th {\n",
              "        vertical-align: top;\n",
              "    }\n",
              "\n",
              "    .dataframe thead th {\n",
              "        text-align: right;\n",
              "    }\n",
              "</style>\n",
              "<table border=\"1\" class=\"dataframe\">\n",
              "  <thead>\n",
              "    <tr style=\"text-align: right;\">\n",
              "      <th></th>\n",
              "      <th>EffectiveFieldGoalsPercentage-CBB</th>\n",
              "      <th>FreeThrowsPercentage-CBB</th>\n",
              "      <th>OffensiveRebounds-CBB</th>\n",
              "      <th>ThreePointersPercentage-CBB</th>\n",
              "      <th>FantasyPointsFanDuel-CBB</th>\n",
              "      <th>Position-CBB</th>\n",
              "      <th>Assists-CBB</th>\n",
              "      <th>Games-CBB</th>\n",
              "      <th>TrueShootingPercentage-CBB</th>\n",
              "      <th>PersonalFouls-CBB</th>\n",
              "      <th>...</th>\n",
              "      <th>ThreePointersMade-CBB</th>\n",
              "      <th>BlockedShots-CBB</th>\n",
              "      <th>TwoPointersPercentage-CBB</th>\n",
              "      <th>FieldGoalsPercentage-CBB</th>\n",
              "      <th>FreeThrowsMade-CBB</th>\n",
              "      <th>TwoPointersMade-CBB</th>\n",
              "      <th>FantasyPoints-CBB</th>\n",
              "      <th>Minutes-CBB</th>\n",
              "      <th>PlayerEfficiencyRating-NBA</th>\n",
              "      <th>Train</th>\n",
              "    </tr>\n",
              "  </thead>\n",
              "  <tbody>\n",
              "    <tr>\n",
              "      <th>455</th>\n",
              "      <td>11.3</td>\n",
              "      <td>0.0</td>\n",
              "      <td>0</td>\n",
              "      <td>0.0</td>\n",
              "      <td>1.1</td>\n",
              "      <td>NaN</td>\n",
              "      <td>0</td>\n",
              "      <td>2</td>\n",
              "      <td>11.6</td>\n",
              "      <td>0</td>\n",
              "      <td>...</td>\n",
              "      <td>0</td>\n",
              "      <td>0</td>\n",
              "      <td>0.0</td>\n",
              "      <td>0.0</td>\n",
              "      <td>0</td>\n",
              "      <td>0</td>\n",
              "      <td>1.1</td>\n",
              "      <td>2</td>\n",
              "      <td>11.7</td>\n",
              "      <td>test</td>\n",
              "    </tr>\n",
              "    <tr>\n",
              "      <th>471</th>\n",
              "      <td>0.0</td>\n",
              "      <td>0.0</td>\n",
              "      <td>1</td>\n",
              "      <td>0.0</td>\n",
              "      <td>0.3</td>\n",
              "      <td>NaN</td>\n",
              "      <td>0</td>\n",
              "      <td>2</td>\n",
              "      <td>0.0</td>\n",
              "      <td>0</td>\n",
              "      <td>...</td>\n",
              "      <td>0</td>\n",
              "      <td>0</td>\n",
              "      <td>0.0</td>\n",
              "      <td>0.0</td>\n",
              "      <td>0</td>\n",
              "      <td>0</td>\n",
              "      <td>0.3</td>\n",
              "      <td>7</td>\n",
              "      <td>2.8</td>\n",
              "      <td>test</td>\n",
              "    </tr>\n",
              "  </tbody>\n",
              "</table>\n",
              "<p>2 rows × 33 columns</p>\n",
              "</div>\n",
              "    <div class=\"colab-df-buttons\">\n",
              "\n",
              "  <div class=\"colab-df-container\">\n",
              "    <button class=\"colab-df-convert\" onclick=\"convertToInteractive('df-c1911c63-3501-4fd1-9661-43a03fe6f633')\"\n",
              "            title=\"Convert this dataframe to an interactive table.\"\n",
              "            style=\"display:none;\">\n",
              "\n",
              "  <svg xmlns=\"http://www.w3.org/2000/svg\" height=\"24px\" viewBox=\"0 -960 960 960\">\n",
              "    <path d=\"M120-120v-720h720v720H120Zm60-500h600v-160H180v160Zm220 220h160v-160H400v160Zm0 220h160v-160H400v160ZM180-400h160v-160H180v160Zm440 0h160v-160H620v160ZM180-180h160v-160H180v160Zm440 0h160v-160H620v160Z\"/>\n",
              "  </svg>\n",
              "    </button>\n",
              "\n",
              "  <style>\n",
              "    .colab-df-container {\n",
              "      display:flex;\n",
              "      gap: 12px;\n",
              "    }\n",
              "\n",
              "    .colab-df-convert {\n",
              "      background-color: #E8F0FE;\n",
              "      border: none;\n",
              "      border-radius: 50%;\n",
              "      cursor: pointer;\n",
              "      display: none;\n",
              "      fill: #1967D2;\n",
              "      height: 32px;\n",
              "      padding: 0 0 0 0;\n",
              "      width: 32px;\n",
              "    }\n",
              "\n",
              "    .colab-df-convert:hover {\n",
              "      background-color: #E2EBFA;\n",
              "      box-shadow: 0px 1px 2px rgba(60, 64, 67, 0.3), 0px 1px 3px 1px rgba(60, 64, 67, 0.15);\n",
              "      fill: #174EA6;\n",
              "    }\n",
              "\n",
              "    .colab-df-buttons div {\n",
              "      margin-bottom: 4px;\n",
              "    }\n",
              "\n",
              "    [theme=dark] .colab-df-convert {\n",
              "      background-color: #3B4455;\n",
              "      fill: #D2E3FC;\n",
              "    }\n",
              "\n",
              "    [theme=dark] .colab-df-convert:hover {\n",
              "      background-color: #434B5C;\n",
              "      box-shadow: 0px 1px 3px 1px rgba(0, 0, 0, 0.15);\n",
              "      filter: drop-shadow(0px 1px 2px rgba(0, 0, 0, 0.3));\n",
              "      fill: #FFFFFF;\n",
              "    }\n",
              "  </style>\n",
              "\n",
              "    <script>\n",
              "      const buttonEl =\n",
              "        document.querySelector('#df-c1911c63-3501-4fd1-9661-43a03fe6f633 button.colab-df-convert');\n",
              "      buttonEl.style.display =\n",
              "        google.colab.kernel.accessAllowed ? 'block' : 'none';\n",
              "\n",
              "      async function convertToInteractive(key) {\n",
              "        const element = document.querySelector('#df-c1911c63-3501-4fd1-9661-43a03fe6f633');\n",
              "        const dataTable =\n",
              "          await google.colab.kernel.invokeFunction('convertToInteractive',\n",
              "                                                    [key], {});\n",
              "        if (!dataTable) return;\n",
              "\n",
              "        const docLinkHtml = 'Like what you see? Visit the ' +\n",
              "          '<a target=\"_blank\" href=https://colab.research.google.com/notebooks/data_table.ipynb>data table notebook</a>'\n",
              "          + ' to learn more about interactive tables.';\n",
              "        element.innerHTML = '';\n",
              "        dataTable['output_type'] = 'display_data';\n",
              "        await google.colab.output.renderOutput(dataTable, element);\n",
              "        const docLink = document.createElement('div');\n",
              "        docLink.innerHTML = docLinkHtml;\n",
              "        element.appendChild(docLink);\n",
              "      }\n",
              "    </script>\n",
              "  </div>\n",
              "\n",
              "\n",
              "<div id=\"df-78f7c10a-9792-443f-ac84-2a3c464040dd\">\n",
              "  <button class=\"colab-df-quickchart\" onclick=\"quickchart('df-78f7c10a-9792-443f-ac84-2a3c464040dd')\"\n",
              "            title=\"Suggest charts\"\n",
              "            style=\"display:none;\">\n",
              "\n",
              "<svg xmlns=\"http://www.w3.org/2000/svg\" height=\"24px\"viewBox=\"0 0 24 24\"\n",
              "     width=\"24px\">\n",
              "    <g>\n",
              "        <path d=\"M19 3H5c-1.1 0-2 .9-2 2v14c0 1.1.9 2 2 2h14c1.1 0 2-.9 2-2V5c0-1.1-.9-2-2-2zM9 17H7v-7h2v7zm4 0h-2V7h2v10zm4 0h-2v-4h2v4z\"/>\n",
              "    </g>\n",
              "</svg>\n",
              "  </button>\n",
              "\n",
              "<style>\n",
              "  .colab-df-quickchart {\n",
              "      --bg-color: #E8F0FE;\n",
              "      --fill-color: #1967D2;\n",
              "      --hover-bg-color: #E2EBFA;\n",
              "      --hover-fill-color: #174EA6;\n",
              "      --disabled-fill-color: #AAA;\n",
              "      --disabled-bg-color: #DDD;\n",
              "  }\n",
              "\n",
              "  [theme=dark] .colab-df-quickchart {\n",
              "      --bg-color: #3B4455;\n",
              "      --fill-color: #D2E3FC;\n",
              "      --hover-bg-color: #434B5C;\n",
              "      --hover-fill-color: #FFFFFF;\n",
              "      --disabled-bg-color: #3B4455;\n",
              "      --disabled-fill-color: #666;\n",
              "  }\n",
              "\n",
              "  .colab-df-quickchart {\n",
              "    background-color: var(--bg-color);\n",
              "    border: none;\n",
              "    border-radius: 50%;\n",
              "    cursor: pointer;\n",
              "    display: none;\n",
              "    fill: var(--fill-color);\n",
              "    height: 32px;\n",
              "    padding: 0;\n",
              "    width: 32px;\n",
              "  }\n",
              "\n",
              "  .colab-df-quickchart:hover {\n",
              "    background-color: var(--hover-bg-color);\n",
              "    box-shadow: 0 1px 2px rgba(60, 64, 67, 0.3), 0 1px 3px 1px rgba(60, 64, 67, 0.15);\n",
              "    fill: var(--button-hover-fill-color);\n",
              "  }\n",
              "\n",
              "  .colab-df-quickchart-complete:disabled,\n",
              "  .colab-df-quickchart-complete:disabled:hover {\n",
              "    background-color: var(--disabled-bg-color);\n",
              "    fill: var(--disabled-fill-color);\n",
              "    box-shadow: none;\n",
              "  }\n",
              "\n",
              "  .colab-df-spinner {\n",
              "    border: 2px solid var(--fill-color);\n",
              "    border-color: transparent;\n",
              "    border-bottom-color: var(--fill-color);\n",
              "    animation:\n",
              "      spin 1s steps(1) infinite;\n",
              "  }\n",
              "\n",
              "  @keyframes spin {\n",
              "    0% {\n",
              "      border-color: transparent;\n",
              "      border-bottom-color: var(--fill-color);\n",
              "      border-left-color: var(--fill-color);\n",
              "    }\n",
              "    20% {\n",
              "      border-color: transparent;\n",
              "      border-left-color: var(--fill-color);\n",
              "      border-top-color: var(--fill-color);\n",
              "    }\n",
              "    30% {\n",
              "      border-color: transparent;\n",
              "      border-left-color: var(--fill-color);\n",
              "      border-top-color: var(--fill-color);\n",
              "      border-right-color: var(--fill-color);\n",
              "    }\n",
              "    40% {\n",
              "      border-color: transparent;\n",
              "      border-right-color: var(--fill-color);\n",
              "      border-top-color: var(--fill-color);\n",
              "    }\n",
              "    60% {\n",
              "      border-color: transparent;\n",
              "      border-right-color: var(--fill-color);\n",
              "    }\n",
              "    80% {\n",
              "      border-color: transparent;\n",
              "      border-right-color: var(--fill-color);\n",
              "      border-bottom-color: var(--fill-color);\n",
              "    }\n",
              "    90% {\n",
              "      border-color: transparent;\n",
              "      border-bottom-color: var(--fill-color);\n",
              "    }\n",
              "  }\n",
              "</style>\n",
              "\n",
              "  <script>\n",
              "    async function quickchart(key) {\n",
              "      const quickchartButtonEl =\n",
              "        document.querySelector('#' + key + ' button');\n",
              "      quickchartButtonEl.disabled = true;  // To prevent multiple clicks.\n",
              "      quickchartButtonEl.classList.add('colab-df-spinner');\n",
              "      try {\n",
              "        const charts = await google.colab.kernel.invokeFunction(\n",
              "            'suggestCharts', [key], {});\n",
              "      } catch (error) {\n",
              "        console.error('Error during call to suggestCharts:', error);\n",
              "      }\n",
              "      quickchartButtonEl.classList.remove('colab-df-spinner');\n",
              "      quickchartButtonEl.classList.add('colab-df-quickchart-complete');\n",
              "    }\n",
              "    (() => {\n",
              "      let quickchartButtonEl =\n",
              "        document.querySelector('#df-78f7c10a-9792-443f-ac84-2a3c464040dd button');\n",
              "      quickchartButtonEl.style.display =\n",
              "        google.colab.kernel.accessAllowed ? 'block' : 'none';\n",
              "    })();\n",
              "  </script>\n",
              "</div>\n",
              "    </div>\n",
              "  </div>\n"
            ]
          },
          "metadata": {},
          "execution_count": 13
        }
      ],
      "source": [
        "df[df['Position-CBB'].isnull()]"
      ]
    },
    {
      "cell_type": "code",
      "execution_count": 14,
      "metadata": {
        "id": "2WYzwMS79GiJ",
        "colab": {
          "base_uri": "https://localhost:8080/"
        },
        "outputId": "017ac3e5-76e5-47cd-ed60-8759399c6c4e"
      },
      "outputs": [
        {
          "output_type": "stream",
          "name": "stderr",
          "text": [
            "<ipython-input-14-fbbdbe5816a9>:1: SettingWithCopyWarning:\n",
            "\n",
            "\n",
            "A value is trying to be set on a copy of a slice from a DataFrame\n",
            "\n",
            "See the caveats in the documentation: https://pandas.pydata.org/pandas-docs/stable/user_guide/indexing.html#returning-a-view-versus-a-copy\n",
            "\n",
            "<ipython-input-14-fbbdbe5816a9>:2: SettingWithCopyWarning:\n",
            "\n",
            "\n",
            "A value is trying to be set on a copy of a slice from a DataFrame\n",
            "\n",
            "See the caveats in the documentation: https://pandas.pydata.org/pandas-docs/stable/user_guide/indexing.html#returning-a-view-versus-a-copy\n",
            "\n"
          ]
        }
      ],
      "source": [
        "df['Position-CBB'].iloc[455] = 'G'\n",
        "df['Position-CBB'].iloc[471] = 'G'"
      ]
    },
    {
      "cell_type": "code",
      "execution_count": 15,
      "metadata": {
        "id": "k7jjYpEl6VIq"
      },
      "outputs": [],
      "source": [
        "# Convert categorical variables to numerical variables\n",
        "\n",
        "from sklearn.preprocessing import OrdinalEncoder\n",
        "ord_enc = OrdinalEncoder()\n",
        "Position = ord_enc.fit_transform(df[['Position-CBB']])\n",
        "df['Position-CBB'] = Position"
      ]
    },
    {
      "cell_type": "code",
      "execution_count": 16,
      "metadata": {
        "id": "sWiqfM6DPdk2",
        "colab": {
          "base_uri": "https://localhost:8080/"
        },
        "outputId": "28f947e6-1e93-40d2-d832-789d0e14c898"
      },
      "outputs": [
        {
          "output_type": "stream",
          "name": "stdout",
          "text": [
            "(338, 32) (134, 32)\n"
          ]
        }
      ],
      "source": [
        "# Split data into training and testing datasets\n",
        "\n",
        "train = df[df.Train == 'train'].iloc[:, : -1]\n",
        "test = df[df.Train == 'test'].iloc[:, : -1]\n",
        "\n",
        "print(train.shape, test.shape)"
      ]
    },
    {
      "cell_type": "code",
      "execution_count": 17,
      "metadata": {
        "id": "1JDH4jovPdk3"
      },
      "outputs": [],
      "source": [
        "y_train = train['PlayerEfficiencyRating-NBA']\n",
        "y_test = test['PlayerEfficiencyRating-NBA']\n",
        "X_train = train.drop(['PlayerEfficiencyRating-NBA'], axis=1)\n",
        "X_test = test.drop(['PlayerEfficiencyRating-NBA'], axis=1)"
      ]
    },
    {
      "cell_type": "code",
      "execution_count": 18,
      "metadata": {
        "id": "_DNK2pydVAY4"
      },
      "outputs": [],
      "source": [
        "df = df.drop(['Train'], axis=1)"
      ]
    },
    {
      "cell_type": "markdown",
      "metadata": {
        "id": "Xu6eOaxZVYTk"
      },
      "source": [
        "# 4. Building predictive models"
      ]
    },
    {
      "cell_type": "markdown",
      "metadata": {
        "id": "5T4fc8XSltUF"
      },
      "source": [
        "### Naive Calculation\n",
        "### let's take the average y value of the training data and make that our prediction"
      ]
    },
    {
      "cell_type": "code",
      "execution_count": 20,
      "metadata": {
        "id": "ktFted1BlxRu",
        "colab": {
          "base_uri": "https://localhost:8080/"
        },
        "outputId": "3e43bb88-025d-492e-8e15-00dd1c4b7e3e"
      },
      "outputs": [
        {
          "output_type": "execute_result",
          "data": {
            "text/plain": [
              "97.55564624838065"
            ]
          },
          "metadata": {},
          "execution_count": 20
        }
      ],
      "source": [
        "#naive train error\n",
        "y_train_naive = y_train.mean()\n",
        "mse_naive = np.mean( (y_train - y_train_naive)**2 )\n",
        "mse_naive"
      ]
    },
    {
      "cell_type": "code",
      "execution_count": 21,
      "metadata": {
        "id": "LoV8fKo_RAh_",
        "colab": {
          "base_uri": "https://localhost:8080/"
        },
        "outputId": "03145c95-2d57-4ef6-8a58-e2eda2821305"
      },
      "outputs": [
        {
          "output_type": "execute_result",
          "data": {
            "text/plain": [
              "102.76397355202559"
            ]
          },
          "metadata": {},
          "execution_count": 21
        }
      ],
      "source": [
        "#naive test error\n",
        "y_test_naive = y_test.mean()\n",
        "mse_t_naive = np.mean( (y_test- y_train_naive)**2 )\n",
        "mse_t_naive"
      ]
    },
    {
      "cell_type": "markdown",
      "metadata": {
        "id": "7TWCbazsVeP0"
      },
      "source": [
        "## 4.1 Linear Regression"
      ]
    },
    {
      "cell_type": "markdown",
      "metadata": {
        "id": "D62XxhBcYhIq"
      },
      "source": [
        "#### 4.1 a) Linear Regression model with all variables"
      ]
    },
    {
      "cell_type": "code",
      "execution_count": 22,
      "metadata": {
        "id": "mFhtba_nZj_S"
      },
      "outputs": [],
      "source": [
        "# Data Transformation: Standardize the data\n",
        "from sklearn.preprocessing import StandardScaler\n",
        "\n",
        "scaler = StandardScaler()\n",
        "X1_std_train = scaler.fit_transform(X_train)\n",
        "X1_std_test = scaler.transform(X_test)\n",
        "\n",
        "#print(X1_std_train[:,:].std(axis=0), X1_std_train[:,:].mean(axis=0))\n",
        "#print(X1_std_test[:,:].std(axis=0), X1_std_test[:,:].mean(axis=0))"
      ]
    },
    {
      "cell_type": "code",
      "execution_count": 23,
      "metadata": {
        "id": "jeN1aqwiWLTa",
        "colab": {
          "base_uri": "https://localhost:8080/"
        },
        "outputId": "e42b6ec0-559c-4a6e-c3a3-65223b58d1e0"
      },
      "outputs": [
        {
          "output_type": "execute_result",
          "data": {
            "text/plain": [
              "(array([ 4.20911278e+00,  1.16858682e+00, -1.30836165e+00, -2.06772853e-01,\n",
              "         1.04154333e+01, -5.68272939e-01,  2.86352398e+00,  5.01327570e-01,\n",
              "        -4.48701996e+00, -1.13201255e+00, -4.48031919e-02,  2.85255929e+01,\n",
              "        -7.58302760e+01,  5.03859679e+01, -2.70682441e+01,  4.36525015e+01,\n",
              "         1.65085481e+00,  1.61657995e+02,  4.50342912e+01,  3.94539199e+00,\n",
              "        -1.54620070e+00, -2.76338679e+02, -2.49657533e-01,  1.27065486e+01,\n",
              "         5.22159434e-02,  1.54994063e-01,  2.98882174e-01, -9.98127949e+00,\n",
              "         4.18176403e+01,  1.04154333e+01, -2.64837930e+00]),\n",
              " 9.407988165680408)"
            ]
          },
          "metadata": {},
          "execution_count": 23
        }
      ],
      "source": [
        "# Basic Linear Regression model - predict on training data\n",
        "from sklearn.linear_model import LinearRegression\n",
        "lr = LinearRegression(fit_intercept=True)\n",
        "lr.fit(X1_std_train, y_train)\n",
        "lr.coef_, lr.intercept_"
      ]
    },
    {
      "cell_type": "code",
      "execution_count": 24,
      "metadata": {
        "id": "K0y_DjjhEzTK",
        "colab": {
          "base_uri": "https://localhost:8080/"
        },
        "outputId": "6f28cb47-3134-43c5-d251-68f69ec1e042"
      },
      "outputs": [
        {
          "output_type": "stream",
          "name": "stdout",
          "text": [
            "MSE Linear Train:  86.99390725794397\n"
          ]
        }
      ],
      "source": [
        "# MSE Train\n",
        "y_train_fit = lr.predict(X1_std_train)\n",
        "mse_train = np.mean( (y_train - y_train_fit)**2 )\n",
        "print('MSE Linear Train: ', mse_train)"
      ]
    },
    {
      "cell_type": "code",
      "execution_count": 25,
      "metadata": {
        "id": "URMh2nWGV87t",
        "colab": {
          "base_uri": "https://localhost:8080/"
        },
        "outputId": "7c6d3ae9-1f4e-482a-bc12-8e2cb1ea4ecb"
      },
      "outputs": [
        {
          "output_type": "stream",
          "name": "stdout",
          "text": [
            "MSE Linear Test:  114.82763696986369\n"
          ]
        }
      ],
      "source": [
        "# Predict on test data\n",
        "y_test_fit = lr.predict(X1_std_test)\n",
        "mse_test = np.mean( (y_test - y_test_fit)**2 )\n",
        "print('MSE Linear Test: ', mse_test)"
      ]
    },
    {
      "cell_type": "markdown",
      "metadata": {
        "id": "Km5zx7J4Yw9g"
      },
      "source": [
        "#### 4.1 b) Linear Regression with selected predictors"
      ]
    },
    {
      "cell_type": "code",
      "execution_count": 26,
      "metadata": {
        "id": "OlJx6l7Ibuun",
        "colab": {
          "base_uri": "https://localhost:8080/"
        },
        "outputId": "dbf56ae9-85fe-4f9f-e259-2b33a9ad4d0b"
      },
      "outputs": [
        {
          "output_type": "stream",
          "name": "stderr",
          "text": [
            "/usr/local/lib/python3.10/dist-packages/sklearn/feature_selection/_sequential.py:211: FutureWarning:\n",
            "\n",
            "Leaving `n_features_to_select` to None is deprecated in 1.0 and will become 'auto' in 1.3. To keep the same behaviour as with None (i.e. select half of the features) and avoid this warning, you should manually set `n_features_to_select='auto'` and set tol=None when creating an instance.\n",
            "\n"
          ]
        },
        {
          "output_type": "execute_result",
          "data": {
            "text/plain": [
              "array(['OffensiveRebounds-CBB', 'Position-CBB', 'Games-CBB',\n",
              "       'PersonalFouls-CBB', 'ThreePointersAttempted-CBB',\n",
              "       'FieldGoalsMade-CBB', 'TwoPointersAttempted-CBB',\n",
              "       'FieldGoalsAttempted-CBB', 'FreeThrowsAttempted-CBB',\n",
              "       'TrueShootingAttempts-CBB', 'Turnovers-CBB',\n",
              "       'ThreePointersMade-CBB', 'BlockedShots-CBB', 'TwoPointersMade-CBB',\n",
              "       'FantasyPoints-CBB'], dtype=object)"
            ]
          },
          "metadata": {},
          "execution_count": 26
        }
      ],
      "source": [
        "# Stepwise Feature Selection: Backward Elimination\n",
        "from sklearn.feature_selection import SequentialFeatureSelector\n",
        "\n",
        "sfs_backward = SequentialFeatureSelector(lr, direction=\"backward\").fit(X_train, y_train)\n",
        "\n",
        "predictors_bkw = sfs_backward.get_feature_names_out()\n",
        "predictors_bkw"
      ]
    },
    {
      "cell_type": "code",
      "execution_count": 27,
      "metadata": {
        "id": "SPGFCTrCefph",
        "colab": {
          "base_uri": "https://localhost:8080/"
        },
        "outputId": "ce67b6a9-5372-4d99-c3fe-4824417ab0f9"
      },
      "outputs": [
        {
          "output_type": "stream",
          "name": "stdout",
          "text": [
            "RMSE test: 10.128460177186605, MSE test: 102.58570556085493\n"
          ]
        }
      ],
      "source": [
        "X1_train_bkw = train[predictors_bkw]\n",
        "X1_test_bkw = test[predictors_bkw]\n",
        "\n",
        "lr_bkw = lr.fit(X1_train_bkw, y_train)\n",
        "y_test_bkw_fit = lr_bkw.predict(X1_test_bkw)\n",
        "mse_test_bkw = np.mean( (y_test - y_test_bkw_fit)**2 )\n",
        "print(f\"RMSE test: {np.sqrt(mse_test_bkw)}, MSE test: {mse_test_bkw}\")"
      ]
    },
    {
      "cell_type": "code",
      "execution_count": 28,
      "metadata": {
        "id": "KlfwornrPdk2",
        "colab": {
          "base_uri": "https://localhost:8080/",
          "height": 1000
        },
        "outputId": "ce2cfca8-d300-46cd-c1e2-186fe840d408"
      },
      "outputs": [
        {
          "output_type": "stream",
          "name": "stderr",
          "text": [
            "<ipython-input-28-fb587a7aefde>:3: DeprecationWarning:\n",
            "\n",
            "`np.bool` is a deprecated alias for the builtin `bool`. To silence this warning, use `bool` by itself. Doing this will not modify any behavior and is safe. If you specifically wanted the numpy scalar type, use `np.bool_` here.\n",
            "Deprecated in NumPy 1.20; for more details and guidance: https://numpy.org/devdocs/release/1.20.0-notes.html#deprecations\n",
            "\n"
          ]
        },
        {
          "output_type": "display_data",
          "data": {
            "text/plain": [
              "<Figure size 1500x1000 with 2 Axes>"
            ],
            "image/png": "[encoded data removed]"
          },
          "metadata": {}
        }
      ],
      "source": [
        "# Correlation Matrix\n",
        "import seaborn as sns\n",
        "mask = np.triu(np.ones_like(df[predictors_bkw].corr(), dtype = np.bool))\n",
        "plt.figure(figsize=(15, 10))\n",
        "sns.heatmap(df[predictors_bkw].corr(), mask = mask, square = True, annot=True, fmt=\".1f\", vmin=-1, vmax=1, cmap='YlGnBu', annot_kws={\"size\": 6})\n",
        "plt.xticks(rotation=90)\n",
        "plt.show()"
      ]
    },
    {
      "cell_type": "markdown",
      "metadata": {
        "id": "l4aHl_36f_Lu"
      },
      "source": [
        "From the above heatmap, we can recognize that there are a lot of features that are high correlated to each other (0.9 and 1). It can be said that this model has strong multicollinearity. Therefore, it may lead to low accuracy when we handle a larger dataset and this model may not be effective for prediction."
      ]
    },
    {
      "cell_type": "markdown",
      "metadata": {
        "id": "fXZr-Q_DZTmO"
      },
      "source": [
        "#### 4.1 c) Perform ML Regularization techniques on Linear model"
      ]
    },
    {
      "cell_type": "code",
      "execution_count": 29,
      "metadata": {
        "id": "pIfH0FaiZlxk",
        "colab": {
          "base_uri": "https://localhost:8080/"
        },
        "outputId": "e5ee74c0-6865-48ea-9e73-30658b8fa694"
      },
      "outputs": [
        {
          "output_type": "stream",
          "name": "stdout",
          "text": [
            "MSE Ridge Test:  112.69538127687875\n"
          ]
        }
      ],
      "source": [
        "# Ridge\n",
        "from sklearn.linear_model import Ridge\n",
        "ridge = Ridge(alpha=0.5)   # instantiate\n",
        "ridge.fit(X1_std_train, y_train)            # fit to training data\n",
        "ridge.coef_\n",
        "y_test_fit_ridge = ridge.predict(X1_std_test)\n",
        "mse_test_ridge = np.mean((y_test - y_test_fit_ridge)**2)\n",
        "print('MSE Ridge Test: ', mse_test_ridge)"
      ]
    },
    {
      "cell_type": "code",
      "execution_count": 30,
      "metadata": {
        "id": "rC41pidtZnzR",
        "colab": {
          "base_uri": "https://localhost:8080/"
        },
        "outputId": "b0f23f54-b0b5-47ba-fcea-695c2aa88fbf"
      },
      "outputs": [
        {
          "output_type": "stream",
          "name": "stdout",
          "text": [
            "MSE Lasso Test:  112.5720466349442\n"
          ]
        },
        {
          "output_type": "stream",
          "name": "stderr",
          "text": [
            "/usr/local/lib/python3.10/dist-packages/sklearn/linear_model/_coordinate_descent.py:631: ConvergenceWarning:\n",
            "\n",
            "Objective did not converge. You might want to increase the number of iterations, check the scale of the features or consider increasing regularisation. Duality gap: 1.264e+04, tolerance: 3.297e+00\n",
            "\n"
          ]
        }
      ],
      "source": [
        "# LASSO\n",
        "from sklearn.linear_model import Lasso\n",
        "lasso = Lasso(alpha=0.001)\n",
        "lasso.fit(X1_std_train, y_train)\n",
        "y_test_fit_lasso = lasso.predict(X1_std_test)\n",
        "mse_test_lasso = np.mean( (y_test - y_test_fit_lasso)**2)\n",
        "print('MSE Lasso Test: ', mse_test_lasso)"
      ]
    },
    {
      "cell_type": "code",
      "execution_count": 31,
      "metadata": {
        "id": "cBzTHrJphhbW",
        "colab": {
          "base_uri": "https://localhost:8080/"
        },
        "outputId": "52934848-0023-4863-8f3c-ad91fecf4534"
      },
      "outputs": [
        {
          "output_type": "stream",
          "name": "stdout",
          "text": [
            "MSE ElasticNet Test:  103.53440101012727\n"
          ]
        }
      ],
      "source": [
        "# ElasticNet\n",
        "from sklearn.linear_model import ElasticNet\n",
        "elnet = ElasticNet(l1_ratio=0.9)\n",
        "elnet.fit(X1_std_train, y_train)\n",
        "y_test_fit_elnet = elnet.predict(X1_std_test)\n",
        "mse_test_elnet = np.mean( (y_test - y_test_fit_elnet)**2)\n",
        "print('MSE ElasticNet Test: ', mse_test_elnet)"
      ]
    },
    {
      "cell_type": "markdown",
      "metadata": {
        "id": "RgZ1POdBf_lD"
      },
      "source": [
        "## 4.2 K-NN"
      ]
    },
    {
      "cell_type": "code",
      "execution_count": 32,
      "metadata": {
        "id": "bkJFWW-JRrW6"
      },
      "outputs": [],
      "source": [
        "#import packages\n",
        "from sklearn.neighbors import KNeighborsRegressor"
      ]
    },
    {
      "cell_type": "code",
      "execution_count": 33,
      "metadata": {
        "id": "oTohpkSMSaMa",
        "colab": {
          "base_uri": "https://localhost:8080/"
        },
        "outputId": "aa2ce6dd-c7d8-448a-b340-e8071f8efdce"
      },
      "outputs": [
        {
          "output_type": "execute_result",
          "data": {
            "text/plain": [
              "(134, 31)"
            ]
          },
          "metadata": {},
          "execution_count": 33
        }
      ],
      "source": [
        "#tuning k\n",
        "#step 1: set largest k to be n where n=number of rows in training set\n",
        "X_test.shape"
      ]
    },
    {
      "cell_type": "code",
      "execution_count": 34,
      "metadata": {
        "id": "GbZLpkUCSm1n",
        "colab": {
          "base_uri": "https://localhost:8080/"
        },
        "outputId": "dc6c324f-e582-4e4e-d790-ee7ee559f5b0"
      },
      "outputs": [
        {
          "output_type": "stream",
          "name": "stdout",
          "text": [
            "Fitting 5 folds for each of 133 candidates, totalling 665 fits\n"
          ]
        }
      ],
      "source": [
        "#tuning k step 2 with GridSearchCV\n",
        "knn = KNeighborsRegressor()\n",
        "from sklearn.model_selection import GridSearchCV\n",
        "from sklearn.metrics import mean_squared_error\n",
        "k_range = list(range(1, X_test.shape[0]))\n",
        "param_grid = dict(n_neighbors=k_range)\n",
        "\n",
        "# defining parameter range\n",
        "grid = GridSearchCV(knn, param_grid, cv=5, scoring='neg_mean_squared_error', return_train_score=False,verbose=1)\n",
        "\n",
        "# fitting the model for grid search\n",
        "grid_search=grid.fit(X_train, y_train)"
      ]
    },
    {
      "cell_type": "code",
      "execution_count": 35,
      "metadata": {
        "id": "SGLFb3LgSrjj",
        "colab": {
          "base_uri": "https://localhost:8080/"
        },
        "outputId": "8cec993f-4b44-4ee8-d62e-c2d2c0bc08d3"
      },
      "outputs": [
        {
          "output_type": "stream",
          "name": "stdout",
          "text": [
            "{'n_neighbors': 55}\n"
          ]
        }
      ],
      "source": [
        "#get tuned k\n",
        "print(grid_search.best_params_)\n"
      ]
    },
    {
      "cell_type": "code",
      "execution_count": 36,
      "metadata": {
        "id": "tig_29eASxF1",
        "colab": {
          "base_uri": "https://localhost:8080/"
        },
        "outputId": "9b013cf3-b3bb-4074-9d65-be1ec3ec7073"
      },
      "outputs": [
        {
          "output_type": "execute_result",
          "data": {
            "text/plain": [
              "92.77613572301823"
            ]
          },
          "metadata": {},
          "execution_count": 36
        }
      ],
      "source": [
        "#fit regressor with tuned k value\n",
        "knn = KNeighborsRegressor(n_neighbors=55) #see above cell\n",
        "\n",
        "knn.fit(X_train, y_train)\n",
        "\n",
        "y_train_hat=knn.predict(X_train)\n",
        "\n",
        "mse_train = mean_squared_error(y_train_hat, y_train)\n",
        "mse_train"
      ]
    },
    {
      "cell_type": "code",
      "execution_count": 37,
      "metadata": {
        "id": "YPl8f6V2S1sv",
        "colab": {
          "base_uri": "https://localhost:8080/"
        },
        "outputId": "9e2e8c1a-ee34-4247-ba90-c45b0d01b2d5"
      },
      "outputs": [
        {
          "output_type": "execute_result",
          "data": {
            "text/plain": [
              "114.34328405082027"
            ]
          },
          "metadata": {},
          "execution_count": 37
        }
      ],
      "source": [
        "#predict on test set and get mse\n",
        "y_test_hat = knn.predict(X_test)\n",
        "\n",
        "mse_test = mean_squared_error(y_test_hat, y_test)\n",
        "mse_test"
      ]
    },
    {
      "cell_type": "markdown",
      "metadata": {
        "id": "63zdwRFWWyFV"
      },
      "source": [
        "## 4.3 Decision Tree"
      ]
    },
    {
      "cell_type": "markdown",
      "metadata": {
        "id": "qS9m9wAQXsnu"
      },
      "source": [
        "We found out that the categorical variables worsen the performance of our tree-based models. So, we decided to drop the Positions feature from the dataset."
      ]
    },
    {
      "cell_type": "code",
      "execution_count": 38,
      "metadata": {
        "id": "zPTyLAblX96d"
      },
      "outputs": [],
      "source": [
        "X_train = X_train.drop(['Position-CBB'], axis=1)\n",
        "X_test = X_test.drop(['Position-CBB'], axis=1)"
      ]
    },
    {
      "cell_type": "code",
      "execution_count": 39,
      "metadata": {
        "id": "JsazlaEwPdlx"
      },
      "outputs": [],
      "source": [
        "from sklearn import tree\n",
        "from sklearn.tree import DecisionTreeRegressor\n",
        "from sklearn.model_selection import cross_val_score, GridSearchCV, KFold\n",
        "from sklearn import metrics\n",
        "from sklearn.metrics import *"
      ]
    },
    {
      "cell_type": "markdown",
      "metadata": {
        "id": "vgLNtzA8W4Kw"
      },
      "source": [
        "#### 4.3 a) Build \"Full Tree\""
      ]
    },
    {
      "cell_type": "code",
      "execution_count": 40,
      "metadata": {
        "id": "4Ix_FW6gXF4m",
        "colab": {
          "base_uri": "https://localhost:8080/",
          "height": 75
        },
        "outputId": "130f077f-9bac-4044-83a4-319089beadd5"
      },
      "outputs": [
        {
          "output_type": "execute_result",
          "data": {
            "text/plain": [
              "DecisionTreeRegressor()"
            ],
            "text/html": [
              "<style>#sk-container-id-1 {color: black;background-color: white;}#sk-container-id-1 pre{padding: 0;}#sk-container-id-1 div.sk-toggleable {background-color: white;}#sk-container-id-1 label.sk-toggleable__label {cursor: pointer;display: block;width: 100%;margin-bottom: 0;padding: 0.3em;box-sizing: border-box;text-align: center;}#sk-container-id-1 label.sk-toggleable__label-arrow:before {content: \"▸\";float: left;margin-right: 0.25em;color: #696969;}#sk-container-id-1 label.sk-toggleable__label-arrow:hover:before {color: black;}#sk-container-id-1 div.sk-estimator:hover label.sk-toggleable__label-arrow:before {color: black;}#sk-container-id-1 div.sk-toggleable__content {max-height: 0;max-width: 0;overflow: hidden;text-align: left;background-color: #f0f8ff;}#sk-container-id-1 div.sk-toggleable__content pre {margin: 0.2em;color: black;border-radius: 0.25em;background-color: #f0f8ff;}#sk-container-id-1 input.sk-toggleable__control:checked~div.sk-toggleable__content {max-height: 200px;max-width: 100%;overflow: auto;}#sk-container-id-1 input.sk-toggleable__control:checked~label.sk-toggleable__label-arrow:before {content: \"▾\";}#sk-container-id-1 div.sk-estimator input.sk-toggleable__control:checked~label.sk-toggleable__label {background-color: #d4ebff;}#sk-container-id-1 div.sk-label input.sk-toggleable__control:checked~label.sk-toggleable__label {background-color: #d4ebff;}#sk-container-id-1 input.sk-hidden--visually {border: 0;clip: rect(1px 1px 1px 1px);clip: rect(1px, 1px, 1px, 1px);height: 1px;margin: -1px;overflow: hidden;padding: 0;position: absolute;width: 1px;}#sk-container-id-1 div.sk-estimator {font-family: monospace;background-color: #f0f8ff;border: 1px dotted black;border-radius: 0.25em;box-sizing: border-box;margin-bottom: 0.5em;}#sk-container-id-1 div.sk-estimator:hover {background-color: #d4ebff;}#sk-container-id-1 div.sk-parallel-item::after {content: \"\";width: 100%;border-bottom: 1px solid gray;flex-grow: 1;}#sk-container-id-1 div.sk-label:hover label.sk-toggleable__label {background-color: #d4ebff;}#sk-container-id-1 div.sk-serial::before {content: \"\";position: absolute;border-left: 1px solid gray;box-sizing: border-box;top: 0;bottom: 0;left: 50%;z-index: 0;}#sk-container-id-1 div.sk-serial {display: flex;flex-direction: column;align-items: center;background-color: white;padding-right: 0.2em;padding-left: 0.2em;position: relative;}#sk-container-id-1 div.sk-item {position: relative;z-index: 1;}#sk-container-id-1 div.sk-parallel {display: flex;align-items: stretch;justify-content: center;background-color: white;position: relative;}#sk-container-id-1 div.sk-item::before, #sk-container-id-1 div.sk-parallel-item::before {content: \"\";position: absolute;border-left: 1px solid gray;box-sizing: border-box;top: 0;bottom: 0;left: 50%;z-index: -1;}#sk-container-id-1 div.sk-parallel-item {display: flex;flex-direction: column;z-index: 1;position: relative;background-color: white;}#sk-container-id-1 div.sk-parallel-item:first-child::after {align-self: flex-end;width: 50%;}#sk-container-id-1 div.sk-parallel-item:last-child::after {align-self: flex-start;width: 50%;}#sk-container-id-1 div.sk-parallel-item:only-child::after {width: 0;}#sk-container-id-1 div.sk-dashed-wrapped {border: 1px dashed gray;margin: 0 0.4em 0.5em 0.4em;box-sizing: border-box;padding-bottom: 0.4em;background-color: white;}#sk-container-id-1 div.sk-label label {font-family: monospace;font-weight: bold;display: inline-block;line-height: 1.2em;}#sk-container-id-1 div.sk-label-container {text-align: center;}#sk-container-id-1 div.sk-container {/* jupyter's `normalize.less` sets `[hidden] { display: none; }` but bootstrap.min.css set `[hidden] { display: none !important; }` so we also need the `!important` here to be able to override the default hidden behavior on the sphinx rendered scikit-learn.org. See: https://github.com/scikit-learn/scikit-learn/issues/21755 */display: inline-block !important;position: relative;}#sk-container-id-1 div.sk-text-repr-fallback {display: none;}</style><div id=\"sk-container-id-1\" class=\"sk-top-container\"><div class=\"sk-text-repr-fallback\"><pre>DecisionTreeRegressor()</pre><b>In a Jupyter environment, please rerun this cell to show the HTML representation or trust the notebook. <br />On GitHub, the HTML representation is unable to render, please try loading this page with nbviewer.org.</b></div><div class=\"sk-container\" hidden><div class=\"sk-item\"><div class=\"sk-estimator sk-toggleable\"><input class=\"sk-toggleable__control sk-hidden--visually\" id=\"sk-estimator-id-1\" type=\"checkbox\" checked><label for=\"sk-estimator-id-1\" class=\"sk-toggleable__label sk-toggleable__label-arrow\">DecisionTreeRegressor</label><div class=\"sk-toggleable__content\"><pre>DecisionTreeRegressor()</pre></div></div></div></div></div>"
            ]
          },
          "metadata": {},
          "execution_count": 40
        }
      ],
      "source": [
        "dt = DecisionTreeRegressor()\n",
        "dt.fit(X_train, y_train)"
      ]
    },
    {
      "cell_type": "code",
      "execution_count": 41,
      "metadata": {
        "id": "Lw3zFcRGXOpa"
      },
      "outputs": [],
      "source": [
        "y_dt_train = dt.predict(X_train)\n",
        "y_dt_test = dt.predict(X_test)"
      ]
    },
    {
      "cell_type": "code",
      "execution_count": 42,
      "metadata": {
        "id": "RymNOHkSXWVm",
        "colab": {
          "base_uri": "https://localhost:8080/"
        },
        "outputId": "53a168e7-58e3-4b8b-be7a-07ea3b1e1193"
      },
      "outputs": [
        {
          "output_type": "stream",
          "name": "stdout",
          "text": [
            "MSE test:  200.12755597014925\n"
          ]
        }
      ],
      "source": [
        "mse_test = mean_squared_error(y_test, y_dt_test)\n",
        "print(\"MSE test: \", mse_test)"
      ]
    },
    {
      "cell_type": "code",
      "execution_count": 43,
      "metadata": {
        "id": "eA-MsghaPdlz",
        "colab": {
          "base_uri": "https://localhost:8080/"
        },
        "outputId": "3b03daff-d475-4633-dbd8-96365ab70d92"
      },
      "outputs": [
        {
          "output_type": "stream",
          "name": "stdout",
          "text": [
            "Number of nodes 633\n"
          ]
        }
      ],
      "source": [
        "print('Number of nodes', dt.tree_.node_count)"
      ]
    },
    {
      "cell_type": "code",
      "execution_count": 44,
      "metadata": {
        "id": "XQKucbU0Pdlz",
        "colab": {
          "base_uri": "https://localhost:8080/"
        },
        "outputId": "2c9bdc73-5e28-4d70-d5ea-a9bb84d5110a"
      },
      "outputs": [
        {
          "output_type": "stream",
          "name": "stdout",
          "text": [
            "|--- feature_4 <= 144.10\n",
            "|   |--- feature_10 <= 0.50\n",
            "|   |   |--- feature_1 <= 0.65\n",
            "|   |   |   |--- feature_7 <= 15.15\n",
            "|   |   |   |   |--- feature_4 <= 0.15\n",
            "|   |   |   |   |   |--- feature_6 <= 3.50\n",
            "|   |   |   |   |   |   |--- feature_0 <= 6.60\n",
            "|   |   |   |   |   |   |   |--- feature_15 <= 2016.50\n",
            "|   |   |   |   |   |   |   |   |--- value: [11.20]\n",
            "|   |   |   |   |   |   |   |--- feature_15 >  2016.50\n",
            "|   |   |   |   |   |   |   |   |--- value: [8.75]\n",
            "|   |   |   |   |   |   |--- feature_0 >  6.60\n",
            "|   |   |   |   |   |   |   |--- value: [16.80]\n",
            "|   |   |   |   |   |--- feature_6 >  3.50\n",
            "|   |   |   |   |   |   |--- value: [1.20]\n",
            "|   |   |   |   |--- feature_4 >  0.15\n",
            "|   |   |   |   |   |--- feature_1 <= 0.33\n",
            "|   |   |   |   |   |   |--- feature_12 <= 0.50\n",
            "|   |   |   |   |   |   |   |--- value: [-1.90]\n",
            "|   |   |   |   |   |   |--- feature_12 >  0.50\n",
            "|   |   |   |   |   |   |   |--- feature_7 <= 13.60\n",
            "|   |   |   |   |   |   |   |   |--- feature_26 <= 1.00\n",
            "|   |   |   |   |   |   |   |   |   |--- value: [2.50]\n",
            "|   |   |   |   |   |   |   |   |--- feature_26 >  1.00\n",
            "|   |   |   |   |   |   |   |   |   |--- value: [2.70]\n",
            "|   |   |   |   |   |   |   |--- feature_7 >  13.60\n",
            "|   |   |   |   |   |   |   |   |--- feature_1 <= 0.16\n",
            "|   |   |   |   |   |   |   |   |   |--- value: [0.80]\n",
            "|   |   |   |   |   |   |   |   |--- feature_1 >  0.16\n",
            "|   |   |   |   |   |   |   |   |   |--- value: [1.40]\n",
            "|   |   |   |   |   |--- feature_1 >  0.33\n",
            "|   |   |   |   |   |   |--- feature_26 <= 5.50\n",
            "|   |   |   |   |   |   |   |--- value: [12.90]\n",
            "|   |   |   |   |   |   |--- feature_26 >  5.50\n",
            "|   |   |   |   |   |   |   |--- feature_8 <= 20.50\n",
            "|   |   |   |   |   |   |   |   |--- value: [1.10]\n",
            "|   |   |   |   |   |   |   |--- feature_8 >  20.50\n",
            "|   |   |   |   |   |   |   |   |--- value: [4.40]\n",
            "|   |   |   |--- feature_7 >  15.15\n",
            "|   |   |   |   |--- feature_7 <= 15.65\n",
            "|   |   |   |   |   |--- value: [28.60]\n",
            "|   |   |   |   |--- feature_7 >  15.65\n",
            "|   |   |   |   |   |--- feature_24 <= 0.33\n",
            "|   |   |   |   |   |   |--- feature_20 <= 16.30\n",
            "|   |   |   |   |   |   |   |--- value: [3.50]\n",
            "|   |   |   |   |   |   |--- feature_20 >  16.30\n",
            "|   |   |   |   |   |   |   |--- value: [0.00]\n",
            "|   |   |   |   |   |--- feature_24 >  0.33\n",
            "|   |   |   |   |   |   |--- feature_7 <= 15.75\n",
            "|   |   |   |   |   |   |   |--- value: [2.30]\n",
            "|   |   |   |   |   |   |--- feature_7 >  15.75\n",
            "|   |   |   |   |   |   |   |--- feature_14 <= 33.00\n",
            "|   |   |   |   |   |   |   |   |--- feature_13 <= 27.85\n",
            "|   |   |   |   |   |   |   |   |   |--- value: [14.40]\n",
            "|   |   |   |   |   |   |   |   |--- feature_13 >  27.85\n",
            "|   |   |   |   |   |   |   |   |   |--- feature_23 <= 5.50\n",
            "|   |   |   |   |   |   |   |   |   |   |--- value: [16.10]\n",
            "|   |   |   |   |   |   |   |   |   |--- feature_23 >  5.50\n",
            "|   |   |   |   |   |   |   |   |   |   |--- value: [15.40]\n",
            "|   |   |   |   |   |   |   |--- feature_14 >  33.00\n",
            "|   |   |   |   |   |   |   |   |--- feature_6 <= 15.00\n",
            "|   |   |   |   |   |   |   |   |   |--- value: [14.70]\n",
            "|   |   |   |   |   |   |   |   |--- feature_6 >  15.00\n",
            "|   |   |   |   |   |   |   |   |   |--- feature_11 <= 17.00\n",
            "|   |   |   |   |   |   |   |   |   |   |--- value: [11.30]\n",
            "|   |   |   |   |   |   |   |   |   |--- feature_11 >  17.00\n",
            "|   |   |   |   |   |   |   |   |   |   |--- value: [11.80]\n",
            "|   |   |--- feature_1 >  0.65\n",
            "|   |   |   |--- feature_7 <= 13.65\n",
            "|   |   |   |   |--- value: [1.20]\n",
            "|   |   |   |--- feature_7 >  13.65\n",
            "|   |   |   |   |--- feature_0 <= 16.15\n",
            "|   |   |   |   |   |--- feature_18 <= 16.50\n",
            "|   |   |   |   |   |   |--- feature_21 <= 1.00\n",
            "|   |   |   |   |   |   |   |--- value: [22.90]\n",
            "|   |   |   |   |   |   |--- feature_21 >  1.00\n",
            "|   |   |   |   |   |   |   |--- value: [23.10]\n",
            "|   |   |   |   |   |--- feature_18 >  16.50\n",
            "|   |   |   |   |   |   |--- value: [27.50]\n",
            "|   |   |   |   |--- feature_0 >  16.15\n",
            "|   |   |   |   |   |--- value: [45.50]\n",
            "|   |--- feature_10 >  0.50\n",
            "|   |   |--- feature_12 <= 43.50\n",
            "|   |   |   |--- feature_0 <= 58.60\n",
            "|   |   |   |   |--- feature_7 <= 10.55\n",
            "|   |   |   |   |   |--- value: [20.20]\n",
            "|   |   |   |   |--- feature_7 >  10.55\n",
            "|   |   |   |   |   |--- feature_18 <= 28.00\n",
            "|   |   |   |   |   |   |--- feature_1 <= 0.83\n",
            "|   |   |   |   |   |   |   |--- feature_25 <= 0.12\n",
            "|   |   |   |   |   |   |   |   |--- feature_8 <= 2.50\n",
            "|   |   |   |   |   |   |   |   |   |--- feature_0 <= 11.60\n",
            "|   |   |   |   |   |   |   |   |   |   |--- value: [12.40]\n",
            "|   |   |   |   |   |   |   |   |   |--- feature_0 >  11.60\n",
            "|   |   |   |   |   |   |   |   |   |   |--- value: [12.80]\n",
            "|   |   |   |   |   |   |   |   |--- feature_8 >  2.50\n",
            "|   |   |   |   |   |   |   |   |   |--- value: [14.80]\n",
            "|   |   |   |   |   |   |   |--- feature_25 >  0.12\n",
            "|   |   |   |   |   |   |   |   |--- feature_27 <= 25.00\n",
            "|   |   |   |   |   |   |   |   |   |--- feature_10 <= 26.50\n",
            "|   |   |   |   |   |   |   |   |   |   |--- feature_6 <= 22.50\n",
            "|   |   |   |   |   |   |   |   |   |   |   |--- truncated branch of depth 6\n",
            "|   |   |   |   |   |   |   |   |   |   |--- feature_6 >  22.50\n",
            "|   |   |   |   |   |   |   |   |   |   |   |--- truncated branch of depth 7\n",
            "|   |   |   |   |   |   |   |   |   |--- feature_10 >  26.50\n",
            "|   |   |   |   |   |   |   |   |   |   |--- feature_20 <= 59.30\n",
            "|   |   |   |   |   |   |   |   |   |   |   |--- value: [15.10]\n",
            "|   |   |   |   |   |   |   |   |   |   |--- feature_20 >  59.30\n",
            "|   |   |   |   |   |   |   |   |   |   |   |--- truncated branch of depth 7\n",
            "|   |   |   |   |   |   |   |   |--- feature_27 >  25.00\n",
            "|   |   |   |   |   |   |   |   |   |--- value: [13.30]\n",
            "|   |   |   |   |   |   |--- feature_1 >  0.83\n",
            "|   |   |   |   |   |   |   |--- feature_5 <= 14.50\n",
            "|   |   |   |   |   |   |   |   |--- feature_3 <= 0.75\n",
            "|   |   |   |   |   |   |   |   |   |--- feature_0 <= 2.45\n",
            "|   |   |   |   |   |   |   |   |   |   |--- value: [4.10]\n",
            "|   |   |   |   |   |   |   |   |   |--- feature_0 >  2.45\n",
            "|   |   |   |   |   |   |   |   |   |   |--- feature_6 <= 16.50\n",
            "|   |   |   |   |   |   |   |   |   |   |   |--- truncated branch of depth 3\n",
            "|   |   |   |   |   |   |   |   |   |   |--- feature_6 >  16.50\n",
            "|   |   |   |   |   |   |   |   |   |   |   |--- truncated branch of depth 5\n",
            "|   |   |   |   |   |   |   |   |--- feature_3 >  0.75\n",
            "|   |   |   |   |   |   |   |   |   |--- value: [11.20]\n",
            "|   |   |   |   |   |   |   |--- feature_5 >  14.50\n",
            "|   |   |   |   |   |   |   |   |--- value: [-11.90]\n",
            "|   |   |   |   |   |--- feature_18 >  28.00\n",
            "|   |   |   |   |   |   |--- value: [-9.30]\n",
            "|   |   |   |--- feature_0 >  58.60\n",
            "|   |   |   |   |--- feature_15 <= 2018.50\n",
            "|   |   |   |   |   |--- value: [12.70]\n",
            "|   |   |   |   |--- feature_15 >  2018.50\n",
            "|   |   |   |   |   |--- value: [21.50]\n",
            "|   |   |--- feature_12 >  43.50\n",
            "|   |   |   |--- feature_3 <= 0.04\n",
            "|   |   |   |   |--- value: [20.00]\n",
            "|   |   |   |--- feature_3 >  0.04\n",
            "|   |   |   |   |--- value: [21.00]\n",
            "|--- feature_4 >  144.10\n",
            "|   |--- feature_17 <= 51.00\n",
            "|   |   |--- feature_20 <= 98.40\n",
            "|   |   |   |--- feature_1 <= 0.68\n",
            "|   |   |   |   |--- feature_17 <= 36.50\n",
            "|   |   |   |   |   |--- feature_19 <= 82.50\n",
            "|   |   |   |   |   |   |--- feature_13 <= 167.70\n",
            "|   |   |   |   |   |   |   |--- feature_18 <= 26.00\n",
            "|   |   |   |   |   |   |   |   |--- feature_14 <= 82.50\n",
            "|   |   |   |   |   |   |   |   |   |--- value: [0.00]\n",
            "|   |   |   |   |   |   |   |   |--- feature_14 >  82.50\n",
            "|   |   |   |   |   |   |   |   |   |--- value: [1.50]\n",
            "|   |   |   |   |   |   |   |--- feature_18 >  26.00\n",
            "|   |   |   |   |   |   |   |   |--- feature_18 <= 32.50\n",
            "|   |   |   |   |   |   |   |   |   |--- feature_10 <= 25.50\n",
            "|   |   |   |   |   |   |   |   |   |   |--- feature_26 <= 8.50\n",
            "|   |   |   |   |   |   |   |   |   |   |   |--- truncated branch of depth 2\n",
            "|   |   |   |   |   |   |   |   |   |   |--- feature_26 >  8.50\n",
            "|   |   |   |   |   |   |   |   |   |   |   |--- value: [18.90]\n",
            "|   |   |   |   |   |   |   |   |   |--- feature_10 >  25.50\n",
            "|   |   |   |   |   |   |   |   |   |   |--- value: [15.00]\n",
            "|   |   |   |   |   |   |   |   |--- feature_18 >  32.50\n",
            "|   |   |   |   |   |   |   |   |   |--- value: [2.50]\n",
            "|   |   |   |   |   |   |--- feature_13 >  167.70\n",
            "|   |   |   |   |   |   |   |--- feature_2 <= 17.50\n",
            "|   |   |   |   |   |   |   |   |--- feature_24 <= 0.57\n",
            "|   |   |   |   |   |   |   |   |   |--- feature_26 <= 21.50\n",
            "|   |   |   |   |   |   |   |   |   |   |--- feature_9 <= 6.00\n",
            "|   |   |   |   |   |   |   |   |   |   |   |--- truncated branch of depth 2\n",
            "|   |   |   |   |   |   |   |   |   |   |--- feature_9 >  6.00\n",
            "|   |   |   |   |   |   |   |   |   |   |   |--- truncated branch of depth 2\n",
            "|   |   |   |   |   |   |   |   |   |--- feature_26 >  21.50\n",
            "|   |   |   |   |   |   |   |   |   |   |--- value: [13.70]\n",
            "|   |   |   |   |   |   |   |   |--- feature_24 >  0.57\n",
            "|   |   |   |   |   |   |   |   |   |--- feature_27 <= 33.50\n",
            "|   |   |   |   |   |   |   |   |   |   |--- value: [12.40]\n",
            "|   |   |   |   |   |   |   |   |   |--- feature_27 >  33.50\n",
            "|   |   |   |   |   |   |   |   |   |   |--- value: [10.10]\n",
            "|   |   |   |   |   |   |   |--- feature_2 >  17.50\n",
            "|   |   |   |   |   |   |   |   |--- feature_7 <= 17.15\n",
            "|   |   |   |   |   |   |   |   |   |--- feature_1 <= 0.63\n",
            "|   |   |   |   |   |   |   |   |   |   |--- feature_23 <= 6.00\n",
            "|   |   |   |   |   |   |   |   |   |   |   |--- value: [21.80]\n",
            "|   |   |   |   |   |   |   |   |   |   |--- feature_23 >  6.00\n",
            "|   |   |   |   |   |   |   |   |   |   |   |--- truncated branch of depth 2\n",
            "|   |   |   |   |   |   |   |   |   |--- feature_1 >  0.63\n",
            "|   |   |   |   |   |   |   |   |   |   |--- value: [20.20]\n",
            "|   |   |   |   |   |   |   |   |--- feature_7 >  17.15\n",
            "|   |   |   |   |   |   |   |   |   |--- feature_19 <= 69.00\n",
            "|   |   |   |   |   |   |   |   |   |   |--- value: [18.00]\n",
            "|   |   |   |   |   |   |   |   |   |--- feature_19 >  69.00\n",
            "|   |   |   |   |   |   |   |   |   |   |--- feature_19 <= 71.50\n",
            "|   |   |   |   |   |   |   |   |   |   |   |--- value: [19.20]\n",
            "|   |   |   |   |   |   |   |   |   |   |--- feature_19 >  71.50\n",
            "|   |   |   |   |   |   |   |   |   |   |   |--- value: [18.70]\n",
            "|   |   |   |   |   |--- feature_19 >  82.50\n",
            "|   |   |   |   |   |   |--- value: [0.00]\n",
            "|   |   |   |   |--- feature_17 >  36.50\n",
            "|   |   |   |   |   |--- feature_14 <= 106.00\n",
            "|   |   |   |   |   |   |--- value: [18.30]\n",
            "|   |   |   |   |   |--- feature_14 >  106.00\n",
            "|   |   |   |   |   |   |--- value: [41.20]\n",
            "|   |   |   |--- feature_1 >  0.68\n",
            "|   |   |   |   |--- feature_23 <= 1.50\n",
            "|   |   |   |   |   |--- feature_11 <= 24.00\n",
            "|   |   |   |   |   |   |--- value: [44.20]\n",
            "|   |   |   |   |   |--- feature_11 >  24.00\n",
            "|   |   |   |   |   |   |--- feature_5 <= 16.50\n",
            "|   |   |   |   |   |   |   |--- feature_8 <= 11.50\n",
            "|   |   |   |   |   |   |   |   |--- feature_2 <= 9.50\n",
            "|   |   |   |   |   |   |   |   |   |--- value: [24.10]\n",
            "|   |   |   |   |   |   |   |   |--- feature_2 >  9.50\n",
            "|   |   |   |   |   |   |   |   |   |--- value: [31.10]\n",
            "|   |   |   |   |   |   |   |--- feature_8 >  11.50\n",
            "|   |   |   |   |   |   |   |   |--- feature_8 <= 25.00\n",
            "|   |   |   |   |   |   |   |   |   |--- feature_29 <= 182.50\n",
            "|   |   |   |   |   |   |   |   |   |   |--- feature_16 <= 45.50\n",
            "|   |   |   |   |   |   |   |   |   |   |   |--- value: [4.70]\n",
            "|   |   |   |   |   |   |   |   |   |   |--- feature_16 >  45.50\n",
            "|   |   |   |   |   |   |   |   |   |   |   |--- truncated branch of depth 2\n",
            "|   |   |   |   |   |   |   |   |   |--- feature_29 >  182.50\n",
            "|   |   |   |   |   |   |   |   |   |   |--- feature_17 <= 24.00\n",
            "|   |   |   |   |   |   |   |   |   |   |   |--- truncated branch of depth 2\n",
            "|   |   |   |   |   |   |   |   |   |   |--- feature_17 >  24.00\n",
            "|   |   |   |   |   |   |   |   |   |   |   |--- truncated branch of depth 4\n",
            "|   |   |   |   |   |   |   |   |--- feature_8 >  25.00\n",
            "|   |   |   |   |   |   |   |   |   |--- value: [22.50]\n",
            "|   |   |   |   |   |   |--- feature_5 >  16.50\n",
            "|   |   |   |   |   |   |   |--- feature_4 <= 199.45\n",
            "|   |   |   |   |   |   |   |   |--- feature_19 <= 24.00\n",
            "|   |   |   |   |   |   |   |   |   |--- feature_24 <= 0.40\n",
            "|   |   |   |   |   |   |   |   |   |   |--- value: [1.30]\n",
            "|   |   |   |   |   |   |   |   |   |--- feature_24 >  0.40\n",
            "|   |   |   |   |   |   |   |   |   |   |--- value: [1.80]\n",
            "|   |   |   |   |   |   |   |   |--- feature_19 >  24.00\n",
            "|   |   |   |   |   |   |   |   |   |--- feature_7 <= 13.10\n",
            "|   |   |   |   |   |   |   |   |   |   |--- value: [1.30]\n",
            "|   |   |   |   |   |   |   |   |   |--- feature_7 >  13.10\n",
            "|   |   |   |   |   |   |   |   |   |   |--- feature_13 <= 215.50\n",
            "|   |   |   |   |   |   |   |   |   |   |   |--- truncated branch of depth 5\n",
            "|   |   |   |   |   |   |   |   |   |   |--- feature_13 >  215.50\n",
            "|   |   |   |   |   |   |   |   |   |   |   |--- value: [21.40]\n",
            "|   |   |   |   |   |   |   |--- feature_4 >  199.45\n",
            "|   |   |   |   |   |   |   |   |--- feature_8 <= 18.50\n",
            "|   |   |   |   |   |   |   |   |   |--- feature_13 <= 218.55\n",
            "|   |   |   |   |   |   |   |   |   |   |--- value: [0.00]\n",
            "|   |   |   |   |   |   |   |   |   |--- feature_13 >  218.55\n",
            "|   |   |   |   |   |   |   |   |   |   |--- value: [1.60]\n",
            "|   |   |   |   |   |   |   |   |--- feature_8 >  18.50\n",
            "|   |   |   |   |   |   |   |   |   |--- value: [-2.20]\n",
            "|   |   |   |   |--- feature_23 >  1.50\n",
            "|   |   |   |   |   |--- feature_1 <= 0.70\n",
            "|   |   |   |   |   |   |--- feature_6 <= 23.50\n",
            "|   |   |   |   |   |   |   |--- value: [-4.70]\n",
            "|   |   |   |   |   |   |--- feature_6 >  23.50\n",
            "|   |   |   |   |   |   |   |--- feature_25 <= 0.52\n",
            "|   |   |   |   |   |   |   |   |--- value: [-13.40]\n",
            "|   |   |   |   |   |   |   |--- feature_25 >  0.52\n",
            "|   |   |   |   |   |   |   |   |--- value: [-21.40]\n",
            "|   |   |   |   |   |--- feature_1 >  0.70\n",
            "|   |   |   |   |   |   |--- feature_23 <= 9.50\n",
            "|   |   |   |   |   |   |   |--- feature_21 <= 8.00\n",
            "|   |   |   |   |   |   |   |   |--- feature_6 <= 27.00\n",
            "|   |   |   |   |   |   |   |   |   |--- value: [0.00]\n",
            "|   |   |   |   |   |   |   |   |--- feature_6 >  27.00\n",
            "|   |   |   |   |   |   |   |   |   |--- value: [2.10]\n",
            "|   |   |   |   |   |   |   |--- feature_21 >  8.00\n",
            "|   |   |   |   |   |   |   |   |--- feature_4 <= 158.35\n",
            "|   |   |   |   |   |   |   |   |   |--- value: [4.30]\n",
            "|   |   |   |   |   |   |   |   |--- feature_4 >  158.35\n",
            "|   |   |   |   |   |   |   |   |   |--- feature_4 <= 171.30\n",
            "|   |   |   |   |   |   |   |   |   |   |--- value: [15.30]\n",
            "|   |   |   |   |   |   |   |   |   |--- feature_4 >  171.30\n",
            "|   |   |   |   |   |   |   |   |   |   |--- feature_8 <= 33.00\n",
            "|   |   |   |   |   |   |   |   |   |   |   |--- truncated branch of depth 2\n",
            "|   |   |   |   |   |   |   |   |   |   |--- feature_8 >  33.00\n",
            "|   |   |   |   |   |   |   |   |   |   |   |--- value: [13.60]\n",
            "|   |   |   |   |   |   |--- feature_23 >  9.50\n",
            "|   |   |   |   |   |   |   |--- feature_5 <= 16.50\n",
            "|   |   |   |   |   |   |   |   |--- feature_6 <= 16.50\n",
            "|   |   |   |   |   |   |   |   |   |--- value: [3.80]\n",
            "|   |   |   |   |   |   |   |   |--- feature_6 >  16.50\n",
            "|   |   |   |   |   |   |   |   |   |--- feature_26 <= 21.00\n",
            "|   |   |   |   |   |   |   |   |   |   |--- value: [1.40]\n",
            "|   |   |   |   |   |   |   |   |   |--- feature_26 >  21.00\n",
            "|   |   |   |   |   |   |   |   |   |   |--- feature_4 <= 187.60\n",
            "|   |   |   |   |   |   |   |   |   |   |   |--- value: [0.90]\n",
            "|   |   |   |   |   |   |   |   |   |   |--- feature_4 >  187.60\n",
            "|   |   |   |   |   |   |   |   |   |   |   |--- value: [1.10]\n",
            "|   |   |   |   |   |   |   |--- feature_5 >  16.50\n",
            "|   |   |   |   |   |   |   |   |--- feature_21 <= 23.50\n",
            "|   |   |   |   |   |   |   |   |   |--- value: [-2.40]\n",
            "|   |   |   |   |   |   |   |   |--- feature_21 >  23.50\n",
            "|   |   |   |   |   |   |   |   |   |--- value: [-3.40]\n",
            "|   |   |--- feature_20 >  98.40\n",
            "|   |   |   |--- feature_18 <= 19.50\n",
            "|   |   |   |   |--- value: [50.50]\n",
            "|   |   |   |--- feature_18 >  19.50\n",
            "|   |   |   |   |--- feature_5 <= 14.50\n",
            "|   |   |   |   |   |--- feature_18 <= 52.00\n",
            "|   |   |   |   |   |   |--- feature_28 <= 216.65\n",
            "|   |   |   |   |   |   |   |--- value: [12.80]\n",
            "|   |   |   |   |   |   |--- feature_28 >  216.65\n",
            "|   |   |   |   |   |   |   |--- feature_19 <= 57.50\n",
            "|   |   |   |   |   |   |   |   |--- value: [22.30]\n",
            "|   |   |   |   |   |   |   |--- feature_19 >  57.50\n",
            "|   |   |   |   |   |   |   |   |--- value: [18.90]\n",
            "|   |   |   |   |   |--- feature_18 >  52.00\n",
            "|   |   |   |   |   |   |--- feature_24 <= 0.57\n",
            "|   |   |   |   |   |   |   |--- feature_0 <= 34.65\n",
            "|   |   |   |   |   |   |   |   |--- value: [24.00]\n",
            "|   |   |   |   |   |   |   |--- feature_0 >  34.65\n",
            "|   |   |   |   |   |   |   |   |--- feature_15 <= 2017.50\n",
            "|   |   |   |   |   |   |   |   |   |--- value: [25.60]\n",
            "|   |   |   |   |   |   |   |   |--- feature_15 >  2017.50\n",
            "|   |   |   |   |   |   |   |   |   |--- value: [25.40]\n",
            "|   |   |   |   |   |   |--- feature_24 >  0.57\n",
            "|   |   |   |   |   |   |   |--- feature_21 <= 18.50\n",
            "|   |   |   |   |   |   |   |   |--- value: [28.60]\n",
            "|   |   |   |   |   |   |   |--- feature_21 >  18.50\n",
            "|   |   |   |   |   |   |   |   |--- value: [30.30]\n",
            "|   |   |   |   |--- feature_5 >  14.50\n",
            "|   |   |   |   |   |--- feature_8 <= 18.50\n",
            "|   |   |   |   |   |   |--- feature_24 <= 0.48\n",
            "|   |   |   |   |   |   |   |--- feature_3 <= 0.41\n",
            "|   |   |   |   |   |   |   |   |--- value: [16.30]\n",
            "|   |   |   |   |   |   |   |--- feature_3 >  0.41\n",
            "|   |   |   |   |   |   |   |   |--- feature_21 <= 19.00\n",
            "|   |   |   |   |   |   |   |   |   |--- value: [14.80]\n",
            "|   |   |   |   |   |   |   |   |--- feature_21 >  19.00\n",
            "|   |   |   |   |   |   |   |   |   |--- feature_4 <= 252.05\n",
            "|   |   |   |   |   |   |   |   |   |   |--- value: [13.80]\n",
            "|   |   |   |   |   |   |   |   |   |--- feature_4 >  252.05\n",
            "|   |   |   |   |   |   |   |   |   |   |--- value: [14.20]\n",
            "|   |   |   |   |   |   |--- feature_24 >  0.48\n",
            "|   |   |   |   |   |   |   |--- feature_3 <= 0.32\n",
            "|   |   |   |   |   |   |   |   |--- feature_1 <= 0.74\n",
            "|   |   |   |   |   |   |   |   |   |--- value: [27.00]\n",
            "|   |   |   |   |   |   |   |   |--- feature_1 >  0.74\n",
            "|   |   |   |   |   |   |   |   |   |--- value: [32.80]\n",
            "|   |   |   |   |   |   |   |--- feature_3 >  0.32\n",
            "|   |   |   |   |   |   |   |   |--- feature_1 <= 0.89\n",
            "|   |   |   |   |   |   |   |   |   |--- feature_25 <= 0.45\n",
            "|   |   |   |   |   |   |   |   |   |   |--- value: [22.30]\n",
            "|   |   |   |   |   |   |   |   |   |--- feature_25 >  0.45\n",
            "|   |   |   |   |   |   |   |   |   |   |--- feature_0 <= 15.60\n",
            "|   |   |   |   |   |   |   |   |   |   |   |--- value: [21.30]\n",
            "|   |   |   |   |   |   |   |   |   |   |--- feature_0 >  15.60\n",
            "|   |   |   |   |   |   |   |   |   |   |   |--- value: [20.40]\n",
            "|   |   |   |   |   |   |   |   |--- feature_1 >  0.89\n",
            "|   |   |   |   |   |   |   |   |   |--- value: [24.70]\n",
            "|   |   |   |   |   |--- feature_8 >  18.50\n",
            "|   |   |   |   |   |   |--- feature_6 <= 32.50\n",
            "|   |   |   |   |   |   |   |--- feature_5 <= 81.00\n",
            "|   |   |   |   |   |   |   |   |--- feature_7 <= 15.00\n",
            "|   |   |   |   |   |   |   |   |   |--- feature_19 <= 43.00\n",
            "|   |   |   |   |   |   |   |   |   |   |--- value: [13.90]\n",
            "|   |   |   |   |   |   |   |   |   |--- feature_19 >  43.00\n",
            "|   |   |   |   |   |   |   |   |   |   |--- value: [12.60]\n",
            "|   |   |   |   |   |   |   |   |--- feature_7 >  15.00\n",
            "|   |   |   |   |   |   |   |   |   |--- feature_9 <= 30.50\n",
            "|   |   |   |   |   |   |   |   |   |   |--- feature_17 <= 48.00\n",
            "|   |   |   |   |   |   |   |   |   |   |   |--- truncated branch of depth 6\n",
            "|   |   |   |   |   |   |   |   |   |   |--- feature_17 >  48.00\n",
            "|   |   |   |   |   |   |   |   |   |   |   |--- value: [7.60]\n",
            "|   |   |   |   |   |   |   |   |   |--- feature_9 >  30.50\n",
            "|   |   |   |   |   |   |   |   |   |   |--- value: [14.90]\n",
            "|   |   |   |   |   |   |   |--- feature_5 >  81.00\n",
            "|   |   |   |   |   |   |   |   |--- feature_17 <= 34.50\n",
            "|   |   |   |   |   |   |   |   |   |--- value: [18.50]\n",
            "|   |   |   |   |   |   |   |   |--- feature_17 >  34.50\n",
            "|   |   |   |   |   |   |   |   |   |--- feature_26 <= 30.00\n",
            "|   |   |   |   |   |   |   |   |   |   |--- value: [17.50]\n",
            "|   |   |   |   |   |   |   |   |   |--- feature_26 >  30.00\n",
            "|   |   |   |   |   |   |   |   |   |   |--- value: [17.40]\n",
            "|   |   |   |   |   |   |--- feature_6 >  32.50\n",
            "|   |   |   |   |   |   |   |--- feature_12 <= 49.00\n",
            "|   |   |   |   |   |   |   |   |--- feature_18 <= 48.00\n",
            "|   |   |   |   |   |   |   |   |   |--- value: [23.30]\n",
            "|   |   |   |   |   |   |   |   |--- feature_18 >  48.00\n",
            "|   |   |   |   |   |   |   |   |   |--- value: [24.40]\n",
            "|   |   |   |   |   |   |   |--- feature_12 >  49.00\n",
            "|   |   |   |   |   |   |   |   |--- feature_1 <= 0.74\n",
            "|   |   |   |   |   |   |   |   |   |--- feature_11 <= 74.00\n",
            "|   |   |   |   |   |   |   |   |   |   |--- value: [19.50]\n",
            "|   |   |   |   |   |   |   |   |   |--- feature_11 >  74.00\n",
            "|   |   |   |   |   |   |   |   |   |   |--- value: [19.00]\n",
            "|   |   |   |   |   |   |   |   |--- feature_1 >  0.74\n",
            "|   |   |   |   |   |   |   |   |   |--- feature_23 <= 1.50\n",
            "|   |   |   |   |   |   |   |   |   |   |--- feature_8 <= 27.00\n",
            "|   |   |   |   |   |   |   |   |   |   |   |--- value: [16.00]\n",
            "|   |   |   |   |   |   |   |   |   |   |--- feature_8 >  27.00\n",
            "|   |   |   |   |   |   |   |   |   |   |   |--- value: [15.30]\n",
            "|   |   |   |   |   |   |   |   |   |--- feature_23 >  1.50\n",
            "|   |   |   |   |   |   |   |   |   |   |--- value: [17.10]\n",
            "|   |--- feature_17 >  51.00\n",
            "|   |   |--- feature_15 <= 2019.50\n",
            "|   |   |   |--- feature_5 <= 3.00\n",
            "|   |   |   |   |--- value: [-24.70]\n",
            "|   |   |   |--- feature_5 >  3.00\n",
            "|   |   |   |   |--- feature_7 <= 69.20\n",
            "|   |   |   |   |   |--- feature_24 <= 0.54\n",
            "|   |   |   |   |   |   |--- feature_5 <= 105.50\n",
            "|   |   |   |   |   |   |   |--- feature_26 <= 41.00\n",
            "|   |   |   |   |   |   |   |   |--- feature_21 <= 44.50\n",
            "|   |   |   |   |   |   |   |   |   |--- feature_27 <= 53.50\n",
            "|   |   |   |   |   |   |   |   |   |   |--- value: [0.00]\n",
            "|   |   |   |   |   |   |   |   |   |--- feature_27 >  53.50\n",
            "|   |   |   |   |   |   |   |   |   |   |--- value: [3.30]\n",
            "|   |   |   |   |   |   |   |   |--- feature_21 >  44.50\n",
            "|   |   |   |   |   |   |   |   |   |--- value: [-16.70]\n",
            "|   |   |   |   |   |   |   |--- feature_26 >  41.00\n",
            "|   |   |   |   |   |   |   |   |--- feature_16 <= 210.00\n",
            "|   |   |   |   |   |   |   |   |   |--- feature_9 <= 18.50\n",
            "|   |   |   |   |   |   |   |   |   |   |--- feature_9 <= 13.00\n",
            "|   |   |   |   |   |   |   |   |   |   |   |--- truncated branch of depth 3\n",
            "|   |   |   |   |   |   |   |   |   |   |--- feature_9 >  13.00\n",
            "|   |   |   |   |   |   |   |   |   |   |   |--- truncated branch of depth 3\n",
            "|   |   |   |   |   |   |   |   |   |--- feature_9 >  18.50\n",
            "|   |   |   |   |   |   |   |   |   |   |--- feature_13 <= 525.90\n",
            "|   |   |   |   |   |   |   |   |   |   |   |--- truncated branch of depth 2\n",
            "|   |   |   |   |   |   |   |   |   |   |--- feature_13 >  525.90\n",
            "|   |   |   |   |   |   |   |   |   |   |   |--- value: [28.50]\n",
            "|   |   |   |   |   |   |   |   |--- feature_16 >  210.00\n",
            "|   |   |   |   |   |   |   |   |   |--- feature_22 <= 65.50\n",
            "|   |   |   |   |   |   |   |   |   |   |--- feature_10 <= 109.50\n",
            "|   |   |   |   |   |   |   |   |   |   |   |--- truncated branch of depth 11\n",
            "|   |   |   |   |   |   |   |   |   |   |--- feature_10 >  109.50\n",
            "|   |   |   |   |   |   |   |   |   |   |   |--- truncated branch of depth 7\n",
            "|   |   |   |   |   |   |   |   |   |--- feature_22 >  65.50\n",
            "|   |   |   |   |   |   |   |   |   |   |--- feature_25 <= 0.49\n",
            "|   |   |   |   |   |   |   |   |   |   |   |--- truncated branch of depth 3\n",
            "|   |   |   |   |   |   |   |   |   |   |--- feature_25 >  0.49\n",
            "|   |   |   |   |   |   |   |   |   |   |   |--- truncated branch of depth 2\n",
            "|   |   |   |   |   |   |--- feature_5 >  105.50\n",
            "|   |   |   |   |   |   |   |--- feature_23 <= 30.50\n",
            "|   |   |   |   |   |   |   |   |--- feature_18 <= 54.00\n",
            "|   |   |   |   |   |   |   |   |   |--- value: [24.60]\n",
            "|   |   |   |   |   |   |   |   |--- feature_18 >  54.00\n",
            "|   |   |   |   |   |   |   |   |   |--- feature_10 <= 63.00\n",
            "|   |   |   |   |   |   |   |   |   |   |--- value: [14.20]\n",
            "|   |   |   |   |   |   |   |   |   |--- feature_10 >  63.00\n",
            "|   |   |   |   |   |   |   |   |   |   |--- feature_7 <= 53.50\n",
            "|   |   |   |   |   |   |   |   |   |   |   |--- value: [18.60]\n",
            "|   |   |   |   |   |   |   |   |   |   |--- feature_7 >  53.50\n",
            "|   |   |   |   |   |   |   |   |   |   |   |--- truncated branch of depth 3\n",
            "|   |   |   |   |   |   |   |--- feature_23 >  30.50\n",
            "|   |   |   |   |   |   |   |   |--- value: [1.60]\n",
            "|   |   |   |   |   |--- feature_24 >  0.54\n",
            "|   |   |   |   |   |   |--- feature_2 <= 19.50\n",
            "|   |   |   |   |   |   |   |--- value: [34.90]\n",
            "|   |   |   |   |   |   |--- feature_2 >  19.50\n",
            "|   |   |   |   |   |   |   |--- feature_25 <= 0.50\n",
            "|   |   |   |   |   |   |   |   |--- feature_23 <= 21.00\n",
            "|   |   |   |   |   |   |   |   |   |--- feature_18 <= 95.50\n",
            "|   |   |   |   |   |   |   |   |   |   |--- value: [4.00]\n",
            "|   |   |   |   |   |   |   |   |   |--- feature_18 >  95.50\n",
            "|   |   |   |   |   |   |   |   |   |   |--- feature_0 <= 54.80\n",
            "|   |   |   |   |   |   |   |   |   |   |   |--- value: [1.60]\n",
            "|   |   |   |   |   |   |   |   |   |   |--- feature_0 >  54.80\n",
            "|   |   |   |   |   |   |   |   |   |   |   |--- value: [1.40]\n",
            "|   |   |   |   |   |   |   |   |--- feature_23 >  21.00\n",
            "|   |   |   |   |   |   |   |   |   |--- value: [13.30]\n",
            "|   |   |   |   |   |   |   |--- feature_25 >  0.50\n",
            "|   |   |   |   |   |   |   |   |--- feature_8 <= 56.50\n",
            "|   |   |   |   |   |   |   |   |   |--- feature_19 <= 169.00\n",
            "|   |   |   |   |   |   |   |   |   |   |--- feature_2 <= 48.50\n",
            "|   |   |   |   |   |   |   |   |   |   |   |--- value: [18.30]\n",
            "|   |   |   |   |   |   |   |   |   |   |--- feature_2 >  48.50\n",
            "|   |   |   |   |   |   |   |   |   |   |   |--- truncated branch of depth 2\n",
            "|   |   |   |   |   |   |   |   |   |--- feature_19 >  169.00\n",
            "|   |   |   |   |   |   |   |   |   |   |--- feature_16 <= 202.00\n",
            "|   |   |   |   |   |   |   |   |   |   |   |--- value: [1.90]\n",
            "|   |   |   |   |   |   |   |   |   |   |--- feature_16 >  202.00\n",
            "|   |   |   |   |   |   |   |   |   |   |   |--- value: [2.70]\n",
            "|   |   |   |   |   |   |   |   |--- feature_8 >  56.50\n",
            "|   |   |   |   |   |   |   |   |   |--- feature_23 <= 45.50\n",
            "|   |   |   |   |   |   |   |   |   |   |--- feature_18 <= 169.50\n",
            "|   |   |   |   |   |   |   |   |   |   |   |--- truncated branch of depth 4\n",
            "|   |   |   |   |   |   |   |   |   |   |--- feature_18 >  169.50\n",
            "|   |   |   |   |   |   |   |   |   |   |   |--- truncated branch of depth 2\n",
            "|   |   |   |   |   |   |   |   |   |--- feature_23 >  45.50\n",
            "|   |   |   |   |   |   |   |   |   |   |--- feature_7 <= 62.50\n",
            "|   |   |   |   |   |   |   |   |   |   |   |--- value: [22.00]\n",
            "|   |   |   |   |   |   |   |   |   |   |--- feature_7 >  62.50\n",
            "|   |   |   |   |   |   |   |   |   |   |   |--- value: [25.70]\n",
            "|   |   |   |   |--- feature_7 >  69.20\n",
            "|   |   |   |   |   |--- feature_11 <= 165.50\n",
            "|   |   |   |   |   |   |--- feature_12 <= 191.00\n",
            "|   |   |   |   |   |   |   |--- feature_1 <= 0.63\n",
            "|   |   |   |   |   |   |   |   |--- feature_2 <= 65.00\n",
            "|   |   |   |   |   |   |   |   |   |--- feature_9 <= 21.50\n",
            "|   |   |   |   |   |   |   |   |   |   |--- value: [0.10]\n",
            "|   |   |   |   |   |   |   |   |   |--- feature_9 >  21.50\n",
            "|   |   |   |   |   |   |   |   |   |   |--- value: [0.00]\n",
            "|   |   |   |   |   |   |   |   |--- feature_2 >  65.00\n",
            "|   |   |   |   |   |   |   |   |   |--- feature_23 <= 38.00\n",
            "|   |   |   |   |   |   |   |   |   |   |--- value: [1.90]\n",
            "|   |   |   |   |   |   |   |   |   |--- feature_23 >  38.00\n",
            "|   |   |   |   |   |   |   |   |   |   |--- value: [3.90]\n",
            "|   |   |   |   |   |   |   |--- feature_1 >  0.63\n",
            "|   |   |   |   |   |   |   |   |--- feature_1 <= 0.76\n",
            "|   |   |   |   |   |   |   |   |   |--- feature_22 <= 10.50\n",
            "|   |   |   |   |   |   |   |   |   |   |--- feature_12 <= 155.00\n",
            "|   |   |   |   |   |   |   |   |   |   |   |--- value: [10.90]\n",
            "|   |   |   |   |   |   |   |   |   |   |--- feature_12 >  155.00\n",
            "|   |   |   |   |   |   |   |   |   |   |   |--- value: [11.30]\n",
            "|   |   |   |   |   |   |   |   |   |--- feature_22 >  10.50\n",
            "|   |   |   |   |   |   |   |   |   |   |--- feature_10 <= 81.50\n",
            "|   |   |   |   |   |   |   |   |   |   |   |--- value: [10.30]\n",
            "|   |   |   |   |   |   |   |   |   |   |--- feature_10 >  81.50\n",
            "|   |   |   |   |   |   |   |   |   |   |   |--- value: [9.50]\n",
            "|   |   |   |   |   |   |   |   |--- feature_1 >  0.76\n",
            "|   |   |   |   |   |   |   |   |   |--- feature_7 <= 84.00\n",
            "|   |   |   |   |   |   |   |   |   |   |--- value: [2.20]\n",
            "|   |   |   |   |   |   |   |   |   |--- feature_7 >  84.00\n",
            "|   |   |   |   |   |   |   |   |   |   |--- value: [0.00]\n",
            "|   |   |   |   |   |   |--- feature_12 >  191.00\n",
            "|   |   |   |   |   |   |   |--- feature_18 <= 157.50\n",
            "|   |   |   |   |   |   |   |   |--- feature_27 <= 122.50\n",
            "|   |   |   |   |   |   |   |   |   |--- value: [18.00]\n",
            "|   |   |   |   |   |   |   |   |--- feature_27 >  122.50\n",
            "|   |   |   |   |   |   |   |   |   |--- value: [20.70]\n",
            "|   |   |   |   |   |   |   |--- feature_18 >  157.50\n",
            "|   |   |   |   |   |   |   |   |--- value: [11.70]\n",
            "|   |   |   |   |   |--- feature_11 >  165.50\n",
            "|   |   |   |   |   |   |--- feature_22 <= 18.00\n",
            "|   |   |   |   |   |   |   |--- feature_23 <= 98.50\n",
            "|   |   |   |   |   |   |   |   |--- feature_16 <= 289.00\n",
            "|   |   |   |   |   |   |   |   |   |--- value: [2.80]\n",
            "|   |   |   |   |   |   |   |   |--- feature_16 >  289.00\n",
            "|   |   |   |   |   |   |   |   |   |--- feature_8 <= 120.00\n",
            "|   |   |   |   |   |   |   |   |   |   |--- value: [3.10]\n",
            "|   |   |   |   |   |   |   |   |   |--- feature_8 >  120.00\n",
            "|   |   |   |   |   |   |   |   |   |   |--- feature_9 <= 24.50\n",
            "|   |   |   |   |   |   |   |   |   |   |   |--- value: [3.20]\n",
            "|   |   |   |   |   |   |   |   |   |   |--- feature_9 >  24.50\n",
            "|   |   |   |   |   |   |   |   |   |   |   |--- value: [3.30]\n",
            "|   |   |   |   |   |   |   |--- feature_23 >  98.50\n",
            "|   |   |   |   |   |   |   |   |--- value: [4.00]\n",
            "|   |   |   |   |   |   |--- feature_22 >  18.00\n",
            "|   |   |   |   |   |   |   |--- feature_24 <= 0.48\n",
            "|   |   |   |   |   |   |   |   |--- feature_10 <= 287.00\n",
            "|   |   |   |   |   |   |   |   |   |--- feature_16 <= 560.00\n",
            "|   |   |   |   |   |   |   |   |   |   |--- feature_21 <= 98.00\n",
            "|   |   |   |   |   |   |   |   |   |   |   |--- value: [1.60]\n",
            "|   |   |   |   |   |   |   |   |   |   |--- feature_21 >  98.00\n",
            "|   |   |   |   |   |   |   |   |   |   |   |--- value: [1.40]\n",
            "|   |   |   |   |   |   |   |   |   |--- feature_16 >  560.00\n",
            "|   |   |   |   |   |   |   |   |   |   |--- value: [1.90]\n",
            "|   |   |   |   |   |   |   |   |--- feature_10 >  287.00\n",
            "|   |   |   |   |   |   |   |   |   |--- value: [0.70]\n",
            "|   |   |   |   |   |   |   |--- feature_24 >  0.48\n",
            "|   |   |   |   |   |   |   |   |--- feature_16 <= 593.00\n",
            "|   |   |   |   |   |   |   |   |   |--- feature_29 <= 1297.50\n",
            "|   |   |   |   |   |   |   |   |   |   |--- feature_7 <= 84.60\n",
            "|   |   |   |   |   |   |   |   |   |   |   |--- value: [2.70]\n",
            "|   |   |   |   |   |   |   |   |   |   |--- feature_7 >  84.60\n",
            "|   |   |   |   |   |   |   |   |   |   |   |--- truncated branch of depth 2\n",
            "|   |   |   |   |   |   |   |   |   |--- feature_29 >  1297.50\n",
            "|   |   |   |   |   |   |   |   |   |   |--- feature_5 <= 110.00\n",
            "|   |   |   |   |   |   |   |   |   |   |   |--- truncated branch of depth 2\n",
            "|   |   |   |   |   |   |   |   |   |   |--- feature_5 >  110.00\n",
            "|   |   |   |   |   |   |   |   |   |   |   |--- truncated branch of depth 2\n",
            "|   |   |   |   |   |   |   |   |--- feature_16 >  593.00\n",
            "|   |   |   |   |   |   |   |   |   |--- feature_28 <= 1536.85\n",
            "|   |   |   |   |   |   |   |   |   |   |--- value: [3.00]\n",
            "|   |   |   |   |   |   |   |   |   |--- feature_28 >  1536.85\n",
            "|   |   |   |   |   |   |   |   |   |   |--- value: [2.90]\n",
            "|   |   |--- feature_15 >  2019.50\n",
            "|   |   |   |--- feature_27 <= 129.00\n",
            "|   |   |   |   |--- feature_7 <= 65.90\n",
            "|   |   |   |   |   |--- feature_19 <= 152.00\n",
            "|   |   |   |   |   |   |--- feature_24 <= 0.42\n",
            "|   |   |   |   |   |   |   |--- value: [19.00]\n",
            "|   |   |   |   |   |   |--- feature_24 >  0.42\n",
            "|   |   |   |   |   |   |   |--- feature_26 <= 65.00\n",
            "|   |   |   |   |   |   |   |   |--- value: [17.30]\n",
            "|   |   |   |   |   |   |   |--- feature_26 >  65.00\n",
            "|   |   |   |   |   |   |   |   |--- feature_2 <= 27.00\n",
            "|   |   |   |   |   |   |   |   |   |--- value: [15.60]\n",
            "|   |   |   |   |   |   |   |   |--- feature_2 >  27.00\n",
            "|   |   |   |   |   |   |   |   |   |--- value: [16.10]\n",
            "|   |   |   |   |   |--- feature_19 >  152.00\n",
            "|   |   |   |   |   |   |--- feature_3 <= 0.35\n",
            "|   |   |   |   |   |   |   |--- value: [13.90]\n",
            "|   |   |   |   |   |   |--- feature_3 >  0.35\n",
            "|   |   |   |   |   |   |   |--- value: [12.80]\n",
            "|   |   |   |   |--- feature_7 >  65.90\n",
            "|   |   |   |   |   |--- feature_12 <= 212.50\n",
            "|   |   |   |   |   |   |--- feature_17 <= 142.00\n",
            "|   |   |   |   |   |   |   |--- value: [12.10]\n",
            "|   |   |   |   |   |   |--- feature_17 >  142.00\n",
            "|   |   |   |   |   |   |   |--- value: [12.10]\n",
            "|   |   |   |   |   |--- feature_12 >  212.50\n",
            "|   |   |   |   |   |   |--- value: [10.10]\n",
            "|   |   |   |--- feature_27 >  129.00\n",
            "|   |   |   |   |--- feature_3 <= 0.33\n",
            "|   |   |   |   |   |--- feature_2 <= 107.50\n",
            "|   |   |   |   |   |   |--- feature_0 <= 61.00\n",
            "|   |   |   |   |   |   |   |--- feature_11 <= 205.00\n",
            "|   |   |   |   |   |   |   |   |--- value: [22.30]\n",
            "|   |   |   |   |   |   |   |--- feature_11 >  205.00\n",
            "|   |   |   |   |   |   |   |   |--- value: [22.80]\n",
            "|   |   |   |   |   |   |--- feature_0 >  61.00\n",
            "|   |   |   |   |   |   |   |--- feature_20 <= 448.65\n",
            "|   |   |   |   |   |   |   |   |--- value: [23.50]\n",
            "|   |   |   |   |   |   |   |--- feature_20 >  448.65\n",
            "|   |   |   |   |   |   |   |   |--- value: [23.50]\n",
            "|   |   |   |   |   |--- feature_2 >  107.50\n",
            "|   |   |   |   |   |   |--- value: [21.00]\n",
            "|   |   |   |   |--- feature_3 >  0.33\n",
            "|   |   |   |   |   |--- value: [16.80]\n",
            "\n"
          ]
        }
      ],
      "source": [
        "text_representation = tree.export_text(dt)\n",
        "print(text_representation)"
      ]
    },
    {
      "cell_type": "code",
      "execution_count": 45,
      "metadata": {
        "id": "NMgH16T5Pdlz",
        "colab": {
          "base_uri": "https://localhost:8080/",
          "height": 1000
        },
        "outputId": "b1d2985f-5440-45bd-9107-a647ee5fafc6"
      },
      "outputs": [
        {
          "output_type": "display_data",
          "data": {
            "text/plain": [
              "<Figure size 2000x1600 with 1 Axes>"
            ],
            "image/png": "[encoded data removed]"
          },
          "metadata": {}
        }
      ],
      "source": [
        "fig = plt.figure(figsize=(20,16))\n",
        "tree.plot_tree(dt, feature_names=X_train.columns);"
      ]
    },
    {
      "cell_type": "markdown",
      "metadata": {
        "id": "e0V0cgFxZS-6"
      },
      "source": [
        "#### 4.3 b) Reduced Tree"
      ]
    },
    {
      "cell_type": "code",
      "execution_count": 46,
      "metadata": {
        "id": "wZqjrj_JPdly",
        "colab": {
          "base_uri": "https://localhost:8080/",
          "height": 92
        },
        "outputId": "f286cc12-1712-476c-85b9-5ad896253c30"
      },
      "outputs": [
        {
          "output_type": "execute_result",
          "data": {
            "text/plain": [
              "DecisionTreeRegressor(max_depth=5, min_impurity_decrease=0.01,\n",
              "                      min_samples_leaf=100, min_samples_split=40)"
            ],
            "text/html": [
              "<style>#sk-container-id-2 {color: black;background-color: white;}#sk-container-id-2 pre{padding: 0;}#sk-container-id-2 div.sk-toggleable {background-color: white;}#sk-container-id-2 label.sk-toggleable__label {cursor: pointer;display: block;width: 100%;margin-bottom: 0;padding: 0.3em;box-sizing: border-box;text-align: center;}#sk-container-id-2 label.sk-toggleable__label-arrow:before {content: \"▸\";float: left;margin-right: 0.25em;color: #696969;}#sk-container-id-2 label.sk-toggleable__label-arrow:hover:before {color: black;}#sk-container-id-2 div.sk-estimator:hover label.sk-toggleable__label-arrow:before {color: black;}#sk-container-id-2 div.sk-toggleable__content {max-height: 0;max-width: 0;overflow: hidden;text-align: left;background-color: #f0f8ff;}#sk-container-id-2 div.sk-toggleable__content pre {margin: 0.2em;color: black;border-radius: 0.25em;background-color: #f0f8ff;}#sk-container-id-2 input.sk-toggleable__control:checked~div.sk-toggleable__content {max-height: 200px;max-width: 100%;overflow: auto;}#sk-container-id-2 input.sk-toggleable__control:checked~label.sk-toggleable__label-arrow:before {content: \"▾\";}#sk-container-id-2 div.sk-estimator input.sk-toggleable__control:checked~label.sk-toggleable__label {background-color: #d4ebff;}#sk-container-id-2 div.sk-label input.sk-toggleable__control:checked~label.sk-toggleable__label {background-color: #d4ebff;}#sk-container-id-2 input.sk-hidden--visually {border: 0;clip: rect(1px 1px 1px 1px);clip: rect(1px, 1px, 1px, 1px);height: 1px;margin: -1px;overflow: hidden;padding: 0;position: absolute;width: 1px;}#sk-container-id-2 div.sk-estimator {font-family: monospace;background-color: #f0f8ff;border: 1px dotted black;border-radius: 0.25em;box-sizing: border-box;margin-bottom: 0.5em;}#sk-container-id-2 div.sk-estimator:hover {background-color: #d4ebff;}#sk-container-id-2 div.sk-parallel-item::after {content: \"\";width: 100%;border-bottom: 1px solid gray;flex-grow: 1;}#sk-container-id-2 div.sk-label:hover label.sk-toggleable__label {background-color: #d4ebff;}#sk-container-id-2 div.sk-serial::before {content: \"\";position: absolute;border-left: 1px solid gray;box-sizing: border-box;top: 0;bottom: 0;left: 50%;z-index: 0;}#sk-container-id-2 div.sk-serial {display: flex;flex-direction: column;align-items: center;background-color: white;padding-right: 0.2em;padding-left: 0.2em;position: relative;}#sk-container-id-2 div.sk-item {position: relative;z-index: 1;}#sk-container-id-2 div.sk-parallel {display: flex;align-items: stretch;justify-content: center;background-color: white;position: relative;}#sk-container-id-2 div.sk-item::before, #sk-container-id-2 div.sk-parallel-item::before {content: \"\";position: absolute;border-left: 1px solid gray;box-sizing: border-box;top: 0;bottom: 0;left: 50%;z-index: -1;}#sk-container-id-2 div.sk-parallel-item {display: flex;flex-direction: column;z-index: 1;position: relative;background-color: white;}#sk-container-id-2 div.sk-parallel-item:first-child::after {align-self: flex-end;width: 50%;}#sk-container-id-2 div.sk-parallel-item:last-child::after {align-self: flex-start;width: 50%;}#sk-container-id-2 div.sk-parallel-item:only-child::after {width: 0;}#sk-container-id-2 div.sk-dashed-wrapped {border: 1px dashed gray;margin: 0 0.4em 0.5em 0.4em;box-sizing: border-box;padding-bottom: 0.4em;background-color: white;}#sk-container-id-2 div.sk-label label {font-family: monospace;font-weight: bold;display: inline-block;line-height: 1.2em;}#sk-container-id-2 div.sk-label-container {text-align: center;}#sk-container-id-2 div.sk-container {/* jupyter's `normalize.less` sets `[hidden] { display: none; }` but bootstrap.min.css set `[hidden] { display: none !important; }` so we also need the `!important` here to be able to override the default hidden behavior on the sphinx rendered scikit-learn.org. See: https://github.com/scikit-learn/scikit-learn/issues/21755 */display: inline-block !important;position: relative;}#sk-container-id-2 div.sk-text-repr-fallback {display: none;}</style><div id=\"sk-container-id-2\" class=\"sk-top-container\"><div class=\"sk-text-repr-fallback\"><pre>DecisionTreeRegressor(max_depth=5, min_impurity_decrease=0.01,\n",
              "                      min_samples_leaf=100, min_samples_split=40)</pre><b>In a Jupyter environment, please rerun this cell to show the HTML representation or trust the notebook. <br />On GitHub, the HTML representation is unable to render, please try loading this page with nbviewer.org.</b></div><div class=\"sk-container\" hidden><div class=\"sk-item\"><div class=\"sk-estimator sk-toggleable\"><input class=\"sk-toggleable__control sk-hidden--visually\" id=\"sk-estimator-id-2\" type=\"checkbox\" checked><label for=\"sk-estimator-id-2\" class=\"sk-toggleable__label sk-toggleable__label-arrow\">DecisionTreeRegressor</label><div class=\"sk-toggleable__content\"><pre>DecisionTreeRegressor(max_depth=5, min_impurity_decrease=0.01,\n",
              "                      min_samples_leaf=100, min_samples_split=40)</pre></div></div></div></div></div>"
            ]
          },
          "metadata": {},
          "execution_count": 46
        }
      ],
      "source": [
        "dt_reduced = DecisionTreeRegressor(max_depth=5,\n",
        "                                  min_samples_split = 40,\n",
        "                                  min_samples_leaf = 100,\n",
        "                                  min_impurity_decrease = 0.01)\n",
        "dt_reduced.fit(X_train, y_train)"
      ]
    },
    {
      "cell_type": "code",
      "execution_count": 47,
      "metadata": {
        "id": "RT-euSksPdl4",
        "colab": {
          "base_uri": "https://localhost:8080/"
        },
        "outputId": "51b575b3-1485-4a49-e91a-1f4d3f38fd9a"
      },
      "outputs": [
        {
          "output_type": "stream",
          "name": "stdout",
          "text": [
            "MSE Train:  90.50998947434778\n"
          ]
        }
      ],
      "source": [
        "y_train_reducedDT = dt_reduced.predict(X_train)\n",
        "mse_train = mean_squared_error(y_train, y_train_reducedDT)\n",
        "print('MSE Train: ', mse_train)"
      ]
    },
    {
      "cell_type": "code",
      "execution_count": 48,
      "metadata": {
        "id": "D16CSYxZPdl2",
        "colab": {
          "base_uri": "https://localhost:8080/"
        },
        "outputId": "3b1a6cd5-0b0b-4c50-db0f-d925336e81be"
      },
      "outputs": [
        {
          "output_type": "stream",
          "name": "stdout",
          "text": [
            "MSE Test:  123.97292861369367\n"
          ]
        }
      ],
      "source": [
        "y_test_reducedDT = dt_reduced.predict(X_test)\n",
        "mse_test = mean_squared_error(y_test, y_test_reducedDT)\n",
        "print('MSE Test: ', mse_test)"
      ]
    },
    {
      "cell_type": "markdown",
      "metadata": {
        "id": "CabE_ST7Pdl4"
      },
      "source": [
        "#### 4.3 c) Hyper Parameters Tuning\n",
        "Grid Search 3-fold Cross Validation"
      ]
    },
    {
      "cell_type": "code",
      "execution_count": 49,
      "metadata": {
        "id": "pdSW2naCPdl4"
      },
      "outputs": [],
      "source": [
        "# Hyper parameters range intialization for tuning\n",
        "\n",
        "parameters={\"splitter\":[\"best\",\"random\"],\n",
        "            \"max_depth\" : [1,3,5,7,9,11,12],\n",
        "           \"min_samples_leaf\":[1,2,3,4,5,6,7,8,9,10],\n",
        "           \"min_weight_fraction_leaf\":[0.1,0.2,0.3,0.4,0.5,0.6,0.7,0.8,0.9],\n",
        "           \"max_features\":[\"auto\",\"log2\",\"sqrt\",None],\n",
        "           \"max_leaf_nodes\":[None,10,20,30,40,50,60,70,80,90] }"
      ]
    },
    {
      "cell_type": "code",
      "execution_count": 50,
      "metadata": {
        "id": "xi5u-DH5Pdl4"
      },
      "outputs": [],
      "source": [
        "from sklearn.model_selection import GridSearchCV\n",
        "tuning_model = GridSearchCV(dt, param_grid=parameters, scoring='neg_mean_squared_error', cv=3, verbose=3)"
      ]
    },
    {
      "cell_type": "code",
      "execution_count": 51,
      "metadata": {
        "id": "06Zx0BRyPdl5"
      },
      "outputs": [],
      "source": [
        "# def timer(start_time=None):\n",
        "#     if not start_time:\n",
        "#         start_time=datetime.now()\n",
        "#         return start_time\n",
        "#     elif start_time:\n",
        "#         thour,temp_sec=divmod((datetime.now()-start_time).total_seconds(),3600)\n",
        "#         tmin,tsec=divmod(temp_sec,60)\n",
        "#         #print(thour,\":\",tmin,':',round(tsec,2))\n",
        "\n",
        "# from datetime import datetime\n",
        "\n",
        "# start_time=timer(None)\n",
        "# tuning_model.fit(X_train, y_train)\n",
        "# timer(start_time)"
      ]
    },
    {
      "cell_type": "code",
      "execution_count": 52,
      "metadata": {
        "id": "c_1G7MLsPdl7"
      },
      "outputs": [],
      "source": [
        "# tuning_model.best_params_"
      ]
    },
    {
      "cell_type": "markdown",
      "metadata": {
        "id": "T-nHv2a5bt3-"
      },
      "source": [
        "We commented out since the tuning needs long time to fit all models.  \n",
        "The best parameter after tuning is:   \n",
        ">\n",
        "             {'max_depth': 5,\n",
        "              'max_features': 'auto',  \n",
        "              'max_leaf_nodes': None,  \n",
        "              'min_samples_leaf': 1,  \n",
        "              'min_weight_fraction_leaf': 0.3,  \n",
        "              'splitter': 'random'}."
      ]
    },
    {
      "cell_type": "code",
      "execution_count": 53,
      "metadata": {
        "id": "PP-Ao7W3Pdl7",
        "colab": {
          "base_uri": "https://localhost:8080/",
          "height": 164
        },
        "outputId": "3cca95a9-cddb-47d2-887d-2edb7454c378"
      },
      "outputs": [
        {
          "output_type": "stream",
          "name": "stderr",
          "text": [
            "/usr/local/lib/python3.10/dist-packages/sklearn/tree/_classes.py:277: FutureWarning:\n",
            "\n",
            "`max_features='auto'` has been deprecated in 1.1 and will be removed in 1.3. To keep the past behaviour, explicitly set `max_features=1.0'`.\n",
            "\n"
          ]
        },
        {
          "output_type": "execute_result",
          "data": {
            "text/plain": [
              "DecisionTreeRegressor(max_depth=5, max_features='auto',\n",
              "                      min_weight_fraction_leaf=0.3, splitter='random')"
            ],
            "text/html": [
              "<style>#sk-container-id-3 {color: black;background-color: white;}#sk-container-id-3 pre{padding: 0;}#sk-container-id-3 div.sk-toggleable {background-color: white;}#sk-container-id-3 label.sk-toggleable__label {cursor: pointer;display: block;width: 100%;margin-bottom: 0;padding: 0.3em;box-sizing: border-box;text-align: center;}#sk-container-id-3 label.sk-toggleable__label-arrow:before {content: \"▸\";float: left;margin-right: 0.25em;color: #696969;}#sk-container-id-3 label.sk-toggleable__label-arrow:hover:before {color: black;}#sk-container-id-3 div.sk-estimator:hover label.sk-toggleable__label-arrow:before {color: black;}#sk-container-id-3 div.sk-toggleable__content {max-height: 0;max-width: 0;overflow: hidden;text-align: left;background-color: #f0f8ff;}#sk-container-id-3 div.sk-toggleable__content pre {margin: 0.2em;color: black;border-radius: 0.25em;background-color: #f0f8ff;}#sk-container-id-3 input.sk-toggleable__control:checked~div.sk-toggleable__content {max-height: 200px;max-width: 100%;overflow: auto;}#sk-container-id-3 input.sk-toggleable__control:checked~label.sk-toggleable__label-arrow:before {content: \"▾\";}#sk-container-id-3 div.sk-estimator input.sk-toggleable__control:checked~label.sk-toggleable__label {background-color: #d4ebff;}#sk-container-id-3 div.sk-label input.sk-toggleable__control:checked~label.sk-toggleable__label {background-color: #d4ebff;}#sk-container-id-3 input.sk-hidden--visually {border: 0;clip: rect(1px 1px 1px 1px);clip: rect(1px, 1px, 1px, 1px);height: 1px;margin: -1px;overflow: hidden;padding: 0;position: absolute;width: 1px;}#sk-container-id-3 div.sk-estimator {font-family: monospace;background-color: #f0f8ff;border: 1px dotted black;border-radius: 0.25em;box-sizing: border-box;margin-bottom: 0.5em;}#sk-container-id-3 div.sk-estimator:hover {background-color: #d4ebff;}#sk-container-id-3 div.sk-parallel-item::after {content: \"\";width: 100%;border-bottom: 1px solid gray;flex-grow: 1;}#sk-container-id-3 div.sk-label:hover label.sk-toggleable__label {background-color: #d4ebff;}#sk-container-id-3 div.sk-serial::before {content: \"\";position: absolute;border-left: 1px solid gray;box-sizing: border-box;top: 0;bottom: 0;left: 50%;z-index: 0;}#sk-container-id-3 div.sk-serial {display: flex;flex-direction: column;align-items: center;background-color: white;padding-right: 0.2em;padding-left: 0.2em;position: relative;}#sk-container-id-3 div.sk-item {position: relative;z-index: 1;}#sk-container-id-3 div.sk-parallel {display: flex;align-items: stretch;justify-content: center;background-color: white;position: relative;}#sk-container-id-3 div.sk-item::before, #sk-container-id-3 div.sk-parallel-item::before {content: \"\";position: absolute;border-left: 1px solid gray;box-sizing: border-box;top: 0;bottom: 0;left: 50%;z-index: -1;}#sk-container-id-3 div.sk-parallel-item {display: flex;flex-direction: column;z-index: 1;position: relative;background-color: white;}#sk-container-id-3 div.sk-parallel-item:first-child::after {align-self: flex-end;width: 50%;}#sk-container-id-3 div.sk-parallel-item:last-child::after {align-self: flex-start;width: 50%;}#sk-container-id-3 div.sk-parallel-item:only-child::after {width: 0;}#sk-container-id-3 div.sk-dashed-wrapped {border: 1px dashed gray;margin: 0 0.4em 0.5em 0.4em;box-sizing: border-box;padding-bottom: 0.4em;background-color: white;}#sk-container-id-3 div.sk-label label {font-family: monospace;font-weight: bold;display: inline-block;line-height: 1.2em;}#sk-container-id-3 div.sk-label-container {text-align: center;}#sk-container-id-3 div.sk-container {/* jupyter's `normalize.less` sets `[hidden] { display: none; }` but bootstrap.min.css set `[hidden] { display: none !important; }` so we also need the `!important` here to be able to override the default hidden behavior on the sphinx rendered scikit-learn.org. See: https://github.com/scikit-learn/scikit-learn/issues/21755 */display: inline-block !important;position: relative;}#sk-container-id-3 div.sk-text-repr-fallback {display: none;}</style><div id=\"sk-container-id-3\" class=\"sk-top-container\"><div class=\"sk-text-repr-fallback\"><pre>DecisionTreeRegressor(max_depth=5, max_features=&#x27;auto&#x27;,\n",
              "                      min_weight_fraction_leaf=0.3, splitter=&#x27;random&#x27;)</pre><b>In a Jupyter environment, please rerun this cell to show the HTML representation or trust the notebook. <br />On GitHub, the HTML representation is unable to render, please try loading this page with nbviewer.org.</b></div><div class=\"sk-container\" hidden><div class=\"sk-item\"><div class=\"sk-estimator sk-toggleable\"><input class=\"sk-toggleable__control sk-hidden--visually\" id=\"sk-estimator-id-3\" type=\"checkbox\" checked><label for=\"sk-estimator-id-3\" class=\"sk-toggleable__label sk-toggleable__label-arrow\">DecisionTreeRegressor</label><div class=\"sk-toggleable__content\"><pre>DecisionTreeRegressor(max_depth=5, max_features=&#x27;auto&#x27;,\n",
              "                      min_weight_fraction_leaf=0.3, splitter=&#x27;random&#x27;)</pre></div></div></div></div></div>"
            ]
          },
          "metadata": {},
          "execution_count": 53
        }
      ],
      "source": [
        "tuned_hyper_model= DecisionTreeRegressor(max_depth = 5,\n",
        "                                         max_features = 'auto',\n",
        "                                         max_leaf_nodes = None,\n",
        "                                         min_samples_leaf = 1,\n",
        "                                         min_weight_fraction_leaf = 0.3,\n",
        "                                         splitter = 'random')\n",
        "tuned_hyper_model.fit(X_train,y_train)"
      ]
    },
    {
      "cell_type": "code",
      "execution_count": 54,
      "metadata": {
        "id": "oIIo7jfSPdl7"
      },
      "outputs": [],
      "source": [
        "tuned_pred = tuned_hyper_model.predict(X_test)"
      ]
    },
    {
      "cell_type": "code",
      "execution_count": 55,
      "metadata": {
        "id": "2UJbHGSJPdl7",
        "colab": {
          "base_uri": "https://localhost:8080/"
        },
        "outputId": "85b886b5-c6c6-478d-db42-992ed69f378f"
      },
      "outputs": [
        {
          "output_type": "stream",
          "name": "stdout",
          "text": [
            "MAE: 8.412593037762596\n",
            "MSE: 107.55167833496863\n",
            "RMSE: 10.370712527833785\n"
          ]
        }
      ],
      "source": [
        "# with tuning\n",
        "print('MAE:', metrics.mean_absolute_error(y_test,tuned_pred))\n",
        "print('MSE:', metrics.mean_squared_error(y_test, tuned_pred))\n",
        "print('RMSE:', np.sqrt(metrics.mean_squared_error(y_test, tuned_pred)))"
      ]
    },
    {
      "cell_type": "code",
      "execution_count": 56,
      "metadata": {
        "id": "qikOFUI-Pdl8",
        "colab": {
          "base_uri": "https://localhost:8080/"
        },
        "outputId": "8f26c769-aed0-4e21-c689-0844a7d041b8"
      },
      "outputs": [
        {
          "output_type": "stream",
          "name": "stdout",
          "text": [
            "MAE: 10.251119402985076\n",
            "MSE: 200.12755597014925\n",
            "RMSE: 14.146644689471396\n"
          ]
        }
      ],
      "source": [
        "# without tuning\n",
        "print('MAE:', metrics.mean_absolute_error(y_test, y_dt_test))\n",
        "print('MSE:', metrics.mean_squared_error(y_test, y_dt_test))\n",
        "print('RMSE:', np.sqrt(metrics.mean_squared_error(y_test, y_dt_test)))"
      ]
    },
    {
      "cell_type": "markdown",
      "metadata": {
        "id": "Gv5k3Ro-Pdl8"
      },
      "source": [
        "## 4.4 Random Forest"
      ]
    },
    {
      "cell_type": "code",
      "execution_count": 57,
      "metadata": {
        "id": "rGHxD7fOW5N2"
      },
      "outputs": [],
      "source": [
        "from sklearn.ensemble import RandomForestRegressor"
      ]
    },
    {
      "cell_type": "markdown",
      "metadata": {
        "id": "-JI9pD-ydFyp"
      },
      "source": [
        "#### 4.4 a) Full Tree"
      ]
    },
    {
      "cell_type": "code",
      "execution_count": 58,
      "metadata": {
        "id": "S_Q4nlkFPdl8",
        "colab": {
          "base_uri": "https://localhost:8080/",
          "height": 75
        },
        "outputId": "fc2a85ad-c766-4892-9114-8ae7d91feb8b"
      },
      "outputs": [
        {
          "output_type": "execute_result",
          "data": {
            "text/plain": [
              "RandomForestRegressor()"
            ],
            "text/html": [
              "<style>#sk-container-id-4 {color: black;background-color: white;}#sk-container-id-4 pre{padding: 0;}#sk-container-id-4 div.sk-toggleable {background-color: white;}#sk-container-id-4 label.sk-toggleable__label {cursor: pointer;display: block;width: 100%;margin-bottom: 0;padding: 0.3em;box-sizing: border-box;text-align: center;}#sk-container-id-4 label.sk-toggleable__label-arrow:before {content: \"▸\";float: left;margin-right: 0.25em;color: #696969;}#sk-container-id-4 label.sk-toggleable__label-arrow:hover:before {color: black;}#sk-container-id-4 div.sk-estimator:hover label.sk-toggleable__label-arrow:before {color: black;}#sk-container-id-4 div.sk-toggleable__content {max-height: 0;max-width: 0;overflow: hidden;text-align: left;background-color: #f0f8ff;}#sk-container-id-4 div.sk-toggleable__content pre {margin: 0.2em;color: black;border-radius: 0.25em;background-color: #f0f8ff;}#sk-container-id-4 input.sk-toggleable__control:checked~div.sk-toggleable__content {max-height: 200px;max-width: 100%;overflow: auto;}#sk-container-id-4 input.sk-toggleable__control:checked~label.sk-toggleable__label-arrow:before {content: \"▾\";}#sk-container-id-4 div.sk-estimator input.sk-toggleable__control:checked~label.sk-toggleable__label {background-color: #d4ebff;}#sk-container-id-4 div.sk-label input.sk-toggleable__control:checked~label.sk-toggleable__label {background-color: #d4ebff;}#sk-container-id-4 input.sk-hidden--visually {border: 0;clip: rect(1px 1px 1px 1px);clip: rect(1px, 1px, 1px, 1px);height: 1px;margin: -1px;overflow: hidden;padding: 0;position: absolute;width: 1px;}#sk-container-id-4 div.sk-estimator {font-family: monospace;background-color: #f0f8ff;border: 1px dotted black;border-radius: 0.25em;box-sizing: border-box;margin-bottom: 0.5em;}#sk-container-id-4 div.sk-estimator:hover {background-color: #d4ebff;}#sk-container-id-4 div.sk-parallel-item::after {content: \"\";width: 100%;border-bottom: 1px solid gray;flex-grow: 1;}#sk-container-id-4 div.sk-label:hover label.sk-toggleable__label {background-color: #d4ebff;}#sk-container-id-4 div.sk-serial::before {content: \"\";position: absolute;border-left: 1px solid gray;box-sizing: border-box;top: 0;bottom: 0;left: 50%;z-index: 0;}#sk-container-id-4 div.sk-serial {display: flex;flex-direction: column;align-items: center;background-color: white;padding-right: 0.2em;padding-left: 0.2em;position: relative;}#sk-container-id-4 div.sk-item {position: relative;z-index: 1;}#sk-container-id-4 div.sk-parallel {display: flex;align-items: stretch;justify-content: center;background-color: white;position: relative;}#sk-container-id-4 div.sk-item::before, #sk-container-id-4 div.sk-parallel-item::before {content: \"\";position: absolute;border-left: 1px solid gray;box-sizing: border-box;top: 0;bottom: 0;left: 50%;z-index: -1;}#sk-container-id-4 div.sk-parallel-item {display: flex;flex-direction: column;z-index: 1;position: relative;background-color: white;}#sk-container-id-4 div.sk-parallel-item:first-child::after {align-self: flex-end;width: 50%;}#sk-container-id-4 div.sk-parallel-item:last-child::after {align-self: flex-start;width: 50%;}#sk-container-id-4 div.sk-parallel-item:only-child::after {width: 0;}#sk-container-id-4 div.sk-dashed-wrapped {border: 1px dashed gray;margin: 0 0.4em 0.5em 0.4em;box-sizing: border-box;padding-bottom: 0.4em;background-color: white;}#sk-container-id-4 div.sk-label label {font-family: monospace;font-weight: bold;display: inline-block;line-height: 1.2em;}#sk-container-id-4 div.sk-label-container {text-align: center;}#sk-container-id-4 div.sk-container {/* jupyter's `normalize.less` sets `[hidden] { display: none; }` but bootstrap.min.css set `[hidden] { display: none !important; }` so we also need the `!important` here to be able to override the default hidden behavior on the sphinx rendered scikit-learn.org. See: https://github.com/scikit-learn/scikit-learn/issues/21755 */display: inline-block !important;position: relative;}#sk-container-id-4 div.sk-text-repr-fallback {display: none;}</style><div id=\"sk-container-id-4\" class=\"sk-top-container\"><div class=\"sk-text-repr-fallback\"><pre>RandomForestRegressor()</pre><b>In a Jupyter environment, please rerun this cell to show the HTML representation or trust the notebook. <br />On GitHub, the HTML representation is unable to render, please try loading this page with nbviewer.org.</b></div><div class=\"sk-container\" hidden><div class=\"sk-item\"><div class=\"sk-estimator sk-toggleable\"><input class=\"sk-toggleable__control sk-hidden--visually\" id=\"sk-estimator-id-4\" type=\"checkbox\" checked><label for=\"sk-estimator-id-4\" class=\"sk-toggleable__label sk-toggleable__label-arrow\">RandomForestRegressor</label><div class=\"sk-toggleable__content\"><pre>RandomForestRegressor()</pre></div></div></div></div></div>"
            ]
          },
          "metadata": {},
          "execution_count": 58
        }
      ],
      "source": [
        "rf = RandomForestRegressor()\n",
        "rf.fit(X_train, y_train)"
      ]
    },
    {
      "cell_type": "code",
      "execution_count": 59,
      "metadata": {
        "id": "mCYZNkfo5WtE",
        "colab": {
          "base_uri": "https://localhost:8080/"
        },
        "outputId": "1c797b6e-0ee2-4834-bb35-ee588a25ddfe"
      },
      "outputs": [
        {
          "output_type": "stream",
          "name": "stdout",
          "text": [
            "111.71482726445892\n"
          ]
        }
      ],
      "source": [
        "y_rf_pred = rf.predict(X_test)\n",
        "mse_rf = mean_squared_error(y_test, y_rf_pred)\n",
        "print(mse_rf)"
      ]
    },
    {
      "cell_type": "markdown",
      "metadata": {
        "id": "LtU4rhF_d1Hk"
      },
      "source": [
        "#### 4.4 b) Reduced Tree"
      ]
    },
    {
      "cell_type": "code",
      "execution_count": 60,
      "metadata": {
        "id": "preriGylXIxq",
        "colab": {
          "base_uri": "https://localhost:8080/",
          "height": 92
        },
        "outputId": "36eda4ec-d1f9-475c-f0dc-d3a7f8bf4aba"
      },
      "outputs": [
        {
          "output_type": "execute_result",
          "data": {
            "text/plain": [
              "RandomForestRegressor(max_depth=5, max_features='sqrt', n_estimators=300,\n",
              "                      random_state=18)"
            ],
            "text/html": [
              "<style>#sk-container-id-5 {color: black;background-color: white;}#sk-container-id-5 pre{padding: 0;}#sk-container-id-5 div.sk-toggleable {background-color: white;}#sk-container-id-5 label.sk-toggleable__label {cursor: pointer;display: block;width: 100%;margin-bottom: 0;padding: 0.3em;box-sizing: border-box;text-align: center;}#sk-container-id-5 label.sk-toggleable__label-arrow:before {content: \"▸\";float: left;margin-right: 0.25em;color: #696969;}#sk-container-id-5 label.sk-toggleable__label-arrow:hover:before {color: black;}#sk-container-id-5 div.sk-estimator:hover label.sk-toggleable__label-arrow:before {color: black;}#sk-container-id-5 div.sk-toggleable__content {max-height: 0;max-width: 0;overflow: hidden;text-align: left;background-color: #f0f8ff;}#sk-container-id-5 div.sk-toggleable__content pre {margin: 0.2em;color: black;border-radius: 0.25em;background-color: #f0f8ff;}#sk-container-id-5 input.sk-toggleable__control:checked~div.sk-toggleable__content {max-height: 200px;max-width: 100%;overflow: auto;}#sk-container-id-5 input.sk-toggleable__control:checked~label.sk-toggleable__label-arrow:before {content: \"▾\";}#sk-container-id-5 div.sk-estimator input.sk-toggleable__control:checked~label.sk-toggleable__label {background-color: #d4ebff;}#sk-container-id-5 div.sk-label input.sk-toggleable__control:checked~label.sk-toggleable__label {background-color: #d4ebff;}#sk-container-id-5 input.sk-hidden--visually {border: 0;clip: rect(1px 1px 1px 1px);clip: rect(1px, 1px, 1px, 1px);height: 1px;margin: -1px;overflow: hidden;padding: 0;position: absolute;width: 1px;}#sk-container-id-5 div.sk-estimator {font-family: monospace;background-color: #f0f8ff;border: 1px dotted black;border-radius: 0.25em;box-sizing: border-box;margin-bottom: 0.5em;}#sk-container-id-5 div.sk-estimator:hover {background-color: #d4ebff;}#sk-container-id-5 div.sk-parallel-item::after {content: \"\";width: 100%;border-bottom: 1px solid gray;flex-grow: 1;}#sk-container-id-5 div.sk-label:hover label.sk-toggleable__label {background-color: #d4ebff;}#sk-container-id-5 div.sk-serial::before {content: \"\";position: absolute;border-left: 1px solid gray;box-sizing: border-box;top: 0;bottom: 0;left: 50%;z-index: 0;}#sk-container-id-5 div.sk-serial {display: flex;flex-direction: column;align-items: center;background-color: white;padding-right: 0.2em;padding-left: 0.2em;position: relative;}#sk-container-id-5 div.sk-item {position: relative;z-index: 1;}#sk-container-id-5 div.sk-parallel {display: flex;align-items: stretch;justify-content: center;background-color: white;position: relative;}#sk-container-id-5 div.sk-item::before, #sk-container-id-5 div.sk-parallel-item::before {content: \"\";position: absolute;border-left: 1px solid gray;box-sizing: border-box;top: 0;bottom: 0;left: 50%;z-index: -1;}#sk-container-id-5 div.sk-parallel-item {display: flex;flex-direction: column;z-index: 1;position: relative;background-color: white;}#sk-container-id-5 div.sk-parallel-item:first-child::after {align-self: flex-end;width: 50%;}#sk-container-id-5 div.sk-parallel-item:last-child::after {align-self: flex-start;width: 50%;}#sk-container-id-5 div.sk-parallel-item:only-child::after {width: 0;}#sk-container-id-5 div.sk-dashed-wrapped {border: 1px dashed gray;margin: 0 0.4em 0.5em 0.4em;box-sizing: border-box;padding-bottom: 0.4em;background-color: white;}#sk-container-id-5 div.sk-label label {font-family: monospace;font-weight: bold;display: inline-block;line-height: 1.2em;}#sk-container-id-5 div.sk-label-container {text-align: center;}#sk-container-id-5 div.sk-container {/* jupyter's `normalize.less` sets `[hidden] { display: none; }` but bootstrap.min.css set `[hidden] { display: none !important; }` so we also need the `!important` here to be able to override the default hidden behavior on the sphinx rendered scikit-learn.org. See: https://github.com/scikit-learn/scikit-learn/issues/21755 */display: inline-block !important;position: relative;}#sk-container-id-5 div.sk-text-repr-fallback {display: none;}</style><div id=\"sk-container-id-5\" class=\"sk-top-container\"><div class=\"sk-text-repr-fallback\"><pre>RandomForestRegressor(max_depth=5, max_features=&#x27;sqrt&#x27;, n_estimators=300,\n",
              "                      random_state=18)</pre><b>In a Jupyter environment, please rerun this cell to show the HTML representation or trust the notebook. <br />On GitHub, the HTML representation is unable to render, please try loading this page with nbviewer.org.</b></div><div class=\"sk-container\" hidden><div class=\"sk-item\"><div class=\"sk-estimator sk-toggleable\"><input class=\"sk-toggleable__control sk-hidden--visually\" id=\"sk-estimator-id-5\" type=\"checkbox\" checked><label for=\"sk-estimator-id-5\" class=\"sk-toggleable__label sk-toggleable__label-arrow\">RandomForestRegressor</label><div class=\"sk-toggleable__content\"><pre>RandomForestRegressor(max_depth=5, max_features=&#x27;sqrt&#x27;, n_estimators=300,\n",
              "                      random_state=18)</pre></div></div></div></div></div>"
            ]
          },
          "metadata": {},
          "execution_count": 60
        }
      ],
      "source": [
        "reduce_rf =  RandomForestRegressor(n_estimators = 300,\n",
        "                                   max_features = 'sqrt',\n",
        "                                   max_depth = 5,\n",
        "                                   random_state = 18)\n",
        "reduce_rf.fit(X_train, y_train)"
      ]
    },
    {
      "cell_type": "code",
      "execution_count": 61,
      "metadata": {
        "id": "3Bh_n-mlXXt0",
        "colab": {
          "base_uri": "https://localhost:8080/"
        },
        "outputId": "aff4ac1b-ff8d-4c61-db59-52e2d747f55f"
      },
      "outputs": [
        {
          "output_type": "stream",
          "name": "stdout",
          "text": [
            "MSE test:  106.60184568911598\n",
            "RMSE:  10.324816980901694\n"
          ]
        }
      ],
      "source": [
        "pred_reduced_rf = reduce_rf.predict(X_test)\n",
        "mse_reducedRF = mean_squared_error(y_test, pred_reduced_rf)\n",
        "rmse_reducedRF = mse_reducedRF**.5\n",
        "print(\"MSE test: \", mse_reducedRF)\n",
        "print(\"RMSE: \", rmse_reducedRF)"
      ]
    },
    {
      "cell_type": "markdown",
      "metadata": {
        "id": "ui5ulR7weabn"
      },
      "source": [
        "#### 4.4 c) Hyper Parameters Tuning\n",
        "Grid Search 5-fold Cross Validation"
      ]
    },
    {
      "cell_type": "code",
      "execution_count": 62,
      "metadata": {
        "id": "B83TvQc8XbzY"
      },
      "outputs": [],
      "source": [
        "# from datetime import datetime\n",
        "# ## Define Grid\n",
        "# grid = {\n",
        "#     'n_estimators': [100,200,300,400,500],\n",
        "#     'max_features': ['sqrt','log2'],\n",
        "#     'max_depth' : [1,2,3,4,5,6,7,8,9,10],\n",
        "#     'random_state' : [18]\n",
        "# }\n",
        "# ## show start time\n",
        "# print(datetime.now())\n",
        "# ## Grid Search function\n",
        "# CV_rfr = GridSearchCV(estimator=RandomForestRegressor(), param_grid=grid, cv= 5)\n",
        "# CV_rfr.fit(X_train, y_train)\n",
        "# ## show end time\n",
        "# print(datetime.now())"
      ]
    },
    {
      "cell_type": "code",
      "execution_count": 63,
      "metadata": {
        "id": "YqW8Jv1xYirr"
      },
      "outputs": [],
      "source": [
        "# CV_rfr.best_params_"
      ]
    },
    {
      "cell_type": "markdown",
      "metadata": {
        "id": "pDbtJ_2EeziH"
      },
      "source": [
        "We commented out since the tuning needs long time to fit all models.  \n",
        "The best parameter after tuning is:   \n",
        ">\n",
        "             {'max_depth': 9,  \n",
        "              'max_features': 'log2',  \n",
        "              'n_estimators': 300,  \n",
        "              'random_state': 18}"
      ]
    },
    {
      "cell_type": "code",
      "execution_count": 64,
      "metadata": {
        "id": "zU_iSEYzXkHh",
        "colab": {
          "base_uri": "https://localhost:8080/"
        },
        "outputId": "026d4a55-0efc-4964-a899-3e1af7fcfe8c"
      },
      "outputs": [
        {
          "output_type": "stream",
          "name": "stdout",
          "text": [
            "MSE validation:  106.49244391038334\n",
            "RMSE:  10.319517620043262\n"
          ]
        }
      ],
      "source": [
        "rf_tuning = RandomForestRegressor(n_estimators = 300,\n",
        "                                  max_features = 'log2',\n",
        "                                  max_depth = 9,\n",
        "                                  random_state = 18)\n",
        "rf_tuning.fit(X_train, y_train)\n",
        "\n",
        "pred_tuning = rf_tuning.predict(X_test)\n",
        "mse_tuning = mean_squared_error(y_test, pred_tuning)\n",
        "\n",
        "print(\"MSE validation: \", mse_tuning)\n",
        "print(\"RMSE: \", mse_tuning**.5)"
      ]
    },
    {
      "cell_type": "markdown",
      "metadata": {
        "id": "o_DZDnTggII_"
      },
      "source": [
        "# 5. Ensemble Method: Boosting"
      ]
    },
    {
      "cell_type": "markdown",
      "metadata": {
        "id": "skqxjN5R89VN"
      },
      "source": [
        "## 5.1 XGBoost"
      ]
    },
    {
      "cell_type": "code",
      "execution_count": 65,
      "metadata": {
        "id": "LAuNtbn49cfH"
      },
      "outputs": [],
      "source": [
        "import xgboost as xgb\n",
        "from xgboost import XGBRegressor"
      ]
    },
    {
      "cell_type": "markdown",
      "metadata": {
        "id": "3bnsBHyUgU4f"
      },
      "source": [
        "#### 5.1 a) Basic Model"
      ]
    },
    {
      "cell_type": "code",
      "execution_count": 66,
      "metadata": {
        "id": "z85-T_A_-B2S",
        "colab": {
          "base_uri": "https://localhost:8080/"
        },
        "outputId": "b3d44da8-f234-4b64-c5cf-392fa633b2d7"
      },
      "outputs": [
        {
          "output_type": "stream",
          "name": "stdout",
          "text": [
            "MSE Test:  128.98109382393304\n",
            "RMSE:  11.356984363110351\n"
          ]
        }
      ],
      "source": [
        "xgb = XGBRegressor()\n",
        "xgb.fit(X_train, y_train)\n",
        "pred_xgb = xgb.predict(X_test)\n",
        "mse_xgb = mean_squared_error(y_test, pred_xgb)\n",
        "rmse_xgb = mse_xgb**.5\n",
        "print(\"MSE Test: \", mse_xgb)\n",
        "print(\"RMSE: \", rmse_xgb)"
      ]
    },
    {
      "cell_type": "markdown",
      "metadata": {
        "id": "0EYUt8M4gmhW"
      },
      "source": [
        "#### 5.1 b) Hyper Parameters Tuning\n",
        "Randomized Search 5-fold Cross Validation"
      ]
    },
    {
      "cell_type": "code",
      "execution_count": 67,
      "metadata": {
        "id": "tTdaFu9EpPJH",
        "colab": {
          "base_uri": "https://localhost:8080/",
          "height": 243
        },
        "outputId": "a7ae4c4c-fc27-473c-cfd7-a7a930de1382"
      },
      "outputs": [
        {
          "output_type": "stream",
          "name": "stdout",
          "text": [
            "Fitting 5 folds for each of 50 candidates, totalling 250 fits\n"
          ]
        },
        {
          "output_type": "stream",
          "name": "stderr",
          "text": [
            "/usr/local/lib/python3.10/dist-packages/xgboost/core.py:160: UserWarning:\n",
            "\n",
            "[23:17:27] WARNING: /workspace/src/learner.cc:742: \n",
            "Parameters: { \"max_features\", \"min_samples_leaf\", \"min_samples_split\" } are not used.\n",
            "\n",
            "\n"
          ]
        },
        {
          "output_type": "execute_result",
          "data": {
            "text/plain": [
              "RandomizedSearchCV(cv=5,\n",
              "                   estimator=XGBRegressor(base_score=None, booster=None,\n",
              "                                          callbacks=None,\n",
              "                                          colsample_bylevel=None,\n",
              "                                          colsample_bynode=None,\n",
              "                                          colsample_bytree=None, device=None,\n",
              "                                          early_stopping_rounds=None,\n",
              "                                          enable_categorical=False,\n",
              "                                          eval_metric=None, feature_types=None,\n",
              "                                          gamma=None, grow_policy=None,\n",
              "                                          importance_type=None,\n",
              "                                          interaction_constraints=None,\n",
              "                                          learning_rate=...\n",
              "                   param_distributions={'learning_rate': array([0.01, 0.02, 0.03, 0.04, 0.05, 0.06, 0.07, 0.08, 0.09]),\n",
              "                                        'max_depth': range(3, 10, 2),\n",
              "                                        'max_features': ['auto', 'sqrt',\n",
              "                                                         'log2'],\n",
              "                                        'min_samples_leaf': range(1, 5),\n",
              "                                        'min_samples_split': range(2, 10),\n",
              "                                        'n_estimators': [100, 500, 1000],\n",
              "                                        'subsample': array([0.5, 0.6, 0.7, 0.8, 0.9])},\n",
              "                   random_state=42,\n",
              "                   scoring=make_scorer(mean_squared_error, greater_is_better=False),\n",
              "                   verbose=3)"
            ],
            "text/html": [
              "<style>#sk-container-id-6 {color: black;background-color: white;}#sk-container-id-6 pre{padding: 0;}#sk-container-id-6 div.sk-toggleable {background-color: white;}#sk-container-id-6 label.sk-toggleable__label {cursor: pointer;display: block;width: 100%;margin-bottom: 0;padding: 0.3em;box-sizing: border-box;text-align: center;}#sk-container-id-6 label.sk-toggleable__label-arrow:before {content: \"▸\";float: left;margin-right: 0.25em;color: #696969;}#sk-container-id-6 label.sk-toggleable__label-arrow:hover:before {color: black;}#sk-container-id-6 div.sk-estimator:hover label.sk-toggleable__label-arrow:before {color: black;}#sk-container-id-6 div.sk-toggleable__content {max-height: 0;max-width: 0;overflow: hidden;text-align: left;background-color: #f0f8ff;}#sk-container-id-6 div.sk-toggleable__content pre {margin: 0.2em;color: black;border-radius: 0.25em;background-color: #f0f8ff;}#sk-container-id-6 input.sk-toggleable__control:checked~div.sk-toggleable__content {max-height: 200px;max-width: 100%;overflow: auto;}#sk-container-id-6 input.sk-toggleable__control:checked~label.sk-toggleable__label-arrow:before {content: \"▾\";}#sk-container-id-6 div.sk-estimator input.sk-toggleable__control:checked~label.sk-toggleable__label {background-color: #d4ebff;}#sk-container-id-6 div.sk-label input.sk-toggleable__control:checked~label.sk-toggleable__label {background-color: #d4ebff;}#sk-container-id-6 input.sk-hidden--visually {border: 0;clip: rect(1px 1px 1px 1px);clip: rect(1px, 1px, 1px, 1px);height: 1px;margin: -1px;overflow: hidden;padding: 0;position: absolute;width: 1px;}#sk-container-id-6 div.sk-estimator {font-family: monospace;background-color: #f0f8ff;border: 1px dotted black;border-radius: 0.25em;box-sizing: border-box;margin-bottom: 0.5em;}#sk-container-id-6 div.sk-estimator:hover {background-color: #d4ebff;}#sk-container-id-6 div.sk-parallel-item::after {content: \"\";width: 100%;border-bottom: 1px solid gray;flex-grow: 1;}#sk-container-id-6 div.sk-label:hover label.sk-toggleable__label {background-color: #d4ebff;}#sk-container-id-6 div.sk-serial::before {content: \"\";position: absolute;border-left: 1px solid gray;box-sizing: border-box;top: 0;bottom: 0;left: 50%;z-index: 0;}#sk-container-id-6 div.sk-serial {display: flex;flex-direction: column;align-items: center;background-color: white;padding-right: 0.2em;padding-left: 0.2em;position: relative;}#sk-container-id-6 div.sk-item {position: relative;z-index: 1;}#sk-container-id-6 div.sk-parallel {display: flex;align-items: stretch;justify-content: center;background-color: white;position: relative;}#sk-container-id-6 div.sk-item::before, #sk-container-id-6 div.sk-parallel-item::before {content: \"\";position: absolute;border-left: 1px solid gray;box-sizing: border-box;top: 0;bottom: 0;left: 50%;z-index: -1;}#sk-container-id-6 div.sk-parallel-item {display: flex;flex-direction: column;z-index: 1;position: relative;background-color: white;}#sk-container-id-6 div.sk-parallel-item:first-child::after {align-self: flex-end;width: 50%;}#sk-container-id-6 div.sk-parallel-item:last-child::after {align-self: flex-start;width: 50%;}#sk-container-id-6 div.sk-parallel-item:only-child::after {width: 0;}#sk-container-id-6 div.sk-dashed-wrapped {border: 1px dashed gray;margin: 0 0.4em 0.5em 0.4em;box-sizing: border-box;padding-bottom: 0.4em;background-color: white;}#sk-container-id-6 div.sk-label label {font-family: monospace;font-weight: bold;display: inline-block;line-height: 1.2em;}#sk-container-id-6 div.sk-label-container {text-align: center;}#sk-container-id-6 div.sk-container {/* jupyter's `normalize.less` sets `[hidden] { display: none; }` but bootstrap.min.css set `[hidden] { display: none !important; }` so we also need the `!important` here to be able to override the default hidden behavior on the sphinx rendered scikit-learn.org. See: https://github.com/scikit-learn/scikit-learn/issues/21755 */display: inline-block !important;position: relative;}#sk-container-id-6 div.sk-text-repr-fallback {display: none;}</style><div id=\"sk-container-id-6\" class=\"sk-top-container\"><div class=\"sk-text-repr-fallback\"><pre>RandomizedSearchCV(cv=5,\n",
              "                   estimator=XGBRegressor(base_score=None, booster=None,\n",
              "                                          callbacks=None,\n",
              "                                          colsample_bylevel=None,\n",
              "                                          colsample_bynode=None,\n",
              "                                          colsample_bytree=None, device=None,\n",
              "                                          early_stopping_rounds=None,\n",
              "                                          enable_categorical=False,\n",
              "                                          eval_metric=None, feature_types=None,\n",
              "                                          gamma=None, grow_policy=None,\n",
              "                                          importance_type=None,\n",
              "                                          interaction_constraints=None,\n",
              "                                          learning_rate=...\n",
              "                   param_distributions={&#x27;learning_rate&#x27;: array([0.01, 0.02, 0.03, 0.04, 0.05, 0.06, 0.07, 0.08, 0.09]),\n",
              "                                        &#x27;max_depth&#x27;: range(3, 10, 2),\n",
              "                                        &#x27;max_features&#x27;: [&#x27;auto&#x27;, &#x27;sqrt&#x27;,\n",
              "                                                         &#x27;log2&#x27;],\n",
              "                                        &#x27;min_samples_leaf&#x27;: range(1, 5),\n",
              "                                        &#x27;min_samples_split&#x27;: range(2, 10),\n",
              "                                        &#x27;n_estimators&#x27;: [100, 500, 1000],\n",
              "                                        &#x27;subsample&#x27;: array([0.5, 0.6, 0.7, 0.8, 0.9])},\n",
              "                   random_state=42,\n",
              "                   scoring=make_scorer(mean_squared_error, greater_is_better=False),\n",
              "                   verbose=3)</pre><b>In a Jupyter environment, please rerun this cell to show the HTML representation or trust the notebook. <br />On GitHub, the HTML representation is unable to render, please try loading this page with nbviewer.org.</b></div><div class=\"sk-container\" hidden><div class=\"sk-item sk-dashed-wrapped\"><div class=\"sk-label-container\"><div class=\"sk-label sk-toggleable\"><input class=\"sk-toggleable__control sk-hidden--visually\" id=\"sk-estimator-id-6\" type=\"checkbox\" ><label for=\"sk-estimator-id-6\" class=\"sk-toggleable__label sk-toggleable__label-arrow\">RandomizedSearchCV</label><div class=\"sk-toggleable__content\"><pre>RandomizedSearchCV(cv=5,\n",
              "                   estimator=XGBRegressor(base_score=None, booster=None,\n",
              "                                          callbacks=None,\n",
              "                                          colsample_bylevel=None,\n",
              "                                          colsample_bynode=None,\n",
              "                                          colsample_bytree=None, device=None,\n",
              "                                          early_stopping_rounds=None,\n",
              "                                          enable_categorical=False,\n",
              "                                          eval_metric=None, feature_types=None,\n",
              "                                          gamma=None, grow_policy=None,\n",
              "                                          importance_type=None,\n",
              "                                          interaction_constraints=None,\n",
              "                                          learning_rate=...\n",
              "                   param_distributions={&#x27;learning_rate&#x27;: array([0.01, 0.02, 0.03, 0.04, 0.05, 0.06, 0.07, 0.08, 0.09]),\n",
              "                                        &#x27;max_depth&#x27;: range(3, 10, 2),\n",
              "                                        &#x27;max_features&#x27;: [&#x27;auto&#x27;, &#x27;sqrt&#x27;,\n",
              "                                                         &#x27;log2&#x27;],\n",
              "                                        &#x27;min_samples_leaf&#x27;: range(1, 5),\n",
              "                                        &#x27;min_samples_split&#x27;: range(2, 10),\n",
              "                                        &#x27;n_estimators&#x27;: [100, 500, 1000],\n",
              "                                        &#x27;subsample&#x27;: array([0.5, 0.6, 0.7, 0.8, 0.9])},\n",
              "                   random_state=42,\n",
              "                   scoring=make_scorer(mean_squared_error, greater_is_better=False),\n",
              "                   verbose=3)</pre></div></div></div><div class=\"sk-parallel\"><div class=\"sk-parallel-item\"><div class=\"sk-item\"><div class=\"sk-label-container\"><div class=\"sk-label sk-toggleable\"><input class=\"sk-toggleable__control sk-hidden--visually\" id=\"sk-estimator-id-7\" type=\"checkbox\" ><label for=\"sk-estimator-id-7\" class=\"sk-toggleable__label sk-toggleable__label-arrow\">estimator: XGBRegressor</label><div class=\"sk-toggleable__content\"><pre>XGBRegressor(base_score=None, booster=None, callbacks=None,\n",
              "             colsample_bylevel=None, colsample_bynode=None,\n",
              "             colsample_bytree=None, device=None, early_stopping_rounds=None,\n",
              "             enable_categorical=False, eval_metric=None, feature_types=None,\n",
              "             gamma=None, grow_policy=None, importance_type=None,\n",
              "             interaction_constraints=None, learning_rate=None, max_bin=None,\n",
              "             max_cat_threshold=None, max_cat_to_onehot=None,\n",
              "             max_delta_step=None, max_depth=None, max_leaves=None,\n",
              "             min_child_weight=None, missing=nan, monotone_constraints=None,\n",
              "             multi_strategy=None, n_estimators=None, n_jobs=None,\n",
              "             num_parallel_tree=None, random_state=None, ...)</pre></div></div></div><div class=\"sk-serial\"><div class=\"sk-item\"><div class=\"sk-estimator sk-toggleable\"><input class=\"sk-toggleable__control sk-hidden--visually\" id=\"sk-estimator-id-8\" type=\"checkbox\" ><label for=\"sk-estimator-id-8\" class=\"sk-toggleable__label sk-toggleable__label-arrow\">XGBRegressor</label><div class=\"sk-toggleable__content\"><pre>XGBRegressor(base_score=None, booster=None, callbacks=None,\n",
              "             colsample_bylevel=None, colsample_bynode=None,\n",
              "             colsample_bytree=None, device=None, early_stopping_rounds=None,\n",
              "             enable_categorical=False, eval_metric=None, feature_types=None,\n",
              "             gamma=None, grow_policy=None, importance_type=None,\n",
              "             interaction_constraints=None, learning_rate=None, max_bin=None,\n",
              "             max_cat_threshold=None, max_cat_to_onehot=None,\n",
              "             max_delta_step=None, max_depth=None, max_leaves=None,\n",
              "             min_child_weight=None, missing=nan, monotone_constraints=None,\n",
              "             multi_strategy=None, n_estimators=None, n_jobs=None,\n",
              "             num_parallel_tree=None, random_state=None, ...)</pre></div></div></div></div></div></div></div></div></div></div>"
            ]
          },
          "metadata": {},
          "execution_count": 67
        }
      ],
      "source": [
        "from sklearn.model_selection import RandomizedSearchCV\n",
        "param_grid = {\n",
        "    'learning_rate': np.arange(0.01, 0.1, 0.01),\n",
        "    'n_estimators': [100, 500, 1000],\n",
        "    'max_depth': range(3, 10, 2),\n",
        "    'subsample': np.arange(0.5, 1, 0.1),\n",
        "    'max_features': ['auto', 'sqrt', 'log2'],\n",
        "    'min_samples_split': range(2, 10),\n",
        "    'min_samples_leaf': range(1, 5)\n",
        "}\n",
        "\n",
        "# Instantiate XGBoost regressor\n",
        "xgb_tuning = XGBRegressor()\n",
        "\n",
        "# Create RandomizedSearchCV object\n",
        "random_search = RandomizedSearchCV(\n",
        "    xgb_tuning,\n",
        "    param_distributions=param_grid,\n",
        "    n_iter=50,\n",
        "    scoring=make_scorer(mean_squared_error, greater_is_better=False),\n",
        "    cv=5,\n",
        "    verbose=3,\n",
        "    n_jobs=-1,\n",
        "    random_state=42\n",
        ")\n",
        "\n",
        "# Fit RandomizedSearchCV object to data\n",
        "random_search.fit(X_train, y_train)"
      ]
    },
    {
      "cell_type": "code",
      "execution_count": 68,
      "metadata": {
        "id": "lg4btqxkg_77",
        "colab": {
          "base_uri": "https://localhost:8080/"
        },
        "outputId": "296b866a-8769-49eb-9609-305eb47723a4"
      },
      "outputs": [
        {
          "output_type": "stream",
          "name": "stdout",
          "text": [
            "Best hyperparameters:  {'subsample': 0.7999999999999999, 'n_estimators': 100, 'min_samples_split': 4, 'min_samples_leaf': 1, 'max_features': 'log2', 'max_depth': 5, 'learning_rate': 0.01}\n",
            "Best mean squared error:  94.4042349019479\n"
          ]
        }
      ],
      "source": [
        "print(\"Best hyperparameters: \", random_search.best_params_)\n",
        "print(\"Best mean squared error: \", abs(random_search.best_score_))"
      ]
    },
    {
      "cell_type": "markdown",
      "metadata": {
        "id": "QMcvoOKtBOY6"
      },
      "source": [
        "## 5.2 Gradient Boosting"
      ]
    },
    {
      "cell_type": "code",
      "execution_count": 69,
      "metadata": {
        "id": "8pis234Vo-QF"
      },
      "outputs": [],
      "source": [
        "from sklearn.ensemble import GradientBoostingRegressor"
      ]
    },
    {
      "cell_type": "markdown",
      "metadata": {
        "id": "eAF2xpUIiBJS"
      },
      "source": [
        "#### 5.2 a) Basic Model"
      ]
    },
    {
      "cell_type": "code",
      "execution_count": 70,
      "metadata": {
        "id": "yp0HciM8pCHR",
        "colab": {
          "base_uri": "https://localhost:8080/"
        },
        "outputId": "aaad859f-08cf-411b-d100-13f874d58f87"
      },
      "outputs": [
        {
          "output_type": "stream",
          "name": "stdout",
          "text": [
            "MSE test:  140.97453853625564\n",
            "RMSE:  11.87326991760297\n"
          ]
        }
      ],
      "source": [
        "gbm = GradientBoostingRegressor()\n",
        "gbm.fit(X_train, y_train)\n",
        "pred_gbm = gbm.predict(X_test)\n",
        "mse_gbm = mean_squared_error(y_test, pred_gbm)\n",
        "rmse_gbm = mse_gbm**.5\n",
        "print(\"MSE test: \", mse_gbm)\n",
        "print(\"RMSE: \", rmse_gbm)"
      ]
    },
    {
      "cell_type": "markdown",
      "metadata": {
        "id": "UU5z-CpGiRco"
      },
      "source": [
        "#### 5.2 b) Reduced Model"
      ]
    },
    {
      "cell_type": "code",
      "execution_count": 71,
      "metadata": {
        "id": "8-JAG8k1BcQQ",
        "colab": {
          "base_uri": "https://localhost:8080/"
        },
        "outputId": "36a2d865-b181-40ec-9f4b-b6ea416310a8"
      },
      "outputs": [
        {
          "output_type": "stream",
          "name": "stdout",
          "text": [
            "MSE Test:  107.76476955024071\n",
            "RMSE:  10.38098114583784\n"
          ]
        }
      ],
      "source": [
        "gbm_reduced = GradientBoostingRegressor(\n",
        "    n_estimators=20,\n",
        "    learning_rate=0.1,\n",
        "    max_depth=1 )\n",
        "gbm_reduced.fit(X_train, y_train)\n",
        "pred_gbm_reduced = gbm_reduced.predict(X_test)\n",
        "mse_gbm_reduced = mean_squared_error(y_test, pred_gbm_reduced)\n",
        "rmse_gbm_reduced = mse_gbm_reduced**.5\n",
        "print(\"MSE Test: \", mse_gbm_reduced)\n",
        "print(\"RMSE: \", rmse_gbm_reduced)"
      ]
    },
    {
      "cell_type": "markdown",
      "metadata": {
        "id": "Avtp6kJciu4L"
      },
      "source": [
        "#### 5.2 c) Hyper Parameters Tuning\n",
        "Randomized Search 5-fold Cross Validation"
      ]
    },
    {
      "cell_type": "code",
      "execution_count": 72,
      "metadata": {
        "id": "Hdu3loU-i4nf",
        "colab": {
          "base_uri": "https://localhost:8080/",
          "height": 136
        },
        "outputId": "9977c46d-19db-4e4c-d4ec-8eab69a1eec5"
      },
      "outputs": [
        {
          "output_type": "stream",
          "name": "stdout",
          "text": [
            "Fitting 5 folds for each of 50 candidates, totalling 250 fits\n"
          ]
        },
        {
          "output_type": "execute_result",
          "data": {
            "text/plain": [
              "RandomizedSearchCV(cv=5, estimator=GradientBoostingRegressor(), n_iter=50,\n",
              "                   n_jobs=-1,\n",
              "                   param_distributions={'learning_rate': array([0.01, 0.02, 0.03, 0.04, 0.05, 0.06, 0.07, 0.08, 0.09]),\n",
              "                                        'max_depth': range(3, 10, 2),\n",
              "                                        'max_features': ['auto', 'sqrt',\n",
              "                                                         'log2'],\n",
              "                                        'min_samples_leaf': range(1, 5),\n",
              "                                        'min_samples_split': range(2, 10),\n",
              "                                        'n_estimators': [100, 500, 1000],\n",
              "                                        'subsample': array([0.5, 0.6, 0.7, 0.8, 0.9])},\n",
              "                   random_state=42,\n",
              "                   scoring=make_scorer(mean_squared_error, greater_is_better=False),\n",
              "                   verbose=3)"
            ],
            "text/html": [
              "<style>#sk-container-id-7 {color: black;background-color: white;}#sk-container-id-7 pre{padding: 0;}#sk-container-id-7 div.sk-toggleable {background-color: white;}#sk-container-id-7 label.sk-toggleable__label {cursor: pointer;display: block;width: 100%;margin-bottom: 0;padding: 0.3em;box-sizing: border-box;text-align: center;}#sk-container-id-7 label.sk-toggleable__label-arrow:before {content: \"▸\";float: left;margin-right: 0.25em;color: #696969;}#sk-container-id-7 label.sk-toggleable__label-arrow:hover:before {color: black;}#sk-container-id-7 div.sk-estimator:hover label.sk-toggleable__label-arrow:before {color: black;}#sk-container-id-7 div.sk-toggleable__content {max-height: 0;max-width: 0;overflow: hidden;text-align: left;background-color: #f0f8ff;}#sk-container-id-7 div.sk-toggleable__content pre {margin: 0.2em;color: black;border-radius: 0.25em;background-color: #f0f8ff;}#sk-container-id-7 input.sk-toggleable__control:checked~div.sk-toggleable__content {max-height: 200px;max-width: 100%;overflow: auto;}#sk-container-id-7 input.sk-toggleable__control:checked~label.sk-toggleable__label-arrow:before {content: \"▾\";}#sk-container-id-7 div.sk-estimator input.sk-toggleable__control:checked~label.sk-toggleable__label {background-color: #d4ebff;}#sk-container-id-7 div.sk-label input.sk-toggleable__control:checked~label.sk-toggleable__label {background-color: #d4ebff;}#sk-container-id-7 input.sk-hidden--visually {border: 0;clip: rect(1px 1px 1px 1px);clip: rect(1px, 1px, 1px, 1px);height: 1px;margin: -1px;overflow: hidden;padding: 0;position: absolute;width: 1px;}#sk-container-id-7 div.sk-estimator {font-family: monospace;background-color: #f0f8ff;border: 1px dotted black;border-radius: 0.25em;box-sizing: border-box;margin-bottom: 0.5em;}#sk-container-id-7 div.sk-estimator:hover {background-color: #d4ebff;}#sk-container-id-7 div.sk-parallel-item::after {content: \"\";width: 100%;border-bottom: 1px solid gray;flex-grow: 1;}#sk-container-id-7 div.sk-label:hover label.sk-toggleable__label {background-color: #d4ebff;}#sk-container-id-7 div.sk-serial::before {content: \"\";position: absolute;border-left: 1px solid gray;box-sizing: border-box;top: 0;bottom: 0;left: 50%;z-index: 0;}#sk-container-id-7 div.sk-serial {display: flex;flex-direction: column;align-items: center;background-color: white;padding-right: 0.2em;padding-left: 0.2em;position: relative;}#sk-container-id-7 div.sk-item {position: relative;z-index: 1;}#sk-container-id-7 div.sk-parallel {display: flex;align-items: stretch;justify-content: center;background-color: white;position: relative;}#sk-container-id-7 div.sk-item::before, #sk-container-id-7 div.sk-parallel-item::before {content: \"\";position: absolute;border-left: 1px solid gray;box-sizing: border-box;top: 0;bottom: 0;left: 50%;z-index: -1;}#sk-container-id-7 div.sk-parallel-item {display: flex;flex-direction: column;z-index: 1;position: relative;background-color: white;}#sk-container-id-7 div.sk-parallel-item:first-child::after {align-self: flex-end;width: 50%;}#sk-container-id-7 div.sk-parallel-item:last-child::after {align-self: flex-start;width: 50%;}#sk-container-id-7 div.sk-parallel-item:only-child::after {width: 0;}#sk-container-id-7 div.sk-dashed-wrapped {border: 1px dashed gray;margin: 0 0.4em 0.5em 0.4em;box-sizing: border-box;padding-bottom: 0.4em;background-color: white;}#sk-container-id-7 div.sk-label label {font-family: monospace;font-weight: bold;display: inline-block;line-height: 1.2em;}#sk-container-id-7 div.sk-label-container {text-align: center;}#sk-container-id-7 div.sk-container {/* jupyter's `normalize.less` sets `[hidden] { display: none; }` but bootstrap.min.css set `[hidden] { display: none !important; }` so we also need the `!important` here to be able to override the default hidden behavior on the sphinx rendered scikit-learn.org. See: https://github.com/scikit-learn/scikit-learn/issues/21755 */display: inline-block !important;position: relative;}#sk-container-id-7 div.sk-text-repr-fallback {display: none;}</style><div id=\"sk-container-id-7\" class=\"sk-top-container\"><div class=\"sk-text-repr-fallback\"><pre>RandomizedSearchCV(cv=5, estimator=GradientBoostingRegressor(), n_iter=50,\n",
              "                   n_jobs=-1,\n",
              "                   param_distributions={&#x27;learning_rate&#x27;: array([0.01, 0.02, 0.03, 0.04, 0.05, 0.06, 0.07, 0.08, 0.09]),\n",
              "                                        &#x27;max_depth&#x27;: range(3, 10, 2),\n",
              "                                        &#x27;max_features&#x27;: [&#x27;auto&#x27;, &#x27;sqrt&#x27;,\n",
              "                                                         &#x27;log2&#x27;],\n",
              "                                        &#x27;min_samples_leaf&#x27;: range(1, 5),\n",
              "                                        &#x27;min_samples_split&#x27;: range(2, 10),\n",
              "                                        &#x27;n_estimators&#x27;: [100, 500, 1000],\n",
              "                                        &#x27;subsample&#x27;: array([0.5, 0.6, 0.7, 0.8, 0.9])},\n",
              "                   random_state=42,\n",
              "                   scoring=make_scorer(mean_squared_error, greater_is_better=False),\n",
              "                   verbose=3)</pre><b>In a Jupyter environment, please rerun this cell to show the HTML representation or trust the notebook. <br />On GitHub, the HTML representation is unable to render, please try loading this page with nbviewer.org.</b></div><div class=\"sk-container\" hidden><div class=\"sk-item sk-dashed-wrapped\"><div class=\"sk-label-container\"><div class=\"sk-label sk-toggleable\"><input class=\"sk-toggleable__control sk-hidden--visually\" id=\"sk-estimator-id-9\" type=\"checkbox\" ><label for=\"sk-estimator-id-9\" class=\"sk-toggleable__label sk-toggleable__label-arrow\">RandomizedSearchCV</label><div class=\"sk-toggleable__content\"><pre>RandomizedSearchCV(cv=5, estimator=GradientBoostingRegressor(), n_iter=50,\n",
              "                   n_jobs=-1,\n",
              "                   param_distributions={&#x27;learning_rate&#x27;: array([0.01, 0.02, 0.03, 0.04, 0.05, 0.06, 0.07, 0.08, 0.09]),\n",
              "                                        &#x27;max_depth&#x27;: range(3, 10, 2),\n",
              "                                        &#x27;max_features&#x27;: [&#x27;auto&#x27;, &#x27;sqrt&#x27;,\n",
              "                                                         &#x27;log2&#x27;],\n",
              "                                        &#x27;min_samples_leaf&#x27;: range(1, 5),\n",
              "                                        &#x27;min_samples_split&#x27;: range(2, 10),\n",
              "                                        &#x27;n_estimators&#x27;: [100, 500, 1000],\n",
              "                                        &#x27;subsample&#x27;: array([0.5, 0.6, 0.7, 0.8, 0.9])},\n",
              "                   random_state=42,\n",
              "                   scoring=make_scorer(mean_squared_error, greater_is_better=False),\n",
              "                   verbose=3)</pre></div></div></div><div class=\"sk-parallel\"><div class=\"sk-parallel-item\"><div class=\"sk-item\"><div class=\"sk-label-container\"><div class=\"sk-label sk-toggleable\"><input class=\"sk-toggleable__control sk-hidden--visually\" id=\"sk-estimator-id-10\" type=\"checkbox\" ><label for=\"sk-estimator-id-10\" class=\"sk-toggleable__label sk-toggleable__label-arrow\">estimator: GradientBoostingRegressor</label><div class=\"sk-toggleable__content\"><pre>GradientBoostingRegressor()</pre></div></div></div><div class=\"sk-serial\"><div class=\"sk-item\"><div class=\"sk-estimator sk-toggleable\"><input class=\"sk-toggleable__control sk-hidden--visually\" id=\"sk-estimator-id-11\" type=\"checkbox\" ><label for=\"sk-estimator-id-11\" class=\"sk-toggleable__label sk-toggleable__label-arrow\">GradientBoostingRegressor</label><div class=\"sk-toggleable__content\"><pre>GradientBoostingRegressor()</pre></div></div></div></div></div></div></div></div></div></div>"
            ]
          },
          "metadata": {},
          "execution_count": 72
        }
      ],
      "source": [
        "param_grid = {\n",
        "    'learning_rate': np.arange(0.01, 0.1, 0.01),\n",
        "    'n_estimators': [100, 500, 1000],\n",
        "    'max_depth': range(3, 10, 2),\n",
        "    'subsample': np.arange(0.5, 1, 0.1),\n",
        "    'max_features': ['auto', 'sqrt', 'log2'],\n",
        "    'min_samples_split': range(2, 10),\n",
        "    'min_samples_leaf': range(1, 5)\n",
        "}\n",
        "\n",
        "# Instantiate Gradient Boosting regressor\n",
        "gbm = GradientBoostingRegressor()\n",
        "\n",
        "# Create RandomizedSearchCV object\n",
        "random_search = RandomizedSearchCV(\n",
        "    gbm,\n",
        "    param_distributions=param_grid,\n",
        "    n_iter=50,\n",
        "    scoring=make_scorer(mean_squared_error, greater_is_better=False),\n",
        "    cv=5,\n",
        "    verbose=3,\n",
        "    n_jobs=-1,\n",
        "    random_state=42\n",
        ")\n",
        "\n",
        "# Fit RandomizedSearchCV object to data\n",
        "random_search.fit(X_train, y_train)"
      ]
    },
    {
      "cell_type": "code",
      "execution_count": 73,
      "metadata": {
        "id": "3mM_zxG-i7sw",
        "colab": {
          "base_uri": "https://localhost:8080/"
        },
        "outputId": "1a71d21b-d03d-42f8-a827-83cff23236f4"
      },
      "outputs": [
        {
          "output_type": "stream",
          "name": "stdout",
          "text": [
            "Best hyperparameters:  {'subsample': 0.8999999999999999, 'n_estimators': 100, 'min_samples_split': 5, 'min_samples_leaf': 3, 'max_features': 'sqrt', 'max_depth': 3, 'learning_rate': 0.01}\n",
            "Best mean squared error:  96.00920722949677\n"
          ]
        }
      ],
      "source": [
        "print(\"Best hyperparameters: \", random_search.best_params_)\n",
        "print(\"Best mean squared error: \", abs(random_search.best_score_))"
      ]
    },
    {
      "cell_type": "markdown",
      "metadata": {
        "id": "T3TL-4aWU4Zf"
      },
      "source": [
        "# 6. Summarization"
      ]
    },
    {
      "cell_type": "code",
      "execution_count": 74,
      "metadata": {
        "id": "46PtFdZpU-Wy",
        "colab": {
          "base_uri": "https://localhost:8080/",
          "height": 530
        },
        "outputId": "a944da4b-53de-4219-8111-5c7573e6270f"
      },
      "outputs": [
        {
          "output_type": "display_data",
          "data": {
            "text/plain": [
              "<Figure size 640x480 with 1 Axes>"
            ],
            "image/png": "[encoded data removed]"
          },
          "metadata": {}
        }
      ],
      "source": [
        "x_axis = ['Linear Regression', 'Decision Tree', 'Random Forest', 'K-NN', 'XGBoost', 'Gradient Boosting']\n",
        "y_axis = [114.83, 100.15, 106.49, 114.34, 96.52, 95.78]\n",
        "\n",
        "plt.ylim(85, 120)\n",
        "plt.xticks(rotation=40)\n",
        "plt.bar(x_axis, y_axis)\n",
        "plt.axhline(y = 102.76, color = 'r', linestyle = '--')\n",
        "\n",
        "plt.title('Model Evaluation')\n",
        "#plt.xlabel('Methods')\n",
        "plt.ylabel('MSE Test')\n",
        "plt.savefig(\"ModelEval.png\")\n",
        "plt.show()"
      ]
    },
    {
      "cell_type": "markdown",
      "source": [
        "# 7. Prediction on specific players"
      ],
      "metadata": {
        "id": "a6UVKKlDthVW"
      }
    },
    {
      "cell_type": "code",
      "source": [
        "players = pd.read_csv(\"/content/drive/Shareddrives/BA476 Team 4/SpecificPlayers.csv\")\n",
        "players"
      ],
      "metadata": {
        "id": "u_D0uPsItf2t",
        "colab": {
          "base_uri": "https://localhost:8080/",
          "height": 214
        },
        "outputId": "1a338251-667c-47ee-f466-bc12277fd93b"
      },
      "execution_count": 75,
      "outputs": [
        {
          "output_type": "execute_result",
          "data": {
            "text/plain": [
              "        Name  EffectiveFieldGoalsPercentage-CBB  FreeThrowsPercentage-CBB  \\\n",
              "0  Greg Oden                               61.6                     0.628   \n",
              "1  Zach Edey                               60.7                     0.734   \n",
              "\n",
              "   OffensiveRebounds-CBB  ThreePointersPercentage-CBB  \\\n",
              "0                    113                            0   \n",
              "1                    186                            0   \n",
              "\n",
              "   FantasyPointsFanDuel-CBB  Assists-CBB  Games-CBB  \\\n",
              "0                     280.2           21         32   \n",
              "1                     250.2           52         34   \n",
              "\n",
              "   TrueShootingPercentage-CBB  PersonalFouls-CBB  ...  Turnovers-CBB  \\\n",
              "0                        62.6                 87  ...              2   \n",
              "1                        63.9                 56  ...             77   \n",
              "\n",
              "   ThreePointersMade-CBB  BlockedShots-CBB  TwoPointersPercentage-CBB  \\\n",
              "0                      0               105                      0.616   \n",
              "1                      0                72                      0.607   \n",
              "\n",
              "   FieldGoalsPercentage-CBB  FreeThrowsMade-CBB  TwoPointersMade-CBB  \\\n",
              "0                     0.616                 123                  189   \n",
              "1                     0.607                 177                  290   \n",
              "\n",
              "   FantasyPoints-CBB  Minutes-CBB  PlayerEfficiencyRating-NBA  \n",
              "0              340.4          240                        18.1  \n",
              "1              334.3          504       N/A HE JUST GRADUATED  \n",
              "\n",
              "[2 rows x 32 columns]"
            ],
            "text/html": [
              "\n",
              "  <div id=\"df-04f9e7e1-0d89-4b29-871c-f4bcd3cd628b\" class=\"colab-df-container\">\n",
              "    <div>\n",
              "<style scoped>\n",
              "    .dataframe tbody tr th:only-of-type {\n",
              "        vertical-align: middle;\n",
              "    }\n",
              "\n",
              "    .dataframe tbody tr th {\n",
              "        vertical-align: top;\n",
              "    }\n",
              "\n",
              "    .dataframe thead th {\n",
              "        text-align: right;\n",
              "    }\n",
              "</style>\n",
              "<table border=\"1\" class=\"dataframe\">\n",
              "  <thead>\n",
              "    <tr style=\"text-align: right;\">\n",
              "      <th></th>\n",
              "      <th>Name</th>\n",
              "      <th>EffectiveFieldGoalsPercentage-CBB</th>\n",
              "      <th>FreeThrowsPercentage-CBB</th>\n",
              "      <th>OffensiveRebounds-CBB</th>\n",
              "      <th>ThreePointersPercentage-CBB</th>\n",
              "      <th>FantasyPointsFanDuel-CBB</th>\n",
              "      <th>Assists-CBB</th>\n",
              "      <th>Games-CBB</th>\n",
              "      <th>TrueShootingPercentage-CBB</th>\n",
              "      <th>PersonalFouls-CBB</th>\n",
              "      <th>...</th>\n",
              "      <th>Turnovers-CBB</th>\n",
              "      <th>ThreePointersMade-CBB</th>\n",
              "      <th>BlockedShots-CBB</th>\n",
              "      <th>TwoPointersPercentage-CBB</th>\n",
              "      <th>FieldGoalsPercentage-CBB</th>\n",
              "      <th>FreeThrowsMade-CBB</th>\n",
              "      <th>TwoPointersMade-CBB</th>\n",
              "      <th>FantasyPoints-CBB</th>\n",
              "      <th>Minutes-CBB</th>\n",
              "      <th>PlayerEfficiencyRating-NBA</th>\n",
              "    </tr>\n",
              "  </thead>\n",
              "  <tbody>\n",
              "    <tr>\n",
              "      <th>0</th>\n",
              "      <td>Greg Oden</td>\n",
              "      <td>61.6</td>\n",
              "      <td>0.628</td>\n",
              "      <td>113</td>\n",
              "      <td>0</td>\n",
              "      <td>280.2</td>\n",
              "      <td>21</td>\n",
              "      <td>32</td>\n",
              "      <td>62.6</td>\n",
              "      <td>87</td>\n",
              "      <td>...</td>\n",
              "      <td>2</td>\n",
              "      <td>0</td>\n",
              "      <td>105</td>\n",
              "      <td>0.616</td>\n",
              "      <td>0.616</td>\n",
              "      <td>123</td>\n",
              "      <td>189</td>\n",
              "      <td>340.4</td>\n",
              "      <td>240</td>\n",
              "      <td>18.1</td>\n",
              "    </tr>\n",
              "    <tr>\n",
              "      <th>1</th>\n",
              "      <td>Zach Edey</td>\n",
              "      <td>60.7</td>\n",
              "      <td>0.734</td>\n",
              "      <td>186</td>\n",
              "      <td>0</td>\n",
              "      <td>250.2</td>\n",
              "      <td>52</td>\n",
              "      <td>34</td>\n",
              "      <td>63.9</td>\n",
              "      <td>56</td>\n",
              "      <td>...</td>\n",
              "      <td>77</td>\n",
              "      <td>0</td>\n",
              "      <td>72</td>\n",
              "      <td>0.607</td>\n",
              "      <td>0.607</td>\n",
              "      <td>177</td>\n",
              "      <td>290</td>\n",
              "      <td>334.3</td>\n",
              "      <td>504</td>\n",
              "      <td>N/A HE JUST GRADUATED</td>\n",
              "    </tr>\n",
              "  </tbody>\n",
              "</table>\n",
              "<p>2 rows × 32 columns</p>\n",
              "</div>\n",
              "    <div class=\"colab-df-buttons\">\n",
              "\n",
              "  <div class=\"colab-df-container\">\n",
              "    <button class=\"colab-df-convert\" onclick=\"convertToInteractive('df-04f9e7e1-0d89-4b29-871c-f4bcd3cd628b')\"\n",
              "            title=\"Convert this dataframe to an interactive table.\"\n",
              "            style=\"display:none;\">\n",
              "\n",
              "  <svg xmlns=\"http://www.w3.org/2000/svg\" height=\"24px\" viewBox=\"0 -960 960 960\">\n",
              "    <path d=\"M120-120v-720h720v720H120Zm60-500h600v-160H180v160Zm220 220h160v-160H400v160Zm0 220h160v-160H400v160ZM180-400h160v-160H180v160Zm440 0h160v-160H620v160ZM180-180h160v-160H180v160Zm440 0h160v-160H620v160Z\"/>\n",
              "  </svg>\n",
              "    </button>\n",
              "\n",
              "  <style>\n",
              "    .colab-df-container {\n",
              "      display:flex;\n",
              "      gap: 12px;\n",
              "    }\n",
              "\n",
              "    .colab-df-convert {\n",
              "      background-color: #E8F0FE;\n",
              "      border: none;\n",
              "      border-radius: 50%;\n",
              "      cursor: pointer;\n",
              "      display: none;\n",
              "      fill: #1967D2;\n",
              "      height: 32px;\n",
              "      padding: 0 0 0 0;\n",
              "      width: 32px;\n",
              "    }\n",
              "\n",
              "    .colab-df-convert:hover {\n",
              "      background-color: #E2EBFA;\n",
              "      box-shadow: 0px 1px 2px rgba(60, 64, 67, 0.3), 0px 1px 3px 1px rgba(60, 64, 67, 0.15);\n",
              "      fill: #174EA6;\n",
              "    }\n",
              "\n",
              "    .colab-df-buttons div {\n",
              "      margin-bottom: 4px;\n",
              "    }\n",
              "\n",
              "    [theme=dark] .colab-df-convert {\n",
              "      background-color: #3B4455;\n",
              "      fill: #D2E3FC;\n",
              "    }\n",
              "\n",
              "    [theme=dark] .colab-df-convert:hover {\n",
              "      background-color: #434B5C;\n",
              "      box-shadow: 0px 1px 3px 1px rgba(0, 0, 0, 0.15);\n",
              "      filter: drop-shadow(0px 1px 2px rgba(0, 0, 0, 0.3));\n",
              "      fill: #FFFFFF;\n",
              "    }\n",
              "  </style>\n",
              "\n",
              "    <script>\n",
              "      const buttonEl =\n",
              "        document.querySelector('#df-04f9e7e1-0d89-4b29-871c-f4bcd3cd628b button.colab-df-convert');\n",
              "      buttonEl.style.display =\n",
              "        google.colab.kernel.accessAllowed ? 'block' : 'none';\n",
              "\n",
              "      async function convertToInteractive(key) {\n",
              "        const element = document.querySelector('#df-04f9e7e1-0d89-4b29-871c-f4bcd3cd628b');\n",
              "        const dataTable =\n",
              "          await google.colab.kernel.invokeFunction('convertToInteractive',\n",
              "                                                    [key], {});\n",
              "        if (!dataTable) return;\n",
              "\n",
              "        const docLinkHtml = 'Like what you see? Visit the ' +\n",
              "          '<a target=\"_blank\" href=https://colab.research.google.com/notebooks/data_table.ipynb>data table notebook</a>'\n",
              "          + ' to learn more about interactive tables.';\n",
              "        element.innerHTML = '';\n",
              "        dataTable['output_type'] = 'display_data';\n",
              "        await google.colab.output.renderOutput(dataTable, element);\n",
              "        const docLink = document.createElement('div');\n",
              "        docLink.innerHTML = docLinkHtml;\n",
              "        element.appendChild(docLink);\n",
              "      }\n",
              "    </script>\n",
              "  </div>\n",
              "\n",
              "\n",
              "<div id=\"df-38d31041-c6d0-4dfb-99c6-b9198b7f8606\">\n",
              "  <button class=\"colab-df-quickchart\" onclick=\"quickchart('df-38d31041-c6d0-4dfb-99c6-b9198b7f8606')\"\n",
              "            title=\"Suggest charts\"\n",
              "            style=\"display:none;\">\n",
              "\n",
              "<svg xmlns=\"http://www.w3.org/2000/svg\" height=\"24px\"viewBox=\"0 0 24 24\"\n",
              "     width=\"24px\">\n",
              "    <g>\n",
              "        <path d=\"M19 3H5c-1.1 0-2 .9-2 2v14c0 1.1.9 2 2 2h14c1.1 0 2-.9 2-2V5c0-1.1-.9-2-2-2zM9 17H7v-7h2v7zm4 0h-2V7h2v10zm4 0h-2v-4h2v4z\"/>\n",
              "    </g>\n",
              "</svg>\n",
              "  </button>\n",
              "\n",
              "<style>\n",
              "  .colab-df-quickchart {\n",
              "      --bg-color: #E8F0FE;\n",
              "      --fill-color: #1967D2;\n",
              "      --hover-bg-color: #E2EBFA;\n",
              "      --hover-fill-color: #174EA6;\n",
              "      --disabled-fill-color: #AAA;\n",
              "      --disabled-bg-color: #DDD;\n",
              "  }\n",
              "\n",
              "  [theme=dark] .colab-df-quickchart {\n",
              "      --bg-color: #3B4455;\n",
              "      --fill-color: #D2E3FC;\n",
              "      --hover-bg-color: #434B5C;\n",
              "      --hover-fill-color: #FFFFFF;\n",
              "      --disabled-bg-color: #3B4455;\n",
              "      --disabled-fill-color: #666;\n",
              "  }\n",
              "\n",
              "  .colab-df-quickchart {\n",
              "    background-color: var(--bg-color);\n",
              "    border: none;\n",
              "    border-radius: 50%;\n",
              "    cursor: pointer;\n",
              "    display: none;\n",
              "    fill: var(--fill-color);\n",
              "    height: 32px;\n",
              "    padding: 0;\n",
              "    width: 32px;\n",
              "  }\n",
              "\n",
              "  .colab-df-quickchart:hover {\n",
              "    background-color: var(--hover-bg-color);\n",
              "    box-shadow: 0 1px 2px rgba(60, 64, 67, 0.3), 0 1px 3px 1px rgba(60, 64, 67, 0.15);\n",
              "    fill: var(--button-hover-fill-color);\n",
              "  }\n",
              "\n",
              "  .colab-df-quickchart-complete:disabled,\n",
              "  .colab-df-quickchart-complete:disabled:hover {\n",
              "    background-color: var(--disabled-bg-color);\n",
              "    fill: var(--disabled-fill-color);\n",
              "    box-shadow: none;\n",
              "  }\n",
              "\n",
              "  .colab-df-spinner {\n",
              "    border: 2px solid var(--fill-color);\n",
              "    border-color: transparent;\n",
              "    border-bottom-color: var(--fill-color);\n",
              "    animation:\n",
              "      spin 1s steps(1) infinite;\n",
              "  }\n",
              "\n",
              "  @keyframes spin {\n",
              "    0% {\n",
              "      border-color: transparent;\n",
              "      border-bottom-color: var(--fill-color);\n",
              "      border-left-color: var(--fill-color);\n",
              "    }\n",
              "    20% {\n",
              "      border-color: transparent;\n",
              "      border-left-color: var(--fill-color);\n",
              "      border-top-color: var(--fill-color);\n",
              "    }\n",
              "    30% {\n",
              "      border-color: transparent;\n",
              "      border-left-color: var(--fill-color);\n",
              "      border-top-color: var(--fill-color);\n",
              "      border-right-color: var(--fill-color);\n",
              "    }\n",
              "    40% {\n",
              "      border-color: transparent;\n",
              "      border-right-color: var(--fill-color);\n",
              "      border-top-color: var(--fill-color);\n",
              "    }\n",
              "    60% {\n",
              "      border-color: transparent;\n",
              "      border-right-color: var(--fill-color);\n",
              "    }\n",
              "    80% {\n",
              "      border-color: transparent;\n",
              "      border-right-color: var(--fill-color);\n",
              "      border-bottom-color: var(--fill-color);\n",
              "    }\n",
              "    90% {\n",
              "      border-color: transparent;\n",
              "      border-bottom-color: var(--fill-color);\n",
              "    }\n",
              "  }\n",
              "</style>\n",
              "\n",
              "  <script>\n",
              "    async function quickchart(key) {\n",
              "      const quickchartButtonEl =\n",
              "        document.querySelector('#' + key + ' button');\n",
              "      quickchartButtonEl.disabled = true;  // To prevent multiple clicks.\n",
              "      quickchartButtonEl.classList.add('colab-df-spinner');\n",
              "      try {\n",
              "        const charts = await google.colab.kernel.invokeFunction(\n",
              "            'suggestCharts', [key], {});\n",
              "      } catch (error) {\n",
              "        console.error('Error during call to suggestCharts:', error);\n",
              "      }\n",
              "      quickchartButtonEl.classList.remove('colab-df-spinner');\n",
              "      quickchartButtonEl.classList.add('colab-df-quickchart-complete');\n",
              "    }\n",
              "    (() => {\n",
              "      let quickchartButtonEl =\n",
              "        document.querySelector('#df-38d31041-c6d0-4dfb-99c6-b9198b7f8606 button');\n",
              "      quickchartButtonEl.style.display =\n",
              "        google.colab.kernel.accessAllowed ? 'block' : 'none';\n",
              "    })();\n",
              "  </script>\n",
              "</div>\n",
              "    </div>\n",
              "  </div>\n"
            ]
          },
          "metadata": {},
          "execution_count": 75
        }
      ]
    },
    {
      "cell_type": "code",
      "source": [
        "y_true = players.iloc[:, -1]\n",
        "X_player = players.iloc[:, 1: -1]"
      ],
      "metadata": {
        "id": "HIcgo8kWuMWy"
      },
      "execution_count": 76,
      "outputs": []
    },
    {
      "cell_type": "code",
      "source": [
        "y_true"
      ],
      "metadata": {
        "id": "ZzNu1bpF0K6C",
        "colab": {
          "base_uri": "https://localhost:8080/"
        },
        "outputId": "b91dcfdd-e7c0-4099-93a4-0bb05e042148"
      },
      "execution_count": 77,
      "outputs": [
        {
          "output_type": "execute_result",
          "data": {
            "text/plain": [
              "0                     18.1\n",
              "1    N/A HE JUST GRADUATED\n",
              "Name: PlayerEfficiencyRating-NBA, dtype: object"
            ]
          },
          "metadata": {},
          "execution_count": 77
        }
      ]
    },
    {
      "cell_type": "code",
      "source": [
        "best_model = GradientBoostingRegressor(subsample = 0.7,\n",
        "                                     n_estimators = 100,\n",
        "                                     min_samples_split = 9,\n",
        "                                     min_samples_leaf = 3,\n",
        "                                     max_features = 'log2',\n",
        "                                     max_depth = 5,\n",
        "                                     learning_rate = 0.01)\n",
        "best_model.fit(X_train, y_train)\n",
        "pred_best = best_model.predict(X_player)\n",
        "\n",
        "print(\"Prediction on 2 players' performation: \", pred_best)\n"
      ],
      "metadata": {
        "id": "NQnAmIft1N1E",
        "colab": {
          "base_uri": "https://localhost:8080/"
        },
        "outputId": "92fc1f15-0b1c-460e-a216-c1b4118615f1"
      },
      "execution_count": 78,
      "outputs": [
        {
          "output_type": "stream",
          "name": "stdout",
          "text": [
            "Prediction on 2 players' performation:  [11.53046762 12.58228617]\n"
          ]
        }
      ]
    }
  ],
  "metadata": {
    "colab": {
      "provenance": []
    },
    "gpuClass": "standard",
    "kernelspec": {
      "display_name": "Python 3",
      "language": "python",
      "name": "python3"
    },
    "language_info": {
      "codemirror_mode": {
        "name": "ipython",
        "version": 3
      },
      "file_extension": ".py",
      "mimetype": "text/x-python",
      "name": "python",
      "nbconvert_exporter": "python",
      "pygments_lexer": "ipython3",
      "version": "3.7.6"
    }
  },
  "nbformat": 4,
  "nbformat_minor": 0
}